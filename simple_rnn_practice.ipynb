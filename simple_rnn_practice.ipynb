{
  "nbformat": 4,
  "nbformat_minor": 0,
  "metadata": {
    "colab": {
      "name": "rnn_practice.ipynb",
      "provenance": [],
      "authorship_tag": "ABX9TyN1/XuJg9tmwwqYdi3tJeOV",
      "include_colab_link": true
    },
    "kernelspec": {
      "name": "python3",
      "display_name": "Python 3"
    },
    "language_info": {
      "name": "python"
    },
    "accelerator": "GPU"
  },
  "cells": [
    {
      "cell_type": "markdown",
      "metadata": {
        "id": "view-in-github",
        "colab_type": "text"
      },
      "source": [
        "<a href=\"https://colab.research.google.com/github/jamesliao2016/HCDR2018/blob/master/simple_rnn_practice.ipynb\" target=\"_parent\"><img src=\"https://colab.research.google.com/assets/colab-badge.svg\" alt=\"Open In Colab\"/></a>"
      ]
    },
    {
      "cell_type": "code",
      "metadata": {
        "colab": {
          "base_uri": "https://localhost:8080/"
        },
        "id": "YTkyLc9O1PpZ",
        "outputId": "cd0f22d8-cf5a-43a3-8fae-79dedb976976"
      },
      "source": [
        "import tensorflow as tf\n",
        "from tensorflow import keras\n",
        "\n",
        "import numpy as np\n",
        "\n",
        "print(tf.__version__)"
      ],
      "execution_count": null,
      "outputs": [
        {
          "output_type": "stream",
          "name": "stdout",
          "text": [
            "2.6.0\n"
          ]
        }
      ]
    },
    {
      "cell_type": "code",
      "metadata": {
        "id": "wpPBb8312ziZ"
      },
      "source": [
        "import numpy as np\n",
        "\n",
        "import tensorflow_datasets as tfds\n",
        "import tensorflow as tf\n",
        "\n",
        "tfds.disable_progress_bar()"
      ],
      "execution_count": null,
      "outputs": []
    },
    {
      "cell_type": "code",
      "metadata": {
        "id": "H8Dt-A-z3GuH"
      },
      "source": [
        "import matplotlib.pyplot as plt\n",
        "\n",
        "\n",
        "def plot_graphs(history, metric):\n",
        "  plt.plot(history.history[metric])\n",
        "  plt.plot(history.history['val_'+metric], '')\n",
        "  plt.xlabel(\"Epochs\")\n",
        "  plt.ylabel(metric)\n",
        "  plt.legend([metric, 'val_'+metric])"
      ],
      "execution_count": null,
      "outputs": []
    },
    {
      "cell_type": "code",
      "metadata": {
        "id": "vCrouSUv3OBu"
      },
      "source": [
        "# dataset, info = tfds.load('imdb_reviews', with_info=True,\n",
        "#                           as_supervised=True)\n",
        "# train_dataset, test_dataset = dataset['train'], dataset['test']\n",
        "\n",
        "# train_dataset.element_spec"
      ],
      "execution_count": null,
      "outputs": []
    },
    {
      "cell_type": "code",
      "metadata": {
        "colab": {
          "base_uri": "https://localhost:8080/"
        },
        "id": "xKedRefG3a-F",
        "outputId": "626ee3f7-f9e3-4456-b60f-acc7bff49f22"
      },
      "source": [
        "dataset"
      ],
      "execution_count": null,
      "outputs": [
        {
          "output_type": "execute_result",
          "data": {
            "text/plain": [
              "{'test': <PrefetchDataset shapes: ((), ()), types: (tf.string, tf.int64)>,\n",
              " 'train': <PrefetchDataset shapes: ((), ()), types: (tf.string, tf.int64)>,\n",
              " 'unsupervised': <PrefetchDataset shapes: ((), ()), types: (tf.string, tf.int64)>}"
            ]
          },
          "metadata": {},
          "execution_count": 6
        }
      ]
    },
    {
      "cell_type": "code",
      "metadata": {
        "colab": {
          "base_uri": "https://localhost:8080/"
        },
        "id": "J67mk53M3yH5",
        "outputId": "af87d873-971b-424c-c3ab-6b95d1d38711"
      },
      "source": [
        "for example, label in train_dataset.take(5):\n",
        "  print('text: ', example.numpy())\n",
        "  print('label: ', label.numpy())"
      ],
      "execution_count": null,
      "outputs": [
        {
          "output_type": "stream",
          "name": "stdout",
          "text": [
            "text:  b\"This was an absolutely terrible movie. Don't be lured in by Christopher Walken or Michael Ironside. Both are great actors, but this must simply be their worst role in history. Even their great acting could not redeem this movie's ridiculous storyline. This movie is an early nineties US propaganda piece. The most pathetic scenes were those when the Columbian rebels were making their cases for revolutions. Maria Conchita Alonso appeared phony, and her pseudo-love affair with Walken was nothing but a pathetic emotional plug in a movie that was devoid of any real meaning. I am disappointed that there are movies like this, ruining actor's like Christopher Walken's good name. I could barely sit through it.\"\n",
            "label:  0\n",
            "text:  b'I have been known to fall asleep during films, but this is usually due to a combination of things including, really tired, being warm and comfortable on the sette and having just eaten a lot. However on this occasion I fell asleep because the film was rubbish. The plot development was constant. Constantly slow and boring. Things seemed to happen, but with no explanation of what was causing them or why. I admit, I may have missed part of the film, but i watched the majority of it and everything just seemed to happen of its own accord without any real concern for anything else. I cant recommend this film at all.'\n",
            "label:  0\n",
            "text:  b'Mann photographs the Alberta Rocky Mountains in a superb fashion, and Jimmy Stewart and Walter Brennan give enjoyable performances as they always seem to do. <br /><br />But come on Hollywood - a Mountie telling the people of Dawson City, Yukon to elect themselves a marshal (yes a marshal!) and to enforce the law themselves, then gunfighters battling it out on the streets for control of the town? <br /><br />Nothing even remotely resembling that happened on the Canadian side of the border during the Klondike gold rush. Mr. Mann and company appear to have mistaken Dawson City for Deadwood, the Canadian North for the American Wild West.<br /><br />Canadian viewers be prepared for a Reefer Madness type of enjoyable howl with this ludicrous plot, or, to shake your head in disgust.'\n",
            "label:  0\n",
            "text:  b'This is the kind of film for a snowy Sunday afternoon when the rest of the world can go ahead with its own business as you descend into a big arm-chair and mellow for a couple of hours. Wonderful performances from Cher and Nicolas Cage (as always) gently row the plot along. There are no rapids to cross, no dangerous waters, just a warm and witty paddle through New York life at its best. A family film in every sense and one that deserves the praise it received.'\n",
            "label:  1\n",
            "text:  b'As others have mentioned, all the women that go nude in this film are mostly absolutely gorgeous. The plot very ably shows the hypocrisy of the female libido. When men are around they want to be pursued, but when no \"men\" are around, they become the pursuers of a 14 year old boy. And the boy becomes a man really fast (we should all be so lucky at this age!). He then gets up the courage to pursue his true love.'\n",
            "label:  1\n"
          ]
        }
      ]
    },
    {
      "cell_type": "code",
      "metadata": {
        "colab": {
          "base_uri": "https://localhost:8080/"
        },
        "id": "GwGCrkA55cqG",
        "outputId": "a13e3265-bbc6-4148-86eb-d1d2f8e118e3"
      },
      "source": [
        "imdb = keras.datasets.imdb\n",
        "\n",
        "(train_data, train_labels), (test_data, test_labels) = imdb.load_data(num_words=10000)"
      ],
      "execution_count": null,
      "outputs": [
        {
          "output_type": "stream",
          "name": "stdout",
          "text": [
            "Downloading data from https://storage.googleapis.com/tensorflow/tf-keras-datasets/imdb.npz\n",
            "17465344/17464789 [==============================] - 0s 0us/step\n",
            "17473536/17464789 [==============================] - 0s 0us/step\n"
          ]
        }
      ]
    },
    {
      "cell_type": "code",
      "metadata": {
        "colab": {
          "base_uri": "https://localhost:8080/"
        },
        "id": "K25pvJ47HHZ-",
        "outputId": "6ce0f35e-321f-44d0-b86d-e37f7a11cb33"
      },
      "source": [
        "print(\"Training entries: {}, labels: {}\".format(len(train_data), len(train_labels)))"
      ],
      "execution_count": null,
      "outputs": [
        {
          "output_type": "stream",
          "name": "stdout",
          "text": [
            "Training entries: 25000, labels: 25000\n"
          ]
        }
      ]
    },
    {
      "cell_type": "code",
      "metadata": {
        "colab": {
          "base_uri": "https://localhost:8080/"
        },
        "id": "m2i3MwKDHML1",
        "outputId": "8fda8f25-20a9-4abb-fc89-2ece160eb5f6"
      },
      "source": [
        "print(train_data[0])"
      ],
      "execution_count": null,
      "outputs": [
        {
          "output_type": "stream",
          "name": "stdout",
          "text": [
            "[1, 14, 22, 16, 43, 530, 973, 1622, 1385, 65, 458, 4468, 66, 3941, 4, 173, 36, 256, 5, 25, 100, 43, 838, 112, 50, 670, 2, 9, 35, 480, 284, 5, 150, 4, 172, 112, 167, 2, 336, 385, 39, 4, 172, 4536, 1111, 17, 546, 38, 13, 447, 4, 192, 50, 16, 6, 147, 2025, 19, 14, 22, 4, 1920, 4613, 469, 4, 22, 71, 87, 12, 16, 43, 530, 38, 76, 15, 13, 1247, 4, 22, 17, 515, 17, 12, 16, 626, 18, 2, 5, 62, 386, 12, 8, 316, 8, 106, 5, 4, 2223, 5244, 16, 480, 66, 3785, 33, 4, 130, 12, 16, 38, 619, 5, 25, 124, 51, 36, 135, 48, 25, 1415, 33, 6, 22, 12, 215, 28, 77, 52, 5, 14, 407, 16, 82, 2, 8, 4, 107, 117, 5952, 15, 256, 4, 2, 7, 3766, 5, 723, 36, 71, 43, 530, 476, 26, 400, 317, 46, 7, 4, 2, 1029, 13, 104, 88, 4, 381, 15, 297, 98, 32, 2071, 56, 26, 141, 6, 194, 7486, 18, 4, 226, 22, 21, 134, 476, 26, 480, 5, 144, 30, 5535, 18, 51, 36, 28, 224, 92, 25, 104, 4, 226, 65, 16, 38, 1334, 88, 12, 16, 283, 5, 16, 4472, 113, 103, 32, 15, 16, 5345, 19, 178, 32]\n"
          ]
        }
      ]
    },
    {
      "cell_type": "code",
      "metadata": {
        "colab": {
          "base_uri": "https://localhost:8080/"
        },
        "id": "0bP1TOUUHWh2",
        "outputId": "1d8dcac1-44ae-431f-d3eb-a7658e3bb30b"
      },
      "source": [
        "len(train_data[0]), len(train_data[1])"
      ],
      "execution_count": null,
      "outputs": [
        {
          "output_type": "execute_result",
          "data": {
            "text/plain": [
              "(218, 189)"
            ]
          },
          "metadata": {},
          "execution_count": 14
        }
      ]
    },
    {
      "cell_type": "code",
      "metadata": {
        "colab": {
          "base_uri": "https://localhost:8080/"
        },
        "id": "4hWRkQ73HZPW",
        "outputId": "41dbd1f2-d7a5-4504-c32e-d2afeba13a41"
      },
      "source": [
        "# 一个映射单词到整数索引的词典\n",
        "word_index = imdb.get_word_index()\n",
        "\n",
        "# 保留第一个索引\n",
        "word_index = {k:(v+3) for k,v in word_index.items()}\n",
        "word_index[\"<PAD>\"] = 0\n",
        "word_index[\"<START>\"] = 1\n",
        "word_index[\"<UNK>\"] = 2  # unknown\n",
        "word_index[\"<UNUSED>\"] = 3\n",
        "\n",
        "reverse_word_index = dict([(value, key) for (key, value) in word_index.items()])\n",
        "\n",
        "def decode_review(text):\n",
        "    return ' '.join([reverse_word_index.get(i, '?') for i in text])"
      ],
      "execution_count": null,
      "outputs": [
        {
          "output_type": "stream",
          "name": "stdout",
          "text": [
            "Downloading data from https://storage.googleapis.com/tensorflow/tf-keras-datasets/imdb_word_index.json\n",
            "1646592/1641221 [==============================] - 0s 0us/step\n",
            "1654784/1641221 [==============================] - 0s 0us/step\n"
          ]
        }
      ]
    },
    {
      "cell_type": "code",
      "metadata": {
        "colab": {
          "base_uri": "https://localhost:8080/",
          "height": 139
        },
        "id": "Cma2TAvIHix0",
        "outputId": "23a4450b-5525-4cc3-8701-a24247dcf68d"
      },
      "source": [
        "decode_review(train_data[0])"
      ],
      "execution_count": null,
      "outputs": [
        {
          "output_type": "execute_result",
          "data": {
            "application/vnd.google.colaboratory.intrinsic+json": {
              "type": "string"
            },
            "text/plain": [
              "\"<START> this film was just brilliant casting location scenery story direction everyone's really suited the part they played and you could just imagine being there robert <UNK> is an amazing actor and now the same being director <UNK> father came from the same scottish island as myself so i loved the fact there was a real connection with this film the witty remarks throughout the film were great it was just brilliant so much that i bought the film as soon as it was released for <UNK> and would recommend it to everyone to watch and the fly fishing was amazing really cried at the end it was so sad and you know what they say if you cry at a film it must have been good and this definitely was also <UNK> to the two little boy's that played the <UNK> of norman and paul they were just brilliant children are often left out of the <UNK> list i think because the stars that play them all grown up are such a big profile for the whole film but these children are amazing and should be praised for what they have done don't you think the whole story was so lovely because it was true and was someone's life after all that was shared with us all\""
            ]
          },
          "metadata": {},
          "execution_count": 16
        }
      ]
    },
    {
      "cell_type": "code",
      "metadata": {
        "id": "99xCBoF-HmEa"
      },
      "source": [
        "train_data = keras.preprocessing.sequence.pad_sequences(train_data,\n",
        "                                                        value=word_index[\"<PAD>\"],\n",
        "                                                        padding='post',\n",
        "                                                        maxlen=256)\n",
        "\n",
        "test_data = keras.preprocessing.sequence.pad_sequences(test_data,\n",
        "                                                       value=word_index[\"<PAD>\"],\n",
        "                                                       padding='post',\n",
        "                                                       maxlen=256)"
      ],
      "execution_count": null,
      "outputs": []
    },
    {
      "cell_type": "code",
      "metadata": {
        "colab": {
          "base_uri": "https://localhost:8080/"
        },
        "id": "-o3diKsjHzB_",
        "outputId": "12c47572-0abe-44d3-99f9-e8ff0ba44b84"
      },
      "source": [
        "len(train_data[0]), len(train_data[1])"
      ],
      "execution_count": null,
      "outputs": [
        {
          "output_type": "execute_result",
          "data": {
            "text/plain": [
              "(256, 256)"
            ]
          },
          "metadata": {},
          "execution_count": 18
        }
      ]
    },
    {
      "cell_type": "code",
      "metadata": {
        "colab": {
          "base_uri": "https://localhost:8080/"
        },
        "id": "ytP-DsPfH2Un",
        "outputId": "2ea62fc1-d270-4110-ce14-d9d895a05a4f"
      },
      "source": [
        "print(train_data[0])"
      ],
      "execution_count": null,
      "outputs": [
        {
          "output_type": "stream",
          "name": "stdout",
          "text": [
            "[   1   14   22   16   43  530  973 1622 1385   65  458 4468   66 3941\n",
            "    4  173   36  256    5   25  100   43  838  112   50  670    2    9\n",
            "   35  480  284    5  150    4  172  112  167    2  336  385   39    4\n",
            "  172 4536 1111   17  546   38   13  447    4  192   50   16    6  147\n",
            " 2025   19   14   22    4 1920 4613  469    4   22   71   87   12   16\n",
            "   43  530   38   76   15   13 1247    4   22   17  515   17   12   16\n",
            "  626   18    2    5   62  386   12    8  316    8  106    5    4 2223\n",
            " 5244   16  480   66 3785   33    4  130   12   16   38  619    5   25\n",
            "  124   51   36  135   48   25 1415   33    6   22   12  215   28   77\n",
            "   52    5   14  407   16   82    2    8    4  107  117 5952   15  256\n",
            "    4    2    7 3766    5  723   36   71   43  530  476   26  400  317\n",
            "   46    7    4    2 1029   13  104   88    4  381   15  297   98   32\n",
            " 2071   56   26  141    6  194 7486   18    4  226   22   21  134  476\n",
            "   26  480    5  144   30 5535   18   51   36   28  224   92   25  104\n",
            "    4  226   65   16   38 1334   88   12   16  283    5   16 4472  113\n",
            "  103   32   15   16 5345   19  178   32    0    0    0    0    0    0\n",
            "    0    0    0    0    0    0    0    0    0    0    0    0    0    0\n",
            "    0    0    0    0    0    0    0    0    0    0    0    0    0    0\n",
            "    0    0    0    0]\n"
          ]
        }
      ]
    },
    {
      "cell_type": "code",
      "metadata": {
        "colab": {
          "base_uri": "https://localhost:8080/"
        },
        "id": "CsywW_irH6Tq",
        "outputId": "0a8de63b-9acc-4d48-8738-442af41c6ef8"
      },
      "source": [
        "# 输入形状是用于电影评论的词汇数目（10,000 词）\n",
        "vocab_size = 10000\n",
        "\n",
        "model = keras.Sequential()\n",
        "model.add(keras.layers.Embedding(vocab_size, 16))\n",
        "model.add(keras.layers.GlobalAveragePooling1D())\n",
        "model.add(keras.layers.Dense(16, activation='relu'))\n",
        "model.add(keras.layers.Dense(1, activation='sigmoid'))\n",
        "\n",
        "model.summary()"
      ],
      "execution_count": null,
      "outputs": [
        {
          "output_type": "stream",
          "name": "stdout",
          "text": [
            "Model: \"sequential\"\n",
            "_________________________________________________________________\n",
            "Layer (type)                 Output Shape              Param #   \n",
            "=================================================================\n",
            "embedding (Embedding)        (None, None, 16)          160000    \n",
            "_________________________________________________________________\n",
            "global_average_pooling1d (Gl (None, 16)                0         \n",
            "_________________________________________________________________\n",
            "dense (Dense)                (None, 16)                272       \n",
            "_________________________________________________________________\n",
            "dense_1 (Dense)              (None, 1)                 17        \n",
            "=================================================================\n",
            "Total params: 160,289\n",
            "Trainable params: 160,289\n",
            "Non-trainable params: 0\n",
            "_________________________________________________________________\n"
          ]
        }
      ]
    },
    {
      "cell_type": "code",
      "metadata": {
        "id": "OTusdjOYJovL"
      },
      "source": [
        "# Time Series"
      ],
      "execution_count": null,
      "outputs": []
    },
    {
      "cell_type": "code",
      "metadata": {
        "id": "5OCCKjNL-1Xr"
      },
      "source": [
        "def generate_time_series(batch_size, n_steps):\n",
        "  freq1, freq2, offsets1, offsets2 = np.random.rand(4, batch_size,1)\n",
        "  time = np.linspace(0,1,n_steps)\n",
        "  series = 0.5 * np.sin((time - offsets1)*(freq1*10+10))\n",
        "  series += 0.2*np.sin((time - offsets2)*(freq2*20+20))\n",
        "  series += 0.1*(np.random.rand(batch_size,n_steps)-0.5)\n",
        "  return series[..., np.newaxis].astype(np.float32)"
      ],
      "execution_count": null,
      "outputs": []
    },
    {
      "cell_type": "code",
      "metadata": {
        "id": "pW1dAjXbArTi"
      },
      "source": [
        "# np.linspace(0,1,10)"
      ],
      "execution_count": null,
      "outputs": []
    },
    {
      "cell_type": "code",
      "metadata": {
        "id": "cAMNDdxFB7SN"
      },
      "source": [
        "# np.random.rand(4, 1,1)"
      ],
      "execution_count": null,
      "outputs": []
    },
    {
      "cell_type": "code",
      "metadata": {
        "id": "0QoIjASaB-_H"
      },
      "source": [
        "# freq1, freq2, offsets1, offsets2 = np.random.rand(4, 2,1)"
      ],
      "execution_count": null,
      "outputs": []
    },
    {
      "cell_type": "code",
      "metadata": {
        "id": "AjqBL9ZmCUL8"
      },
      "source": [
        "# freq1"
      ],
      "execution_count": null,
      "outputs": []
    },
    {
      "cell_type": "code",
      "metadata": {
        "id": "8F6O0yQGC4ba"
      },
      "source": [
        "# jj=np.linspace(0,1,10) "
      ],
      "execution_count": null,
      "outputs": []
    },
    {
      "cell_type": "code",
      "metadata": {
        "id": "GAEVGb8vEjET"
      },
      "source": [
        "n_steps = 50\n",
        "series = generate_time_series(10000,n_steps+1)\n",
        "X_train, y_train = series[:7000, :n_steps], series[:7000,-1]\n",
        "X_valid, y_valid = series[7000:9000, :n_steps], series[7000:9000,-1]\n",
        "X_test, y_test = series[9000:, :n_steps], series[9000:,-1]"
      ],
      "execution_count": null,
      "outputs": []
    },
    {
      "cell_type": "code",
      "metadata": {
        "id": "MlGDZDADKnbS"
      },
      "source": [
        "# X_train.shape\n",
        "# X_train[0][0]\n",
        "# X_train[0].shape\n",
        "# X_train[0].dtype\n",
        "# X_train[0]"
      ],
      "execution_count": null,
      "outputs": []
    },
    {
      "cell_type": "code",
      "metadata": {
        "colab": {
          "base_uri": "https://localhost:8080/",
          "height": 265
        },
        "id": "OpfwLSNKLdU4",
        "outputId": "18508343-8872-4101-8172-ea69739859ab"
      },
      "source": [
        "import matplotlib.pyplot as plt\n",
        "\n",
        "# data = np.random.randint(3, 7, (10, 1, 1, 80))\n",
        "# newdata = np.squeeze(data) # Shape is now: (10, 80)\n",
        "plt.plot(X_train[0]) # plotting by columns\n",
        "plt.show()"
      ],
      "execution_count": null,
      "outputs": [
        {
          "output_type": "display_data",
          "data": {
            "image/png": "[encoded data removed]",
            "text/plain": [
              "<Figure size 432x288 with 1 Axes>"
            ]
          },
          "metadata": {
            "needs_background": "light"
          }
        }
      ]
    },
    {
      "cell_type": "code",
      "metadata": {
        "id": "w6wI62OEKgNZ"
      },
      "source": [
        "# baseline metrics"
      ],
      "execution_count": null,
      "outputs": []
    },
    {
      "cell_type": "code",
      "metadata": {
        "id": "DVRqqw--My0z"
      },
      "source": [
        "## naive forecasting"
      ],
      "execution_count": null,
      "outputs": []
    },
    {
      "cell_type": "code",
      "metadata": {
        "id": "BAfqgou5GFhM"
      },
      "source": [
        "y_pred = X_valid[:,-1]"
      ],
      "execution_count": null,
      "outputs": []
    },
    {
      "cell_type": "code",
      "metadata": {
        "id": "lMgvQSzsGX4L"
      },
      "source": [
        "# y_pred.shape"
      ],
      "execution_count": null,
      "outputs": []
    },
    {
      "cell_type": "code",
      "metadata": {
        "id": "_n3-o6UqGb-F"
      },
      "source": [
        "# y_valid.shape"
      ],
      "execution_count": null,
      "outputs": []
    },
    {
      "cell_type": "code",
      "metadata": {
        "id": "Tb-fYCHwGi6O"
      },
      "source": [
        "# series.shape"
      ],
      "execution_count": null,
      "outputs": []
    },
    {
      "cell_type": "code",
      "metadata": {
        "colab": {
          "base_uri": "https://localhost:8080/"
        },
        "id": "pNMjypbkGKfv",
        "outputId": "f287e34f-4794-4a4c-cc5f-8f52b4c54f6b"
      },
      "source": [
        "np.mean(keras.losses.mean_squared_error(y_valid,y_pred))"
      ],
      "execution_count": null,
      "outputs": [
        {
          "output_type": "execute_result",
          "data": {
            "text/plain": [
              "0.020641565"
            ]
          },
          "metadata": {},
          "execution_count": 30
        }
      ]
    },
    {
      "cell_type": "code",
      "metadata": {
        "id": "ptEEXPteNA_G"
      },
      "source": [
        "## Fully connected network"
      ],
      "execution_count": null,
      "outputs": []
    },
    {
      "cell_type": "code",
      "metadata": {
        "id": "n-jpr5K0GztQ"
      },
      "source": [
        "model = keras.models.Sequential([keras.layers.Flatten(input_shape=[50,1]),\n",
        "                                keras.layers.Dense(1)])"
      ],
      "execution_count": null,
      "outputs": []
    },
    {
      "cell_type": "code",
      "metadata": {
        "id": "aqCKJUz1IEYa"
      },
      "source": [
        "model.compile(optimizer='adam',\n",
        "                loss=tf.keras.losses.MeanSquaredError(),\n",
        "              metrics=tf.keras.metrics.MeanSquaredError())"
      ],
      "execution_count": null,
      "outputs": []
    },
    {
      "cell_type": "code",
      "metadata": {
        "colab": {
          "base_uri": "https://localhost:8080/"
        },
        "id": "35o-vVTANtB7",
        "outputId": "f6356022-a1ab-4f01-dbf8-9fd9ee0770b8"
      },
      "source": [
        "history = model.fit(X_train, y_train, epochs=50, \n",
        "                    validation_data=(X_valid, y_valid))"
      ],
      "execution_count": null,
      "outputs": [
        {
          "output_type": "stream",
          "name": "stdout",
          "text": [
            "Epoch 1/50\n",
            "219/219 [==============================] - 16s 70ms/step - loss: 0.3501 - mean_squared_error: 0.3501 - val_loss: 0.2450 - val_mean_squared_error: 0.2450\n",
            "Epoch 2/50\n",
            "219/219 [==============================] - 15s 69ms/step - loss: 0.2253 - mean_squared_error: 0.2253 - val_loss: 0.2096 - val_mean_squared_error: 0.2096\n",
            "Epoch 3/50\n",
            "219/219 [==============================] - 15s 69ms/step - loss: 0.1873 - mean_squared_error: 0.1873 - val_loss: 0.1730 - val_mean_squared_error: 0.1730\n",
            "Epoch 4/50\n",
            "219/219 [==============================] - 15s 69ms/step - loss: 0.1552 - mean_squared_error: 0.1552 - val_loss: 0.1489 - val_mean_squared_error: 0.1489\n",
            "Epoch 5/50\n",
            "219/219 [==============================] - 15s 69ms/step - loss: 0.1419 - mean_squared_error: 0.1419 - val_loss: 0.1445 - val_mean_squared_error: 0.1445\n",
            "Epoch 6/50\n",
            "219/219 [==============================] - 15s 69ms/step - loss: 0.1398 - mean_squared_error: 0.1398 - val_loss: 0.1437 - val_mean_squared_error: 0.1437\n",
            "Epoch 7/50\n",
            "219/219 [==============================] - 15s 68ms/step - loss: 0.1402 - mean_squared_error: 0.1402 - val_loss: 0.1437 - val_mean_squared_error: 0.1437\n",
            "Epoch 8/50\n",
            "219/219 [==============================] - 15s 68ms/step - loss: 0.1399 - mean_squared_error: 0.1399 - val_loss: 0.1438 - val_mean_squared_error: 0.1438\n",
            "Epoch 9/50\n",
            "219/219 [==============================] - 15s 68ms/step - loss: 0.1406 - mean_squared_error: 0.1406 - val_loss: 0.1431 - val_mean_squared_error: 0.1431\n",
            "Epoch 10/50\n",
            "219/219 [==============================] - 15s 69ms/step - loss: 0.1394 - mean_squared_error: 0.1394 - val_loss: 0.1430 - val_mean_squared_error: 0.1430\n",
            "Epoch 11/50\n",
            "219/219 [==============================] - 15s 69ms/step - loss: 0.1397 - mean_squared_error: 0.1397 - val_loss: 0.1432 - val_mean_squared_error: 0.1432\n",
            "Epoch 12/50\n",
            "219/219 [==============================] - 15s 68ms/step - loss: 0.1404 - mean_squared_error: 0.1404 - val_loss: 0.1430 - val_mean_squared_error: 0.1430\n",
            "Epoch 13/50\n",
            "219/219 [==============================] - 15s 68ms/step - loss: 0.1397 - mean_squared_error: 0.1397 - val_loss: 0.1432 - val_mean_squared_error: 0.1432\n",
            "Epoch 14/50\n",
            "219/219 [==============================] - 15s 69ms/step - loss: 0.1395 - mean_squared_error: 0.1395 - val_loss: 0.1450 - val_mean_squared_error: 0.1450\n",
            "Epoch 15/50\n",
            "219/219 [==============================] - 15s 70ms/step - loss: 0.1400 - mean_squared_error: 0.1400 - val_loss: 0.1465 - val_mean_squared_error: 0.1465\n",
            "Epoch 16/50\n",
            "219/219 [==============================] - 15s 69ms/step - loss: 0.1398 - mean_squared_error: 0.1398 - val_loss: 0.1457 - val_mean_squared_error: 0.1457\n",
            "Epoch 17/50\n",
            "219/219 [==============================] - 14s 66ms/step - loss: 0.1399 - mean_squared_error: 0.1399 - val_loss: 0.1433 - val_mean_squared_error: 0.1433\n",
            "Epoch 18/50\n",
            "219/219 [==============================] - 15s 68ms/step - loss: 0.1397 - mean_squared_error: 0.1397 - val_loss: 0.1480 - val_mean_squared_error: 0.1480\n",
            "Epoch 19/50\n",
            "219/219 [==============================] - 15s 69ms/step - loss: 0.1398 - mean_squared_error: 0.1398 - val_loss: 0.1442 - val_mean_squared_error: 0.1442\n",
            "Epoch 20/50\n",
            "219/219 [==============================] - 15s 68ms/step - loss: 0.1401 - mean_squared_error: 0.1401 - val_loss: 0.1430 - val_mean_squared_error: 0.1430\n",
            "Epoch 21/50\n",
            "219/219 [==============================] - 15s 68ms/step - loss: 0.1395 - mean_squared_error: 0.1395 - val_loss: 0.1437 - val_mean_squared_error: 0.1437\n",
            "Epoch 22/50\n",
            "219/219 [==============================] - 15s 69ms/step - loss: 0.1402 - mean_squared_error: 0.1402 - val_loss: 0.1436 - val_mean_squared_error: 0.1436\n",
            "Epoch 23/50\n",
            "219/219 [==============================] - 15s 69ms/step - loss: 0.1400 - mean_squared_error: 0.1400 - val_loss: 0.1432 - val_mean_squared_error: 0.1432\n",
            "Epoch 24/50\n",
            "219/219 [==============================] - 15s 69ms/step - loss: 0.1409 - mean_squared_error: 0.1409 - val_loss: 0.1442 - val_mean_squared_error: 0.1442\n",
            "Epoch 25/50\n",
            "219/219 [==============================] - 15s 69ms/step - loss: 0.1400 - mean_squared_error: 0.1400 - val_loss: 0.1444 - val_mean_squared_error: 0.1444\n",
            "Epoch 26/50\n",
            "219/219 [==============================] - 15s 68ms/step - loss: 0.1405 - mean_squared_error: 0.1405 - val_loss: 0.1440 - val_mean_squared_error: 0.1440\n",
            "Epoch 27/50\n",
            "219/219 [==============================] - 15s 69ms/step - loss: 0.1406 - mean_squared_error: 0.1406 - val_loss: 0.1432 - val_mean_squared_error: 0.1432\n",
            "Epoch 28/50\n",
            "219/219 [==============================] - 15s 68ms/step - loss: 0.1397 - mean_squared_error: 0.1397 - val_loss: 0.1434 - val_mean_squared_error: 0.1434\n",
            "Epoch 29/50\n",
            "219/219 [==============================] - 15s 68ms/step - loss: 0.1398 - mean_squared_error: 0.1398 - val_loss: 0.1438 - val_mean_squared_error: 0.1438\n",
            "Epoch 30/50\n",
            "219/219 [==============================] - 15s 69ms/step - loss: 0.1396 - mean_squared_error: 0.1396 - val_loss: 0.1519 - val_mean_squared_error: 0.1519\n",
            "Epoch 31/50\n",
            "219/219 [==============================] - 15s 68ms/step - loss: 0.1399 - mean_squared_error: 0.1399 - val_loss: 0.1455 - val_mean_squared_error: 0.1455\n",
            "Epoch 32/50\n",
            "219/219 [==============================] - 15s 68ms/step - loss: 0.1400 - mean_squared_error: 0.1400 - val_loss: 0.1437 - val_mean_squared_error: 0.1437\n",
            "Epoch 33/50\n",
            "219/219 [==============================] - 15s 69ms/step - loss: 0.1398 - mean_squared_error: 0.1398 - val_loss: 0.1437 - val_mean_squared_error: 0.1437\n",
            "Epoch 34/50\n",
            "219/219 [==============================] - 15s 69ms/step - loss: 0.1394 - mean_squared_error: 0.1394 - val_loss: 0.1431 - val_mean_squared_error: 0.1431\n",
            "Epoch 35/50\n",
            "219/219 [==============================] - 15s 70ms/step - loss: 0.1410 - mean_squared_error: 0.1410 - val_loss: 0.1517 - val_mean_squared_error: 0.1517\n",
            "Epoch 36/50\n",
            "219/219 [==============================] - 15s 70ms/step - loss: 0.1402 - mean_squared_error: 0.1402 - val_loss: 0.1457 - val_mean_squared_error: 0.1457\n",
            "Epoch 37/50\n",
            "219/219 [==============================] - 15s 70ms/step - loss: 0.1401 - mean_squared_error: 0.1401 - val_loss: 0.1433 - val_mean_squared_error: 0.1433\n",
            "Epoch 38/50\n",
            "219/219 [==============================] - 15s 67ms/step - loss: 0.1395 - mean_squared_error: 0.1395 - val_loss: 0.1459 - val_mean_squared_error: 0.1459\n",
            "Epoch 39/50\n",
            "219/219 [==============================] - 15s 70ms/step - loss: 0.1396 - mean_squared_error: 0.1396 - val_loss: 0.1432 - val_mean_squared_error: 0.1432\n",
            "Epoch 40/50\n",
            "219/219 [==============================] - 15s 67ms/step - loss: 0.1405 - mean_squared_error: 0.1405 - val_loss: 0.1463 - val_mean_squared_error: 0.1463\n",
            "Epoch 41/50\n",
            "219/219 [==============================] - 15s 69ms/step - loss: 0.1402 - mean_squared_error: 0.1402 - val_loss: 0.1433 - val_mean_squared_error: 0.1433\n",
            "Epoch 42/50\n",
            "219/219 [==============================] - 15s 68ms/step - loss: 0.1405 - mean_squared_error: 0.1405 - val_loss: 0.1444 - val_mean_squared_error: 0.1444\n",
            "Epoch 43/50\n",
            "219/219 [==============================] - 15s 69ms/step - loss: 0.1403 - mean_squared_error: 0.1403 - val_loss: 0.1454 - val_mean_squared_error: 0.1454\n",
            "Epoch 44/50\n",
            "219/219 [==============================] - 15s 68ms/step - loss: 0.1398 - mean_squared_error: 0.1398 - val_loss: 0.1446 - val_mean_squared_error: 0.1446\n",
            "Epoch 45/50\n",
            "219/219 [==============================] - 15s 68ms/step - loss: 0.1404 - mean_squared_error: 0.1404 - val_loss: 0.1450 - val_mean_squared_error: 0.1450\n",
            "Epoch 46/50\n",
            "219/219 [==============================] - 15s 67ms/step - loss: 0.1404 - mean_squared_error: 0.1404 - val_loss: 0.1430 - val_mean_squared_error: 0.1430\n",
            "Epoch 47/50\n",
            "219/219 [==============================] - 15s 68ms/step - loss: 0.1398 - mean_squared_error: 0.1398 - val_loss: 0.1432 - val_mean_squared_error: 0.1432\n",
            "Epoch 48/50\n",
            "219/219 [==============================] - 14s 66ms/step - loss: 0.1409 - mean_squared_error: 0.1409 - val_loss: 0.1434 - val_mean_squared_error: 0.1434\n",
            "Epoch 49/50\n",
            "219/219 [==============================] - 15s 68ms/step - loss: 0.1398 - mean_squared_error: 0.1398 - val_loss: 0.1459 - val_mean_squared_error: 0.1459\n",
            "Epoch 50/50\n",
            "219/219 [==============================] - 15s 70ms/step - loss: 0.1402 - mean_squared_error: 0.1402 - val_loss: 0.1463 - val_mean_squared_error: 0.1463\n"
          ]
        }
      ]
    },
    {
      "cell_type": "code",
      "metadata": {
        "id": "qrXaos9jRXR2"
      },
      "source": [
        "# Implementing a simple RNN"
      ],
      "execution_count": null,
      "outputs": []
    },
    {
      "cell_type": "code",
      "metadata": {
        "id": "9pL-1ei5Rbmp"
      },
      "source": [
        "model = keras.models.Sequential([keras.layers.SimpleRNN(1,input_shape=[None,1])])"
      ],
      "execution_count": null,
      "outputs": []
    },
    {
      "cell_type": "code",
      "metadata": {
        "id": "EuYOFVW9SGlF"
      },
      "source": [
        "model.compile(optimizer='adam',\n",
        "                loss=tf.keras.losses.MeanSquaredError(),\n",
        "              metrics=tf.keras.metrics.MeanSquaredError())"
      ],
      "execution_count": null,
      "outputs": []
    },
    {
      "cell_type": "code",
      "metadata": {
        "colab": {
          "base_uri": "https://localhost:8080/"
        },
        "id": "E09SYwlrR6iM",
        "outputId": "b2742dcb-fbab-4adf-e9bb-e6312f117184"
      },
      "source": [
        "history = model.fit(X_train, y_train, epochs=50, \n",
        "                    validation_data=(X_valid, y_valid))"
      ],
      "execution_count": null,
      "outputs": [
        {
          "output_type": "stream",
          "name": "stdout",
          "text": [
            "Epoch 1/50\n",
            "219/219 [==============================] - 16s 69ms/step - loss: 0.0184 - mean_squared_error: 0.0184 - val_loss: 0.0141 - val_mean_squared_error: 0.0141\n",
            "Epoch 2/50\n",
            "219/219 [==============================] - 15s 67ms/step - loss: 0.0126 - mean_squared_error: 0.0126 - val_loss: 0.0120 - val_mean_squared_error: 0.0120\n",
            "Epoch 3/50\n",
            "219/219 [==============================] - 15s 67ms/step - loss: 0.0115 - mean_squared_error: 0.0115 - val_loss: 0.0116 - val_mean_squared_error: 0.0116\n",
            "Epoch 4/50\n",
            "219/219 [==============================] - 15s 67ms/step - loss: 0.0113 - mean_squared_error: 0.0113 - val_loss: 0.0115 - val_mean_squared_error: 0.0115\n",
            "Epoch 5/50\n",
            "219/219 [==============================] - 15s 68ms/step - loss: 0.0113 - mean_squared_error: 0.0113 - val_loss: 0.0115 - val_mean_squared_error: 0.0115\n",
            "Epoch 6/50\n",
            "219/219 [==============================] - 15s 68ms/step - loss: 0.0113 - mean_squared_error: 0.0113 - val_loss: 0.0115 - val_mean_squared_error: 0.0115\n",
            "Epoch 7/50\n",
            "219/219 [==============================] - 15s 68ms/step - loss: 0.0113 - mean_squared_error: 0.0113 - val_loss: 0.0115 - val_mean_squared_error: 0.0115\n",
            "Epoch 8/50\n",
            "219/219 [==============================] - 15s 67ms/step - loss: 0.0112 - mean_squared_error: 0.0112 - val_loss: 0.0115 - val_mean_squared_error: 0.0115\n",
            "Epoch 9/50\n",
            "219/219 [==============================] - 15s 67ms/step - loss: 0.0112 - mean_squared_error: 0.0112 - val_loss: 0.0114 - val_mean_squared_error: 0.0114\n",
            "Epoch 10/50\n",
            "219/219 [==============================] - 15s 67ms/step - loss: 0.0112 - mean_squared_error: 0.0112 - val_loss: 0.0114 - val_mean_squared_error: 0.0114\n",
            "Epoch 11/50\n",
            "219/219 [==============================] - 15s 67ms/step - loss: 0.0112 - mean_squared_error: 0.0112 - val_loss: 0.0114 - val_mean_squared_error: 0.0114\n",
            "Epoch 12/50\n",
            "219/219 [==============================] - 14s 66ms/step - loss: 0.0112 - mean_squared_error: 0.0112 - val_loss: 0.0115 - val_mean_squared_error: 0.0115\n",
            "Epoch 13/50\n",
            "219/219 [==============================] - 15s 67ms/step - loss: 0.0112 - mean_squared_error: 0.0112 - val_loss: 0.0114 - val_mean_squared_error: 0.0114\n",
            "Epoch 14/50\n",
            "219/219 [==============================] - 15s 67ms/step - loss: 0.0112 - mean_squared_error: 0.0112 - val_loss: 0.0114 - val_mean_squared_error: 0.0114\n",
            "Epoch 15/50\n",
            "219/219 [==============================] - 14s 66ms/step - loss: 0.0112 - mean_squared_error: 0.0112 - val_loss: 0.0114 - val_mean_squared_error: 0.0114\n",
            "Epoch 16/50\n",
            "219/219 [==============================] - 15s 67ms/step - loss: 0.0112 - mean_squared_error: 0.0112 - val_loss: 0.0114 - val_mean_squared_error: 0.0114\n",
            "Epoch 17/50\n",
            "219/219 [==============================] - 15s 69ms/step - loss: 0.0112 - mean_squared_error: 0.0112 - val_loss: 0.0115 - val_mean_squared_error: 0.0115\n",
            "Epoch 18/50\n",
            "219/219 [==============================] - 15s 67ms/step - loss: 0.0112 - mean_squared_error: 0.0112 - val_loss: 0.0115 - val_mean_squared_error: 0.0115\n",
            "Epoch 19/50\n",
            "219/219 [==============================] - 15s 67ms/step - loss: 0.0112 - mean_squared_error: 0.0112 - val_loss: 0.0114 - val_mean_squared_error: 0.0114\n",
            "Epoch 20/50\n",
            "219/219 [==============================] - 15s 68ms/step - loss: 0.0112 - mean_squared_error: 0.0112 - val_loss: 0.0114 - val_mean_squared_error: 0.0114\n",
            "Epoch 21/50\n",
            "219/219 [==============================] - 15s 69ms/step - loss: 0.0112 - mean_squared_error: 0.0112 - val_loss: 0.0114 - val_mean_squared_error: 0.0114\n",
            "Epoch 22/50\n",
            "219/219 [==============================] - 15s 69ms/step - loss: 0.0112 - mean_squared_error: 0.0112 - val_loss: 0.0114 - val_mean_squared_error: 0.0114\n",
            "Epoch 23/50\n",
            "219/219 [==============================] - 15s 70ms/step - loss: 0.0112 - mean_squared_error: 0.0112 - val_loss: 0.0114 - val_mean_squared_error: 0.0114\n",
            "Epoch 24/50\n",
            "219/219 [==============================] - 15s 69ms/step - loss: 0.0112 - mean_squared_error: 0.0112 - val_loss: 0.0115 - val_mean_squared_error: 0.0115\n",
            "Epoch 25/50\n",
            "219/219 [==============================] - 15s 69ms/step - loss: 0.0112 - mean_squared_error: 0.0112 - val_loss: 0.0114 - val_mean_squared_error: 0.0114\n",
            "Epoch 26/50\n",
            "219/219 [==============================] - 15s 68ms/step - loss: 0.0112 - mean_squared_error: 0.0112 - val_loss: 0.0114 - val_mean_squared_error: 0.0114\n",
            "Epoch 27/50\n",
            "219/219 [==============================] - 15s 69ms/step - loss: 0.0112 - mean_squared_error: 0.0112 - val_loss: 0.0114 - val_mean_squared_error: 0.0114\n",
            "Epoch 28/50\n",
            "219/219 [==============================] - 15s 70ms/step - loss: 0.0112 - mean_squared_error: 0.0112 - val_loss: 0.0114 - val_mean_squared_error: 0.0114\n",
            "Epoch 29/50\n",
            "219/219 [==============================] - 15s 70ms/step - loss: 0.0112 - mean_squared_error: 0.0112 - val_loss: 0.0114 - val_mean_squared_error: 0.0114\n",
            "Epoch 30/50\n",
            "219/219 [==============================] - 15s 70ms/step - loss: 0.0112 - mean_squared_error: 0.0112 - val_loss: 0.0114 - val_mean_squared_error: 0.0114\n",
            "Epoch 31/50\n",
            "219/219 [==============================] - 15s 69ms/step - loss: 0.0112 - mean_squared_error: 0.0112 - val_loss: 0.0114 - val_mean_squared_error: 0.0114\n",
            "Epoch 32/50\n",
            "219/219 [==============================] - 15s 70ms/step - loss: 0.0112 - mean_squared_error: 0.0112 - val_loss: 0.0114 - val_mean_squared_error: 0.0114\n",
            "Epoch 33/50\n",
            "219/219 [==============================] - 15s 68ms/step - loss: 0.0112 - mean_squared_error: 0.0112 - val_loss: 0.0114 - val_mean_squared_error: 0.0114\n",
            "Epoch 34/50\n",
            "219/219 [==============================] - 15s 70ms/step - loss: 0.0112 - mean_squared_error: 0.0112 - val_loss: 0.0114 - val_mean_squared_error: 0.0114\n",
            "Epoch 35/50\n",
            "219/219 [==============================] - 15s 69ms/step - loss: 0.0112 - mean_squared_error: 0.0112 - val_loss: 0.0114 - val_mean_squared_error: 0.0114\n",
            "Epoch 36/50\n",
            "219/219 [==============================] - 15s 67ms/step - loss: 0.0112 - mean_squared_error: 0.0112 - val_loss: 0.0114 - val_mean_squared_error: 0.0114\n",
            "Epoch 37/50\n",
            "219/219 [==============================] - 15s 69ms/step - loss: 0.0112 - mean_squared_error: 0.0112 - val_loss: 0.0114 - val_mean_squared_error: 0.0114\n",
            "Epoch 38/50\n",
            "219/219 [==============================] - 15s 68ms/step - loss: 0.0112 - mean_squared_error: 0.0112 - val_loss: 0.0115 - val_mean_squared_error: 0.0115\n",
            "Epoch 39/50\n",
            "219/219 [==============================] - 15s 70ms/step - loss: 0.0112 - mean_squared_error: 0.0112 - val_loss: 0.0115 - val_mean_squared_error: 0.0115\n",
            "Epoch 40/50\n",
            "219/219 [==============================] - 15s 69ms/step - loss: 0.0112 - mean_squared_error: 0.0112 - val_loss: 0.0115 - val_mean_squared_error: 0.0115\n",
            "Epoch 41/50\n",
            "219/219 [==============================] - 15s 68ms/step - loss: 0.0112 - mean_squared_error: 0.0112 - val_loss: 0.0114 - val_mean_squared_error: 0.0114\n",
            "Epoch 42/50\n",
            "219/219 [==============================] - 15s 68ms/step - loss: 0.0112 - mean_squared_error: 0.0112 - val_loss: 0.0115 - val_mean_squared_error: 0.0115\n",
            "Epoch 43/50\n",
            "219/219 [==============================] - 15s 70ms/step - loss: 0.0112 - mean_squared_error: 0.0112 - val_loss: 0.0114 - val_mean_squared_error: 0.0114\n",
            "Epoch 44/50\n",
            "219/219 [==============================] - 15s 70ms/step - loss: 0.0112 - mean_squared_error: 0.0112 - val_loss: 0.0114 - val_mean_squared_error: 0.0114\n",
            "Epoch 45/50\n",
            "219/219 [==============================] - 15s 71ms/step - loss: 0.0112 - mean_squared_error: 0.0112 - val_loss: 0.0115 - val_mean_squared_error: 0.0115\n",
            "Epoch 46/50\n",
            "219/219 [==============================] - 16s 71ms/step - loss: 0.0112 - mean_squared_error: 0.0112 - val_loss: 0.0114 - val_mean_squared_error: 0.0114\n",
            "Epoch 47/50\n",
            "219/219 [==============================] - 16s 71ms/step - loss: 0.0112 - mean_squared_error: 0.0112 - val_loss: 0.0115 - val_mean_squared_error: 0.0115\n",
            "Epoch 48/50\n",
            "219/219 [==============================] - 15s 69ms/step - loss: 0.0112 - mean_squared_error: 0.0112 - val_loss: 0.0115 - val_mean_squared_error: 0.0115\n",
            "Epoch 49/50\n",
            "219/219 [==============================] - 15s 69ms/step - loss: 0.0112 - mean_squared_error: 0.0112 - val_loss: 0.0114 - val_mean_squared_error: 0.0114\n",
            "Epoch 50/50\n",
            "219/219 [==============================] - 15s 68ms/step - loss: 0.0112 - mean_squared_error: 0.0112 - val_loss: 0.0115 - val_mean_squared_error: 0.0115\n"
          ]
        }
      ]
    },
    {
      "cell_type": "code",
      "metadata": {
        "id": "nshygurARMf7"
      },
      "source": [
        "# Deep RNNs"
      ],
      "execution_count": null,
      "outputs": []
    },
    {
      "cell_type": "code",
      "metadata": {
        "id": "UwPgNIKTIR1r"
      },
      "source": [
        "model = keras.models.Sequential([keras.layers.SimpleRNN(20,return_sequences=True,input_shape=[None,1]),\n",
        "                                 keras.layers.SimpleRNN(20,return_sequences=True),\n",
        "                                 keras.layers.SimpleRNN(1)])"
      ],
      "execution_count": null,
      "outputs": []
    },
    {
      "cell_type": "code",
      "metadata": {
        "colab": {
          "base_uri": "https://localhost:8080/"
        },
        "id": "Cd0r_cQ7ci18",
        "outputId": "9e4b0719-fb14-4c9e-b05a-d65518d23366"
      },
      "source": [
        "model.compile(optimizer='adam',\n",
        "                loss=tf.keras.losses.MeanSquaredError(),\n",
        "              metrics=tf.keras.metrics.MeanSquaredError())\n",
        "\n",
        "history = model.fit(X_train, y_train, epochs=50, \n",
        "                    validation_data=(X_valid, y_valid))"
      ],
      "execution_count": null,
      "outputs": [
        {
          "output_type": "stream",
          "name": "stdout",
          "text": [
            "Epoch 1/50\n",
            "219/219 [==============================] - 49s 212ms/step - loss: 0.0419 - mean_squared_error: 0.0419 - val_loss: 0.0086 - val_mean_squared_error: 0.0086\n",
            "Epoch 2/50\n",
            "219/219 [==============================] - 46s 211ms/step - loss: 0.0068 - mean_squared_error: 0.0068 - val_loss: 0.0055 - val_mean_squared_error: 0.0055\n",
            "Epoch 3/50\n",
            "219/219 [==============================] - 46s 212ms/step - loss: 0.0051 - mean_squared_error: 0.0051 - val_loss: 0.0062 - val_mean_squared_error: 0.0062\n",
            "Epoch 4/50\n",
            "219/219 [==============================] - 46s 209ms/step - loss: 0.0043 - mean_squared_error: 0.0043 - val_loss: 0.0046 - val_mean_squared_error: 0.0046\n",
            "Epoch 5/50\n",
            "219/219 [==============================] - 47s 213ms/step - loss: 0.0040 - mean_squared_error: 0.0040 - val_loss: 0.0036 - val_mean_squared_error: 0.0036\n",
            "Epoch 6/50\n",
            "219/219 [==============================] - 46s 211ms/step - loss: 0.0038 - mean_squared_error: 0.0038 - val_loss: 0.0038 - val_mean_squared_error: 0.0038\n",
            "Epoch 7/50\n",
            "219/219 [==============================] - 46s 211ms/step - loss: 0.0036 - mean_squared_error: 0.0036 - val_loss: 0.0032 - val_mean_squared_error: 0.0032\n",
            "Epoch 8/50\n",
            "219/219 [==============================] - 47s 215ms/step - loss: 0.0035 - mean_squared_error: 0.0035 - val_loss: 0.0035 - val_mean_squared_error: 0.0035\n",
            "Epoch 9/50\n",
            "219/219 [==============================] - 46s 212ms/step - loss: 0.0035 - mean_squared_error: 0.0035 - val_loss: 0.0033 - val_mean_squared_error: 0.0033\n",
            "Epoch 10/50\n",
            "219/219 [==============================] - 47s 215ms/step - loss: 0.0034 - mean_squared_error: 0.0034 - val_loss: 0.0035 - val_mean_squared_error: 0.0035\n",
            "Epoch 11/50\n",
            "219/219 [==============================] - 47s 215ms/step - loss: 0.0035 - mean_squared_error: 0.0035 - val_loss: 0.0034 - val_mean_squared_error: 0.0034\n",
            "Epoch 12/50\n",
            "219/219 [==============================] - 47s 216ms/step - loss: 0.0033 - mean_squared_error: 0.0033 - val_loss: 0.0031 - val_mean_squared_error: 0.0031\n",
            "Epoch 13/50\n",
            "219/219 [==============================] - 47s 214ms/step - loss: 0.0034 - mean_squared_error: 0.0034 - val_loss: 0.0029 - val_mean_squared_error: 0.0029\n",
            "Epoch 14/50\n",
            "219/219 [==============================] - 46s 212ms/step - loss: 0.0033 - mean_squared_error: 0.0033 - val_loss: 0.0031 - val_mean_squared_error: 0.0031\n",
            "Epoch 15/50\n",
            "219/219 [==============================] - 46s 210ms/step - loss: 0.0033 - mean_squared_error: 0.0033 - val_loss: 0.0030 - val_mean_squared_error: 0.0030\n",
            "Epoch 16/50\n",
            "219/219 [==============================] - 46s 212ms/step - loss: 0.0032 - mean_squared_error: 0.0032 - val_loss: 0.0029 - val_mean_squared_error: 0.0029\n",
            "Epoch 17/50\n",
            "219/219 [==============================] - 46s 211ms/step - loss: 0.0033 - mean_squared_error: 0.0033 - val_loss: 0.0031 - val_mean_squared_error: 0.0031\n",
            "Epoch 18/50\n",
            "219/219 [==============================] - 47s 213ms/step - loss: 0.0031 - mean_squared_error: 0.0031 - val_loss: 0.0030 - val_mean_squared_error: 0.0030\n",
            "Epoch 19/50\n",
            "219/219 [==============================] - 46s 209ms/step - loss: 0.0031 - mean_squared_error: 0.0031 - val_loss: 0.0031 - val_mean_squared_error: 0.0031\n",
            "Epoch 20/50\n",
            "219/219 [==============================] - 46s 212ms/step - loss: 0.0031 - mean_squared_error: 0.0031 - val_loss: 0.0029 - val_mean_squared_error: 0.0029\n",
            "Epoch 21/50\n",
            "219/219 [==============================] - 46s 211ms/step - loss: 0.0031 - mean_squared_error: 0.0031 - val_loss: 0.0030 - val_mean_squared_error: 0.0030\n",
            "Epoch 22/50\n",
            "219/219 [==============================] - 46s 212ms/step - loss: 0.0031 - mean_squared_error: 0.0031 - val_loss: 0.0033 - val_mean_squared_error: 0.0033\n",
            "Epoch 23/50\n",
            "219/219 [==============================] - 46s 212ms/step - loss: 0.0031 - mean_squared_error: 0.0031 - val_loss: 0.0030 - val_mean_squared_error: 0.0030\n",
            "Epoch 24/50\n",
            "219/219 [==============================] - 47s 214ms/step - loss: 0.0031 - mean_squared_error: 0.0031 - val_loss: 0.0029 - val_mean_squared_error: 0.0029\n",
            "Epoch 25/50\n",
            "219/219 [==============================] - 47s 217ms/step - loss: 0.0030 - mean_squared_error: 0.0030 - val_loss: 0.0028 - val_mean_squared_error: 0.0028\n",
            "Epoch 26/50\n",
            "219/219 [==============================] - 47s 215ms/step - loss: 0.0030 - mean_squared_error: 0.0030 - val_loss: 0.0028 - val_mean_squared_error: 0.0028\n",
            "Epoch 27/50\n",
            "219/219 [==============================] - 46s 211ms/step - loss: 0.0030 - mean_squared_error: 0.0030 - val_loss: 0.0028 - val_mean_squared_error: 0.0028\n",
            "Epoch 28/50\n",
            "219/219 [==============================] - 46s 212ms/step - loss: 0.0030 - mean_squared_error: 0.0030 - val_loss: 0.0027 - val_mean_squared_error: 0.0027\n",
            "Epoch 29/50\n",
            "219/219 [==============================] - 46s 210ms/step - loss: 0.0029 - mean_squared_error: 0.0029 - val_loss: 0.0028 - val_mean_squared_error: 0.0028\n",
            "Epoch 30/50\n",
            "219/219 [==============================] - 46s 212ms/step - loss: 0.0030 - mean_squared_error: 0.0030 - val_loss: 0.0027 - val_mean_squared_error: 0.0027\n",
            "Epoch 31/50\n",
            "219/219 [==============================] - 45s 208ms/step - loss: 0.0029 - mean_squared_error: 0.0029 - val_loss: 0.0029 - val_mean_squared_error: 0.0029\n",
            "Epoch 32/50\n",
            "219/219 [==============================] - 46s 211ms/step - loss: 0.0028 - mean_squared_error: 0.0028 - val_loss: 0.0027 - val_mean_squared_error: 0.0027\n",
            "Epoch 33/50\n",
            "219/219 [==============================] - 46s 210ms/step - loss: 0.0029 - mean_squared_error: 0.0029 - val_loss: 0.0033 - val_mean_squared_error: 0.0033\n",
            "Epoch 34/50\n",
            "219/219 [==============================] - 46s 208ms/step - loss: 0.0029 - mean_squared_error: 0.0029 - val_loss: 0.0032 - val_mean_squared_error: 0.0032\n",
            "Epoch 35/50\n",
            "219/219 [==============================] - 46s 210ms/step - loss: 0.0029 - mean_squared_error: 0.0029 - val_loss: 0.0030 - val_mean_squared_error: 0.0030\n",
            "Epoch 36/50\n",
            "219/219 [==============================] - 46s 212ms/step - loss: 0.0028 - mean_squared_error: 0.0028 - val_loss: 0.0028 - val_mean_squared_error: 0.0028\n",
            "Epoch 37/50\n",
            "219/219 [==============================] - 46s 209ms/step - loss: 0.0028 - mean_squared_error: 0.0028 - val_loss: 0.0027 - val_mean_squared_error: 0.0027\n",
            "Epoch 38/50\n",
            "219/219 [==============================] - 47s 213ms/step - loss: 0.0027 - mean_squared_error: 0.0027 - val_loss: 0.0029 - val_mean_squared_error: 0.0029\n",
            "Epoch 39/50\n",
            "219/219 [==============================] - 46s 211ms/step - loss: 0.0027 - mean_squared_error: 0.0027 - val_loss: 0.0026 - val_mean_squared_error: 0.0026\n",
            "Epoch 40/50\n",
            "219/219 [==============================] - 46s 211ms/step - loss: 0.0027 - mean_squared_error: 0.0027 - val_loss: 0.0027 - val_mean_squared_error: 0.0027\n",
            "Epoch 41/50\n",
            "219/219 [==============================] - 46s 211ms/step - loss: 0.0027 - mean_squared_error: 0.0027 - val_loss: 0.0028 - val_mean_squared_error: 0.0028\n",
            "Epoch 42/50\n",
            "219/219 [==============================] - 46s 209ms/step - loss: 0.0027 - mean_squared_error: 0.0027 - val_loss: 0.0025 - val_mean_squared_error: 0.0025\n",
            "Epoch 43/50\n",
            "219/219 [==============================] - 45s 206ms/step - loss: 0.0026 - mean_squared_error: 0.0026 - val_loss: 0.0025 - val_mean_squared_error: 0.0025\n",
            "Epoch 44/50\n",
            "219/219 [==============================] - 45s 205ms/step - loss: 0.0026 - mean_squared_error: 0.0026 - val_loss: 0.0026 - val_mean_squared_error: 0.0026\n",
            "Epoch 45/50\n",
            "219/219 [==============================] - 45s 207ms/step - loss: 0.0025 - mean_squared_error: 0.0025 - val_loss: 0.0025 - val_mean_squared_error: 0.0025\n",
            "Epoch 46/50\n",
            "219/219 [==============================] - 45s 204ms/step - loss: 0.0025 - mean_squared_error: 0.0025 - val_loss: 0.0024 - val_mean_squared_error: 0.0024\n",
            "Epoch 47/50\n",
            "219/219 [==============================] - 46s 208ms/step - loss: 0.0026 - mean_squared_error: 0.0026 - val_loss: 0.0023 - val_mean_squared_error: 0.0023\n",
            "Epoch 48/50\n",
            "219/219 [==============================] - 46s 211ms/step - loss: 0.0025 - mean_squared_error: 0.0025 - val_loss: 0.0027 - val_mean_squared_error: 0.0027\n",
            "Epoch 49/50\n",
            "219/219 [==============================] - 46s 212ms/step - loss: 0.0024 - mean_squared_error: 0.0024 - val_loss: 0.0025 - val_mean_squared_error: 0.0025\n",
            "Epoch 50/50\n",
            "219/219 [==============================] - 46s 210ms/step - loss: 0.0024 - mean_squared_error: 0.0024 - val_loss: 0.0023 - val_mean_squared_error: 0.0023\n"
          ]
        }
      ]
    },
    {
      "cell_type": "code",
      "metadata": {
        "id": "jbpHMabmcts-"
      },
      "source": [
        ""
      ],
      "execution_count": null,
      "outputs": []
    }
  ]
}