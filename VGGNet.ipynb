{
  "nbformat": 4,
  "nbformat_minor": 0,
  "metadata": {
    "colab": {
      "name": "“Untitled2.ipynb”的副本",
      "provenance": [],
      "authorship_tag": "ABX9TyOns3r2h7wj5v7wgSGljPgY",
      "include_colab_link": true
    },
    "kernelspec": {
      "name": "python3",
      "display_name": "Python 3"
    },
    "language_info": {
      "name": "python"
    },
    "accelerator": "GPU"
  },
  "cells": [
    {
      "cell_type": "markdown",
      "metadata": {
        "id": "view-in-github",
        "colab_type": "text"
      },
      "source": [
        "<a href=\"https://colab.research.google.com/github/jamesliao2016/HCDR2018/blob/master/VGGNet.ipynb\" target=\"_parent\"><img src=\"https://colab.research.google.com/assets/colab-badge.svg\" alt=\"Open In Colab\"/></a>"
      ]
    },
    {
      "cell_type": "code",
      "metadata": {
        "id": "-VBdoI7gJscN"
      },
      "source": [
        "import tensorflow as tf\n",
        "\n",
        "from tensorflow.keras import datasets, layers, models\n",
        "import matplotlib.pyplot as plt"
      ],
      "execution_count": 1,
      "outputs": []
    },
    {
      "cell_type": "code",
      "metadata": {
        "colab": {
          "base_uri": "https://localhost:8080/"
        },
        "id": "X9MbUBDqJuE3",
        "outputId": "1fdd7a5d-089d-42e9-eadf-b1d74ac26bb7"
      },
      "source": [
        "(train_images, train_labels), (test_images, test_labels) = datasets.cifar10.load_data()\n",
        "\n",
        "# Normalize pixel values to be between 0 and 1\n",
        "train_images, test_images = train_images / 255.0, test_images / 255.0"
      ],
      "execution_count": 2,
      "outputs": [
        {
          "output_type": "stream",
          "name": "stdout",
          "text": [
            "Downloading data from https://www.cs.toronto.edu/~kriz/cifar-10-python.tar.gz\n",
            "170500096/170498071 [==============================] - 11s 0us/step\n",
            "170508288/170498071 [==============================] - 11s 0us/step\n"
          ]
        }
      ]
    },
    {
      "cell_type": "code",
      "metadata": {
        "colab": {
          "base_uri": "https://localhost:8080/"
        },
        "id": "VDiDar7WJ5i2",
        "outputId": "471738fb-7985-4f0c-a830-eadac029b0c3"
      },
      "source": [
        "train_images.shape"
      ],
      "execution_count": 3,
      "outputs": [
        {
          "output_type": "execute_result",
          "data": {
            "text/plain": [
              "(50000, 32, 32, 3)"
            ]
          },
          "metadata": {},
          "execution_count": 3
        }
      ]
    },
    {
      "cell_type": "code",
      "metadata": {
        "id": "N_uMWAJgKEqN"
      },
      "source": [
        "from tensorflow.keras import layers\n",
        "from tensorflow import keras"
      ],
      "execution_count": 4,
      "outputs": []
    },
    {
      "cell_type": "code",
      "metadata": {
        "id": "PnPrEoxrJwA4"
      },
      "source": [
        "# model = keras.Sequential([\n",
        "#     keras.layers.Flatten(input_shape=(32, 32,3)),\n",
        "#     keras.layers.Dense(128, activation='relu'),\n",
        "#     keras.layers.Dense(10)\n",
        "# ])\n",
        "\n",
        "# model = keras.Sequential([\n",
        "# layers.Conv2D(filters=6,kernel_size=(5,5),padding=\"same\"),\n",
        "# layers.BatchNormalization(),\n",
        "# layers.Activation(\"relu\"),\n",
        "# layers.MaxPool2D(pool_size=(2,2),strides=2,padding=\"same\"),\n",
        "# layers.Dropout(0.2),\n",
        "# layers.Flatten(),\n",
        "# layers.Dense(128,activation=\"relu\"),\n",
        "# layers.Dropout(0.2),\n",
        "# layers.Dense(10,activation=\"softmax\")\n",
        "\n",
        "# ])\n",
        "\n",
        "# # LeNet\n",
        "# model = keras.Sequential([\n",
        "# layers.Conv2D(filters=6,kernel_size=(5,5),activation=\"sigmoid\"),\n",
        "# layers.MaxPool2D(pool_size=(2,2),strides=2),\n",
        "# layers.Conv2D(filters=16,kernel_size=(5,5),activation=\"sigmoid\"),\n",
        "# layers.MaxPool2D(pool_size=(2,2),strides=2),\n",
        "# layers.Flatten(),\n",
        "# layers.Dense(120,activation=\"sigmoid\"),\n",
        "# layers.Dense(84,activation=\"sigmoid\"),\n",
        "# layers.Dense(12,activation=\"sigmoid\")\n",
        "# ])\n",
        "\n",
        "# # AlexNet\n",
        "# model = keras.Sequential([\n",
        "# layers.Conv2D(filters=96,kernel_size=(3,3)),\n",
        "# layers.BatchNormalization(),\n",
        "# layers.Activation(\"relu\"),\n",
        "# layers.MaxPool2D(pool_size=(3,3),strides=2),\n",
        "# layers.Conv2D(filters=256,kernel_size=(3,3)),\n",
        "# layers.BatchNormalization(),\n",
        "# layers.Activation(\"relu\"),\n",
        "# layers.MaxPool2D(pool_size=(3,3),strides=2),\n",
        "# layers.Conv2D(filters=384,kernel_size=(3,3),padding=\"same\",activation=\"relu\"),\n",
        "# layers.Conv2D(filters=384,kernel_size=(3,3),padding=\"same\",activation=\"relu\"),\n",
        "# layers.Conv2D(filters=256,kernel_size=(3,3),padding=\"same\",activation=\"relu\"),\n",
        "# layers.MaxPool2D(pool_size=(3,3),strides=2),\n",
        "# layers.Flatten(),\n",
        "# layers.Dense(2048,activation=\"relu\"),\n",
        "# layers.Dropout(0.5),\n",
        "# layers.Dense(2048,activation=\"relu\"),\n",
        "# layers.Dropout(0.5),\n",
        "# layers.Dense(10,activation=\"softmax\")\n",
        "\n",
        "# ])\n",
        "\n",
        "# VGGNet\n",
        "model = keras.Sequential([\n",
        "layers.Conv2D(filters=64,kernel_size=(3,3),padding=\"same\"),\n",
        "layers.BatchNormalization(),\n",
        "layers.Activation(\"relu\"),\n",
        "\n",
        "layers.Conv2D(filters=64,kernel_size=(3,3),padding=\"same\"),\n",
        "layers.BatchNormalization(),\n",
        "layers.Activation(\"relu\"),\n",
        "layers.MaxPool2D(pool_size=(2,2),strides=2,padding=\"same\"),\n",
        "layers.Dropout(0.2),\n",
        "\n",
        "layers.Conv2D(filters=128,kernel_size=(3,3),padding=\"same\"),\n",
        "layers.BatchNormalization(),\n",
        "layers.Activation(\"relu\"),\n",
        "\n",
        "layers.Conv2D(filters=128,kernel_size=(3,3),padding=\"same\"),\n",
        "layers.BatchNormalization(),\n",
        "layers.Activation(\"relu\"),\n",
        "layers.MaxPool2D(pool_size=(2,2),strides=2,padding=\"same\"),\n",
        "layers.Dropout(0.2),\n",
        "\n",
        "layers.Conv2D(filters=256,kernel_size=(3,3),padding=\"same\"),\n",
        "layers.BatchNormalization(),\n",
        "layers.Activation(\"relu\"),\n",
        "\n",
        "layers.Conv2D(filters=256,kernel_size=(3,3),padding=\"same\"),\n",
        "layers.BatchNormalization(),\n",
        "layers.Activation(\"relu\"),\n",
        "\n",
        "layers.Conv2D(filters=256,kernel_size=(3,3),padding=\"same\"),\n",
        "layers.BatchNormalization(),\n",
        "layers.Activation(\"relu\"),\n",
        "layers.MaxPool2D(pool_size=(2,2),strides=2,padding=\"same\"),\n",
        "layers.Dropout(0.2),\n",
        "\n",
        "layers.Conv2D(filters=512,kernel_size=(3,3),padding=\"same\"),\n",
        "layers.BatchNormalization(),\n",
        "layers.Activation(\"relu\"),\n",
        "\n",
        "layers.Conv2D(filters=512,kernel_size=(3,3),padding=\"same\"),\n",
        "layers.BatchNormalization(),\n",
        "layers.Activation(\"relu\"),\n",
        "\n",
        "layers.Conv2D(filters=512,kernel_size=(3,3),padding=\"same\"),\n",
        "layers.BatchNormalization(),\n",
        "layers.Activation(\"relu\"),\n",
        "layers.MaxPool2D(pool_size=(2,2),strides=2,padding=\"same\"),\n",
        "layers.Dropout(0.2),\n",
        "\n",
        "layers.Conv2D(filters=512,kernel_size=(3,3),padding=\"same\"),\n",
        "layers.BatchNormalization(),\n",
        "layers.Activation(\"relu\"),\n",
        "\n",
        "layers.Conv2D(filters=512,kernel_size=(3,3),padding=\"same\"),\n",
        "layers.BatchNormalization(),\n",
        "layers.Activation(\"relu\"),\n",
        "\n",
        "layers.Conv2D(filters=512,kernel_size=(3,3),padding=\"same\"),\n",
        "layers.BatchNormalization(),\n",
        "layers.Activation(\"relu\"),\n",
        "layers.MaxPool2D(pool_size=(2,2),strides=2,padding=\"same\"),\n",
        "layers.Dropout(0.2),\n",
        "\n",
        "layers.Flatten(),\n",
        "layers.Dense(512,activation=\"relu\"),\n",
        "layers.Dropout(0.2),\n",
        "layers.Dense(512,activation=\"relu\"),\n",
        "layers.Dropout(0.2),\n",
        "layers.Dense(10,activation=\"softmax\")\n",
        "\n",
        "])"
      ],
      "execution_count": 9,
      "outputs": []
    },
    {
      "cell_type": "code",
      "metadata": {
        "colab": {
          "base_uri": "https://localhost:8080/"
        },
        "id": "K0g1vtLRJ_E9",
        "outputId": "e2d3292a-c4be-489a-d9a3-0f647171da76"
      },
      "source": [
        "model.compile(optimizer='adam',\n",
        "              loss=tf.keras.losses.SparseCategoricalCrossentropy(from_logits=True),\n",
        "              metrics=['accuracy'])\n",
        "\n",
        "history = model.fit(train_images, train_labels, epochs=10, \n",
        "                    validation_data=(test_images, test_labels))"
      ],
      "execution_count": 10,
      "outputs": [
        {
          "metadata": {
            "tags": null
          },
          "name": "stdout",
          "output_type": "stream",
          "text": [
            "Epoch 1/10\n"
          ]
        },
        {
          "metadata": {
            "tags": null
          },
          "name": "stderr",
          "output_type": "stream",
          "text": [
            "/usr/local/lib/python3.7/dist-packages/keras/backend.py:4907: UserWarning: \"`sparse_categorical_crossentropy` received `from_logits=True`, but the `output` argument was produced by a sigmoid or softmax activation and thus does not represent logits. Was this intended?\"\n",
            "  '\"`sparse_categorical_crossentropy` received `from_logits=True`, but '\n"
          ]
        },
        {
          "output_type": "stream",
          "name": "stdout",
          "text": [
            "1563/1563 [==============================] - 112s 70ms/step - loss: 1.9017 - accuracy: 0.2256 - val_loss: 2.2368 - val_accuracy: 0.2958\n",
            "Epoch 2/10\n",
            "1563/1563 [==============================] - 108s 69ms/step - loss: 1.4948 - accuracy: 0.4226 - val_loss: 1.4398 - val_accuracy: 0.4452\n",
            "Epoch 3/10\n",
            "1563/1563 [==============================] - 108s 69ms/step - loss: 1.1729 - accuracy: 0.5880 - val_loss: 1.1858 - val_accuracy: 0.5884\n",
            "Epoch 4/10\n",
            "1563/1563 [==============================] - 107s 69ms/step - loss: 0.9792 - accuracy: 0.6665 - val_loss: 0.9653 - val_accuracy: 0.6682\n",
            "Epoch 5/10\n",
            "1563/1563 [==============================] - 107s 69ms/step - loss: 0.8430 - accuracy: 0.7185 - val_loss: 1.1059 - val_accuracy: 0.6380\n",
            "Epoch 6/10\n",
            "1563/1563 [==============================] - 108s 69ms/step - loss: 0.7468 - accuracy: 0.7563 - val_loss: 0.7158 - val_accuracy: 0.7688\n",
            "Epoch 7/10\n",
            "1563/1563 [==============================] - 108s 69ms/step - loss: 0.6581 - accuracy: 0.7867 - val_loss: 0.9454 - val_accuracy: 0.6952\n",
            "Epoch 8/10\n",
            "1563/1563 [==============================] - 107s 69ms/step - loss: 0.5858 - accuracy: 0.8108 - val_loss: 0.6647 - val_accuracy: 0.7879\n",
            "Epoch 9/10\n",
            "1563/1563 [==============================] - 107s 69ms/step - loss: 0.5259 - accuracy: 0.8314 - val_loss: 0.5864 - val_accuracy: 0.8109\n",
            "Epoch 10/10\n",
            "1563/1563 [==============================] - 107s 68ms/step - loss: 0.4722 - accuracy: 0.8493 - val_loss: 0.6221 - val_accuracy: 0.7982\n"
          ]
        }
      ]
    },
    {
      "cell_type": "code",
      "metadata": {
        "id": "LQkiZIXQKWNs"
      },
      "source": [
        ""
      ],
      "execution_count": null,
      "outputs": []
    }
  ]
}