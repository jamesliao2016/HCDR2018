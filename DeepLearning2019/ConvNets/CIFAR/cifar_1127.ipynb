{
 "cells": [
  {
   "cell_type": "code",
   "execution_count": 1,
   "metadata": {},
   "outputs": [],
   "source": [
    "def unpickle(file):\n",
    "    import pickle\n",
    "    with open(file, 'rb') as fo:\n",
    "        dict = pickle.load(fo, encoding='bytes')\n",
    "    return dict"
   ]
  },
  {
   "cell_type": "code",
   "execution_count": 20,
   "metadata": {},
   "outputs": [],
   "source": [
    "x_file = \"/Users/jamesliao2018/Downloads/cifar-10-batches-py/batches.meta\""
   ]
  },
  {
   "cell_type": "code",
   "execution_count": 21,
   "metadata": {},
   "outputs": [],
   "source": [
    "dict0 = unpickle(x_file)"
   ]
  },
  {
   "cell_type": "code",
   "execution_count": 22,
   "metadata": {},
   "outputs": [
    {
     "data": {
      "text/plain": [
       "{b'label_names': [b'airplane',\n",
       "  b'automobile',\n",
       "  b'bird',\n",
       "  b'cat',\n",
       "  b'deer',\n",
       "  b'dog',\n",
       "  b'frog',\n",
       "  b'horse',\n",
       "  b'ship',\n",
       "  b'truck'],\n",
       " b'num_cases_per_batch': 10000,\n",
       " b'num_vis': 3072}"
      ]
     },
     "execution_count": 22,
     "metadata": {},
     "output_type": "execute_result"
    }
   ],
   "source": [
    "dict0"
   ]
  },
  {
   "cell_type": "code",
   "execution_count": 23,
   "metadata": {},
   "outputs": [
    {
     "data": {
      "text/plain": [
       "dict"
      ]
     },
     "execution_count": 23,
     "metadata": {},
     "output_type": "execute_result"
    }
   ],
   "source": [
    "dict0.__class__"
   ]
  },
  {
   "cell_type": "code",
   "execution_count": 4,
   "metadata": {},
   "outputs": [],
   "source": [
    "import pickle as p\n",
    "import numpy as np\n",
    "import matplotlib.pyplot as plt\n",
    "import matplotlib.image as plimg\n",
    "from PIL import Image\n",
    "def load_CIFAR_batch(filename):\n",
    "    \"\"\" load single batch of cifar \"\"\"\n",
    "    with open(filename, 'rb')as f:\n",
    "        datadict = p.load(f,encoding=\"latin1\")\n",
    "        X = datadict['data']\n",
    "        Y = datadict['labels']\n",
    "        X = X.reshape(10000, 3, 32, 32)\n",
    "        Y = np.array(Y)\n",
    "        return X, Y"
   ]
  },
  {
   "cell_type": "code",
   "execution_count": 6,
   "metadata": {},
   "outputs": [],
   "source": [
    "imgX, imgY = load_CIFAR_batch(\"/Users/jamesliao2018/Downloads/cifar-10-batches-py/data_batch_1\")"
   ]
  },
  {
   "cell_type": "code",
   "execution_count": 8,
   "metadata": {},
   "outputs": [],
   "source": [
    "# imgX"
   ]
  },
  {
   "cell_type": "code",
   "execution_count": 16,
   "metadata": {},
   "outputs": [],
   "source": [
    "def load_CIFAR_Labels(filename):\n",
    "    with open(filename, 'rb') as f:\n",
    "        lines = [x for x in f.readlines()]\n",
    "        for x_line in lines:\n",
    "            print(lines)"
   ]
  },
  {
   "cell_type": "code",
   "execution_count": 17,
   "metadata": {},
   "outputs": [
    {
     "name": "stdout",
     "output_type": "stream",
     "text": [
      "[b\"\\x80\\x02}q\\x01(U\\x13num_cases_per_batchq\\x02M\\x10'U\\x0blabel_namesq\\x03]q\\x04(U\\x08airplaneq\\x05U\\n\", b'automobileq\\x06U\\x04birdq\\x07U\\x03catq\\x08U\\x04deerq\\tU\\x03dogq\\n', b'U\\x04frogq\\x0bU\\x05horseq\\x0cU\\x04shipq\\rU\\x05truckq\\x0eeU\\x07num_visq\\x0fM\\x00\\x0cu.']\n",
      "[b\"\\x80\\x02}q\\x01(U\\x13num_cases_per_batchq\\x02M\\x10'U\\x0blabel_namesq\\x03]q\\x04(U\\x08airplaneq\\x05U\\n\", b'automobileq\\x06U\\x04birdq\\x07U\\x03catq\\x08U\\x04deerq\\tU\\x03dogq\\n', b'U\\x04frogq\\x0bU\\x05horseq\\x0cU\\x04shipq\\rU\\x05truckq\\x0eeU\\x07num_visq\\x0fM\\x00\\x0cu.']\n",
      "[b\"\\x80\\x02}q\\x01(U\\x13num_cases_per_batchq\\x02M\\x10'U\\x0blabel_namesq\\x03]q\\x04(U\\x08airplaneq\\x05U\\n\", b'automobileq\\x06U\\x04birdq\\x07U\\x03catq\\x08U\\x04deerq\\tU\\x03dogq\\n', b'U\\x04frogq\\x0bU\\x05horseq\\x0cU\\x04shipq\\rU\\x05truckq\\x0eeU\\x07num_visq\\x0fM\\x00\\x0cu.']\n"
     ]
    }
   ],
   "source": [
    "load_CIFAR_Labels(\"/Users/jamesliao2018/Downloads/cifar-10-batches-py/batches.meta\")"
   ]
  },
  {
   "cell_type": "code",
   "execution_count": 11,
   "metadata": {},
   "outputs": [
    {
     "name": "stdout",
     "output_type": "stream",
     "text": [
      "[b\"\\x80\\x02}q\\x01(U\\x13num_cases_per_batchq\\x02M\\x10'U\\x0blabel_namesq\\x03]q\\x04(U\\x08airplaneq\\x05U\\n\", b'automobileq\\x06U\\x04birdq\\x07U\\x03catq\\x08U\\x04deerq\\tU\\x03dogq\\n', b'U\\x04frogq\\x0bU\\x05horseq\\x0cU\\x04shipq\\rU\\x05truckq\\x0eeU\\x07num_visq\\x0fM\\x00\\x0cu.']\n",
      "(10000, 3, 32, 32)\n",
      "正在保存图片:\n",
      "保存完毕.\n"
     ]
    }
   ],
   "source": [
    "if __name__ == \"__main__\":\n",
    "    load_CIFAR_Labels(\"/Users/jamesliao2018/Downloads/cifar-10-batches-py/batches.meta\")\n",
    "    imgX, imgY = load_CIFAR_batch(\"/Users/jamesliao2018/Downloads/cifar-10-batches-py/data_batch_1\")\n",
    "    print (imgX.shape)\n",
    "    print (\"正在保存图片:\")\n",
    "    for i in range(imgX.shape[0]):\n",
    "        imgs = imgX[i - 1]\n",
    "        if i < 100:#只循环100张图片,这句注释掉可以便利出所有的图片,图片较多,可能要一定的时间\n",
    "            img0 = imgs[0]\n",
    "            img1 = imgs[1]\n",
    "            img2 = imgs[2]\n",
    "            i0 = Image.fromarray(img0)\n",
    "            i1 = Image.fromarray(img1)\n",
    "            i2 = Image.fromarray(img2)\n",
    "            img = Image.merge(\"RGB\",(i0,i1,i2))\n",
    "            name = \"img\" + str(i)\n",
    "            img.save(name+ \".png\",\"png\")#文件夹下是RGB融合后的图像\n",
    "            for j in range(imgs.shape[0]):\n",
    "                img = imgs[j - 1]\n",
    "                name = \"img\" + str(i) + str(j) + \".png\"\n",
    "                #print (\"正在保存图片\" + name)\n",
    "                plimg.imsave( name, img)#文件夹下是RGB分离的图像\n",
    "\n",
    "    print (\"保存完毕.\")"
   ]
  },
  {
   "cell_type": "code",
   "execution_count": 12,
   "metadata": {},
   "outputs": [
    {
     "data": {
      "text/plain": [
       "(10000, 3, 32, 32)"
      ]
     },
     "execution_count": 12,
     "metadata": {},
     "output_type": "execute_result"
    }
   ],
   "source": [
    "imgX.shape"
   ]
  },
  {
   "cell_type": "code",
   "execution_count": 13,
   "metadata": {},
   "outputs": [
    {
     "data": {
      "text/plain": [
       "(10000,)"
      ]
     },
     "execution_count": 13,
     "metadata": {},
     "output_type": "execute_result"
    }
   ],
   "source": [
    "imgY.shape"
   ]
  },
  {
   "cell_type": "code",
   "execution_count": 14,
   "metadata": {},
   "outputs": [
    {
     "data": {
      "text/plain": [
       "array([6, 9, 9, 4, 1])"
      ]
     },
     "execution_count": 14,
     "metadata": {},
     "output_type": "execute_result"
    }
   ],
   "source": [
    "imgY[:5]"
   ]
  },
  {
   "cell_type": "code",
   "execution_count": 18,
   "metadata": {},
   "outputs": [],
   "source": [
    "import pickle\n",
    "def LOAD_CIFAR_LABELS(filename):\n",
    "    with open(filename, 'rb') as f:\n",
    "        obj = pickle.load(f)\n",
    "        print (obj)\n",
    "        \n"
   ]
  },
  {
   "cell_type": "code",
   "execution_count": 19,
   "metadata": {},
   "outputs": [
    {
     "name": "stdout",
     "output_type": "stream",
     "text": [
      "{'num_cases_per_batch': 10000, 'label_names': ['airplane', 'automobile', 'bird', 'cat', 'deer', 'dog', 'frog', 'horse', 'ship', 'truck'], 'num_vis': 3072}\n"
     ]
    }
   ],
   "source": [
    "LOAD_CIFAR_LABELS(\"/Users/jamesliao2018/Downloads/cifar-10-batches-py/batches.meta\")"
   ]
  },
  {
   "cell_type": "code",
   "execution_count": null,
   "metadata": {},
   "outputs": [],
   "source": []
  }
 ],
 "metadata": {
  "kernelspec": {
   "display_name": "Python 3",
   "language": "python",
   "name": "python3"
  },
  "language_info": {
   "codemirror_mode": {
    "name": "ipython",
    "version": 3
   },
   "file_extension": ".py",
   "mimetype": "text/x-python",
   "name": "python",
   "nbconvert_exporter": "python",
   "pygments_lexer": "ipython3",
   "version": "3.6.4"
  }
 },
 "nbformat": 4,
 "nbformat_minor": 2
}
