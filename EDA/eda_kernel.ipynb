{
 "cells": [
  {
   "cell_type": "markdown",
   "metadata": {
    "_uuid": "8f2839f25d086af736a60e9eeb907d3b93b6e0e5",
    "_cell_guid": "b1076dfc-b9ad-4769-8c92-a6c4dae69d19",
    "trusted": true,
    "collapsed": true
   },
   "source": [
    " ##  **Introducation**\n",
    "\n",
    "Home Credit strives to broaden financial inclusion for the unbanked population by providing a positive and safe borrowing experience. In order to make sure this underserved population has a positive loan experience, Home Credit makes use of a variety of alternative data--including telco and transactional information--to predict their clients' repayment abilities.\n",
    "\n",
    "While Home Credit is currently using various statistical and machine learning methods to make these predictions, they're challenging Kagglers to help them unlock the full potential of their data. Doing so will ensure that clients capable of repayment are not rejected and that loans are given with a principal, maturity, and repayment calendar that will empower their clients to be successful.\n"
   ]
  },
  {
   "cell_type": "code",
   "execution_count": null,
   "metadata": {
    "_cell_guid": "79c7e3d0-c299-4dcb-8224-4455121ee9b0",
    "_uuid": "d629ff2d2480ee46fbb7e2d37f6b5fab8052498a",
    "trusted": true,
    "collapsed": true,
    "_kg_hide-input": true
   },
   "outputs": [],
   "source": [
    "# the following are the important Package used for this EDA process\n",
    "\n",
    "import numpy as np # linear algebra\n",
    "import pandas as pd # data processing, CSV file I/O (e.g. pd.read_csv)\n",
    "from plotly.offline import init_notebook_mode, iplot\n",
    "from wordcloud import WordCloud\n",
    "import plotly.graph_objs as go\n",
    "import matplotlib.pyplot as plt\n",
    "import plotly.plotly as py\n",
    "from plotly import tools\n",
    "from datetime import date\n",
    "import seaborn as sns\n",
    "import random \n",
    "import warnings\n",
    "warnings.filterwarnings(\"ignore\")\n",
    "import matplotlib as matplot\n",
    "%matplotlib inline\n",
    "sns.set_style('whitegrid')\n",
    "# Input data files are available in the \"../input/\" directory.\n",
    "# For example, running this (by clicking run or pressing Shift+Enter) will list the files in the input directory\n",
    "\n",
    "import os\n",
    "#print(os.listdir(\"../input\"))\n",
    "\n",
    "# Any results you write to the current directory are saved as output."
   ]
  },
  {
   "cell_type": "markdown",
   "metadata": {
    "trusted": true,
    "collapsed": true,
    "_uuid": "bbf51c9464eafb9a3931bcaa2d1fcdbbdbb6178e"
   },
   "source": [
    " ## Importing The Dataset"
   ]
  },
  {
   "cell_type": "code",
   "execution_count": null,
   "metadata": {
    "trusted": true,
    "collapsed": true,
    "_uuid": "7bdc8ba718bfc4c8ec38e833662c1149ed523b48"
   },
   "outputs": [],
   "source": [
    "application_train = pd.read_csv('../input/application_train.csv')\n",
    "application_test= pd.read_csv('../input/application_test.csv')\n",
    "bureau = pd.read_csv('../input/bureau.csv')\n",
    "bureau_balance = pd.read_csv('../input/bureau_balance.csv')\n",
    "POS_CASH_balance = pd.read_csv('../input/POS_CASH_balance.csv')\n",
    "credit_card_balance = pd.read_csv('../input/credit_card_balance.csv')\n",
    "previous_application = pd.read_csv('../input/previous_application.csv')\n",
    "installments_payments = pd.read_csv('../input/installments_payments.csv')"
   ]
  },
  {
   "cell_type": "code",
   "execution_count": null,
   "metadata": {
    "trusted": true,
    "_uuid": "9278a4a26e447e316a29a7b6603d8901a30c6ed2",
    "collapsed": true
   },
   "outputs": [],
   "source": [
    "application_train.head()"
   ]
  },
  {
   "cell_type": "markdown",
   "metadata": {
    "_uuid": "878f7e3b9c9e28e9f6bd0978cea49378b170aa84"
   },
   "source": [
    "## Data Description"
   ]
  },
  {
   "cell_type": "markdown",
   "metadata": {
    "_uuid": "909c34858369833b88f3040f32ef96c3fcc9c67f"
   },
   "source": [
    "appliction_train & application_test\n\nThis is the main table, broken into two files for Train (with TARGET) and Test (without TARGET).\nStatic data for all applications. One row represents one loan in our data sample.\n\nbureau\n\nAll client's previous credits provided by other financial institutions that were reported to Credit Bureau (for clients who have a loan in our sample).\nFor every loan in our sample, there are as many rows as number of credits the client had in Credit Bureau before the application date.\n\nbureau_balance\n\nMonthly balances of previous credits in Credit Bureau.\nThis table has one row for each month of history of every previous credit reported to Credit Bureau – i.e the table has (#loans in sample * # of relative previous credits * # of months where we have some history observable for the previous credits) rows.\n\nPOS_CASH_balance\n\nMonthly balance snapshots of previous POS (point of sales) and cash loans that the applicant had with Home Credit.\nThis table has one row for each month of history of every previous credit in Home Credit (consumer credit and cash loans) related to loans in our sample – i.e. the table has (#loans in sample * # of relative previous credits * # of months in which we have some history observable for the previous credits) rows.\n\ncredit_card_balance\n\nMonthly balance snapshots of previous credit cards that the applicant has with Home Credit.\nThis table has one row for each month of history of every previous credit in Home Credit (consumer credit and cash loans) related to loans in our sample – i.e. the table has (#loans in sample * # of relative previous credit cards * # of months where we have some history observable for the previous credit card) rows.\n\nprevious_application\n\nAll previous applications for Home Credit loans of clients who have loans in our sample.\nThere is one row for each previous application related to loans in our data sample.\n\ninstallments_payments\n\nRepayment history for the previously disbursed credits in Home Credit related to the loans in our sample.\nThere is a) one row for every payment that was made plus b) one row each for missed payment.\nOne row is equivalent to one payment of one installment OR one installment corresponding to one payment of one previous Home Credit credit related to loans in our sample.\n\n"
   ]
  },
  {
   "cell_type": "markdown",
   "metadata": {
    "_uuid": "e0856591e384fd1379eab823ab3d8e301011125f"
   },
   "source": [
    "![image.png](attachment:image.png)"
   ]
  },
  {
   "cell_type": "markdown",
   "metadata": {
    "_uuid": "9253bed8158538ec0d0999d519c02fe1ca7dd015"
   },
   "source": [
    "2. ### Number of records and Features in the datasets\n2.1. ** Let Examine the Applaication Train DataSet**"
   ]
  },
  {
   "cell_type": "code",
   "execution_count": null,
   "metadata": {
    "trusted": true,
    "_uuid": "222867055209de8e0eeb2a144040139d346d775d",
    "collapsed": true
   },
   "outputs": [],
   "source": [
    "print(\"The number of Features in application train dataset :\",application_train.shape[1])\n",
    "print(\"The number of Rows in application Train dataset :\",application_train.shape[0])"
   ]
  },
  {
   "cell_type": "code",
   "execution_count": null,
   "metadata": {
    "trusted": true,
    "_uuid": "91816eb239fe999a5f8033796064ccaa60aafa13",
    "_kg_hide-input": true,
    "_kg_hide-output": true,
    "collapsed": true
   },
   "outputs": [],
   "source": [
    "application_train.head()"
   ]
  },
  {
   "cell_type": "markdown",
   "metadata": {
    "_uuid": "377aa43ef7a8a422af87bb6087ebcbd48d698b3c"
   },
   "source": [
    "### Identifying Numerical and Categorical Features"
   ]
  },
  {
   "cell_type": "markdown",
   "metadata": {
    "_uuid": "30637c815732be70803bb5e00f6929e2b1320ca7"
   },
   "source": [
    "###  Function for  find out Numerical and categeical Variables"
   ]
  },
  {
   "cell_type": "code",
   "execution_count": null,
   "metadata": {
    "trusted": true,
    "collapsed": true,
    "_uuid": "94da7050e0c1a05418f3cbecb43237ff19b0d3d3"
   },
   "outputs": [],
   "source": [
    "def type_features(data):\n",
    "    categorical_features = data.select_dtypes(include = [\"object\"]).columns\n",
    "    numerical_features = data.select_dtypes(exclude = [\"object\"]).columns\n",
    "    print( \"categorical_features :\",categorical_features)\n",
    "    print('-----'*40)\n",
    "    print(\"numerical_features:\",numerical_features)\n",
    "    \n"
   ]
  },
  {
   "cell_type": "code",
   "execution_count": null,
   "metadata": {
    "trusted": true,
    "_uuid": "00bf4347cf170fe7dda112ca7ae1aaaa8ce2a077",
    "collapsed": true
   },
   "outputs": [],
   "source": [
    "type_features(application_train)"
   ]
  },
  {
   "cell_type": "markdown",
   "metadata": {
    "_uuid": "c2206065bdc94a4585aab6ccaf841e4578b063d5"
   },
   "source": [
    "### Identifying Missing Value Present in Application Train Dataset"
   ]
  },
  {
   "cell_type": "code",
   "execution_count": null,
   "metadata": {
    "trusted": true,
    "_uuid": "44c030d12ef92ea0de77028413c86606f8dab841",
    "collapsed": true,
    "_kg_hide-input": true
   },
   "outputs": [],
   "source": [
    "\n",
    "def missingdata(data):\n",
    "    total = data.isnull().sum().sort_values(ascending = False)\n",
    "    percent = (data.isnull().sum()/data.isnull().count()*100).sort_values(ascending = False)\n",
    "    ms=pd.concat([total, percent], axis=1, keys=['Total', 'Percent'])\n",
    "    ms= ms[ms[\"Percent\"] > 0]\n",
    "    f,ax =plt.subplots(figsize=(15,10))\n",
    "    plt.xticks(rotation='90')\n",
    "    fig=sns.barplot(ms.index, ms[\"Percent\"],color=\"green\",alpha=0.8)\n",
    "    plt.xlabel('Features', fontsize=15)\n",
    "    plt.ylabel('Percent of missing values', fontsize=15)\n",
    "    plt.title('Percent missing data by feature', fontsize=15)\n",
    "    #ms= ms[ms[\"Percent\"] > 0]\n",
    "    return ms"
   ]
  },
  {
   "cell_type": "code",
   "execution_count": null,
   "metadata": {
    "trusted": true,
    "_uuid": "d34880540deb2813d368d28e2c14f20f6cff1f34",
    "collapsed": true
   },
   "outputs": [],
   "source": [
    "missingdata(application_test)"
   ]
  },
  {
   "cell_type": "markdown",
   "metadata": {
    "_uuid": "04185ba8e9d8b0850ef3bf03276f1089027bd980"
   },
   "source": [
    "### The above given figure which clear say about the which features has missing value and precentage of missing value avaiable in application_train DataSet"
   ]
  },
  {
   "cell_type": "markdown",
   "metadata": {
    "_uuid": "73098c2e0d5c061cd6baa331fc81da0a0a59ad9b"
   },
   "source": [
    "### Let us Examine application_test data set"
   ]
  },
  {
   "cell_type": "code",
   "execution_count": null,
   "metadata": {
    "trusted": true,
    "_uuid": "2955a5fe2fc5ac0921c31a02039b6d07b7691f3c",
    "_kg_hide-input": false,
    "collapsed": true
   },
   "outputs": [],
   "source": [
    "application_test.head(7)"
   ]
  },
  {
   "cell_type": "code",
   "execution_count": null,
   "metadata": {
    "trusted": true,
    "_uuid": "4bc4b54e603620c861f95e299b6fb9de1fb3ec30",
    "collapsed": true
   },
   "outputs": [],
   "source": [
    "print(\"the number columns in the application_test dataset\",application_test.shape[1])\n",
    "print(\"the number rows in application_test dataset\",application_test.shape[0])"
   ]
  },
  {
   "cell_type": "markdown",
   "metadata": {
    "_uuid": "7831b9306dddb2c674d94b56c36c7b74b0e238b6"
   },
   "source": [
    "### identifying the Catergical and numberical variables "
   ]
  },
  {
   "cell_type": "code",
   "execution_count": null,
   "metadata": {
    "trusted": true,
    "_uuid": "40e987453fbea6d4bae50631141f76d5b93343e3",
    "collapsed": true
   },
   "outputs": [],
   "source": [
    "type_features(application_test)"
   ]
  },
  {
   "cell_type": "markdown",
   "metadata": {
    "_uuid": "58c610835581a3e6c3d7bf387c7140ed443c00d1"
   },
   "source": [
    "### identifying the missing values"
   ]
  },
  {
   "cell_type": "code",
   "execution_count": null,
   "metadata": {
    "trusted": true,
    "_uuid": "089de64332c1e9f04b9969747c00deead6edb727",
    "collapsed": true
   },
   "outputs": [],
   "source": [
    "missingdata(application_test)"
   ]
  },
  {
   "cell_type": "markdown",
   "metadata": {
    "_uuid": "c52c4d6abaeb3ab88bb7f9226a5bcaf846612bbc"
   },
   "source": [
    "### Let Exmaine bureau dataset"
   ]
  },
  {
   "cell_type": "code",
   "execution_count": null,
   "metadata": {
    "trusted": true,
    "_uuid": "c6fb87dd06abdb60b86408af8ca46bccfe9e9ede",
    "collapsed": true
   },
   "outputs": [],
   "source": [
    "bureau.head(6)"
   ]
  },
  {
   "cell_type": "code",
   "execution_count": null,
   "metadata": {
    "trusted": true,
    "_uuid": "377eda0c240a0a55acc4a6e737c39c41d96d11e8",
    "collapsed": true
   },
   "outputs": [],
   "source": [
    "print(\"The number of features is :\",bureau.shape[1],\"The number of row is:\",bureau.shape[0])"
   ]
  },
  {
   "cell_type": "markdown",
   "metadata": {
    "_uuid": "28a3eedcbd63ed0eff75d9966240c5b9e0c2c748"
   },
   "source": [
    "### identifying the catergical and numnerical features  "
   ]
  },
  {
   "cell_type": "code",
   "execution_count": null,
   "metadata": {
    "trusted": true,
    "_uuid": "0ddb4beb0871bbb6fe85b29a08a6023045f30d57",
    "collapsed": true
   },
   "outputs": [],
   "source": [
    "type_features(bureau)"
   ]
  },
  {
   "cell_type": "markdown",
   "metadata": {
    "_uuid": "b7edecc8ada4a5ca1a635625432f2b044b917593"
   },
   "source": [
    "### identying the missing data"
   ]
  },
  {
   "cell_type": "code",
   "execution_count": null,
   "metadata": {
    "trusted": true,
    "_uuid": "566eaf6bee987f1b0fcda78c26daa2631b575fab",
    "collapsed": true
   },
   "outputs": [],
   "source": [
    "missingdata(bureau)"
   ]
  },
  {
   "cell_type": "markdown",
   "metadata": {
    "_uuid": "07970026506807efa66ff8b9734686a88bf1982e"
   },
   "source": [
    "### Exmaine the bureau_balance DataSet"
   ]
  },
  {
   "cell_type": "code",
   "execution_count": null,
   "metadata": {
    "trusted": true,
    "_uuid": "a91f0151bc1c4d8e5d9f961917354e958c6c77ed",
    "collapsed": true
   },
   "outputs": [],
   "source": [
    "bureau_balance.head(7)"
   ]
  },
  {
   "cell_type": "code",
   "execution_count": null,
   "metadata": {
    "trusted": true,
    "_uuid": "ecdd8183f927f2e997d4081dac3cb0d506b6986f",
    "collapsed": true
   },
   "outputs": [],
   "source": [
    "print(\"the number of columns\",bureau_balance.shape[1],\"the number of rows :\",bureau_balance.shape[0])"
   ]
  },
  {
   "cell_type": "markdown",
   "metadata": {
    "_uuid": "6ffcd4246038d7bc47f79ac086d145b0e93cfe2c"
   },
   "source": [
    "## identifying Catergical and numerical variables"
   ]
  },
  {
   "cell_type": "code",
   "execution_count": null,
   "metadata": {
    "trusted": true,
    "_uuid": "2cb16d78ffcc9ccd8aea0480c7a51d81ba81e936",
    "collapsed": true
   },
   "outputs": [],
   "source": [
    "type_features(bureau_balance)"
   ]
  },
  {
   "cell_type": "markdown",
   "metadata": {
    "_uuid": "d324cf71b16d6a81267b36c1d09f620534538373"
   },
   "source": [
    "### identifying the missing value in bureau_balance"
   ]
  },
  {
   "cell_type": "code",
   "execution_count": null,
   "metadata": {
    "trusted": true,
    "_uuid": "d383be0c536df7e73bee073ee6e94c1c05d0b163",
    "collapsed": true
   },
   "outputs": [],
   "source": [
    "total = bureau_balance.isnull().sum().sort_values(ascending = False)\n",
    "percent = (bureau_balance.isnull().sum()/bureau_balance.isnull().count()*100).sort_values(ascending = False)\n",
    "ms=pd.concat([total, percent], axis=1, keys=['Total', 'Percent'])\n",
    "ms= ms[ms[\"Percent\"] > 0]\n",
    "ms"
   ]
  },
  {
   "cell_type": "markdown",
   "metadata": {
    "_uuid": "3ed737893ec0f88453a32f106773c1e8389bde69"
   },
   "source": [
    "### No missing data in Bureau Balance Dataset"
   ]
  },
  {
   "cell_type": "markdown",
   "metadata": {
    "_uuid": "293f756811bff89090f962782deec7546492d688"
   },
   "source": [
    "## Exmaine the POS_CASH_balance DataSet"
   ]
  },
  {
   "cell_type": "code",
   "execution_count": null,
   "metadata": {
    "trusted": true,
    "_uuid": "08ea77dcd800812989451a8c6b0bf6ebd5ef992c",
    "collapsed": true
   },
   "outputs": [],
   "source": [
    "POS_CASH_balance.head(6)"
   ]
  },
  {
   "cell_type": "code",
   "execution_count": null,
   "metadata": {
    "trusted": true,
    "_uuid": "5afa1681ac88520a3d7245c0e72ed4ed2c02b553",
    "collapsed": true
   },
   "outputs": [],
   "source": [
    "POS_CASH_balance.shape"
   ]
  },
  {
   "cell_type": "markdown",
   "metadata": {
    "_uuid": "3dffa2b33ed79e23fabf156c2044cd38b4539bd0"
   },
   "source": [
    "### identifying the Catergical and numerical variables "
   ]
  },
  {
   "cell_type": "code",
   "execution_count": null,
   "metadata": {
    "trusted": true,
    "_uuid": "7544a86e37d794fb1a81d76247058463a9b99193",
    "collapsed": true
   },
   "outputs": [],
   "source": [
    "type_features(POS_CASH_balance)"
   ]
  },
  {
   "cell_type": "markdown",
   "metadata": {
    "_uuid": "ac3d2c3bf836ed52c3a827598e959bc68245cb9a"
   },
   "source": [
    "### identifying the missing values"
   ]
  },
  {
   "cell_type": "code",
   "execution_count": null,
   "metadata": {
    "trusted": true,
    "_uuid": "3cc5320f7de9ae49adf85a1c8c9ac2981fa8b268",
    "collapsed": true
   },
   "outputs": [],
   "source": [
    "missingdata(POS_CASH_balance)"
   ]
  },
  {
   "cell_type": "markdown",
   "metadata": {
    "_uuid": "265bcfd4eff0cb1c0c8637ce150b71dd84f9bd0d"
   },
   "source": [
    "### Examine the credit_card_balance dataset"
   ]
  },
  {
   "cell_type": "code",
   "execution_count": null,
   "metadata": {
    "trusted": true,
    "_uuid": "065a9927bd4d0fef62366f7d751b5d0698ae5feb",
    "collapsed": true
   },
   "outputs": [],
   "source": [
    "credit_card_balance.head()"
   ]
  },
  {
   "cell_type": "code",
   "execution_count": null,
   "metadata": {
    "trusted": true,
    "_uuid": "c21c78c7fedd94f216dd29f3c93ec35cee55d54f",
    "collapsed": true
   },
   "outputs": [],
   "source": [
    "print(\"the number columns in dataset:\",credit_card_balance.shape[1],\"The number of rows:\",credit_card_balance.shape[0])"
   ]
  },
  {
   "cell_type": "markdown",
   "metadata": {
    "_uuid": "567920a920ccf754c96324e950ffa5af1e70b432"
   },
   "source": [
    "### identifying the Categerical and numerical Variable "
   ]
  },
  {
   "cell_type": "code",
   "execution_count": null,
   "metadata": {
    "trusted": true,
    "_uuid": "352b0c883528e8fdc22e860da764c14ef1620baa",
    "collapsed": true
   },
   "outputs": [],
   "source": [
    "type_features(credit_card_balance)"
   ]
  },
  {
   "cell_type": "markdown",
   "metadata": {
    "_uuid": "d0221260eedfc10214f0640d08a02acdc82f747e"
   },
   "source": [
    "### identifying the missing value in credit_card_balance dataset"
   ]
  },
  {
   "cell_type": "code",
   "execution_count": null,
   "metadata": {
    "trusted": true,
    "_uuid": "44d6c03bfb07e76d416c1b456fa96c03e6dc34f8",
    "collapsed": true
   },
   "outputs": [],
   "source": [
    "missingdata(credit_card_balance)"
   ]
  },
  {
   "cell_type": "markdown",
   "metadata": {
    "_uuid": "be8806403559ba9ff4eb4e5a34f07d2dc6d75778"
   },
   "source": [
    "### Exmaine the previous_application Dataset"
   ]
  },
  {
   "cell_type": "code",
   "execution_count": null,
   "metadata": {
    "trusted": true,
    "_uuid": "5e1e16459b344ee77d31ef17480113a1c66dd496",
    "collapsed": true
   },
   "outputs": [],
   "source": [
    "previous_application.head(7)"
   ]
  },
  {
   "cell_type": "markdown",
   "metadata": {
    "_uuid": "077f371ea59ea21371665be7d03a283fb41009ba"
   },
   "source": [
    " ### identifying the catergical and numerical variable in previous application Data set."
   ]
  },
  {
   "cell_type": "code",
   "execution_count": null,
   "metadata": {
    "trusted": true,
    "_uuid": "19c32a79d0abb5557e2481b6f8284c5702fa52a9",
    "collapsed": true
   },
   "outputs": [],
   "source": [
    "type_features(previous_application)"
   ]
  },
  {
   "cell_type": "markdown",
   "metadata": {
    "_uuid": "15ca5a0d02da6067e328a82dc95852487733ced0"
   },
   "source": [
    "### identifying the missing value in previous_application"
   ]
  },
  {
   "cell_type": "code",
   "execution_count": null,
   "metadata": {
    "trusted": true,
    "_uuid": "6cda2e9ed402cec7dfe9b5d4bf7b3e28144cb96c",
    "collapsed": true
   },
   "outputs": [],
   "source": [
    "missingdata(previous_application)"
   ]
  },
  {
   "cell_type": "markdown",
   "metadata": {
    "_uuid": "f280b69566af1e2b7e36c35c3b42f89004a19675"
   },
   "source": [
    "### Exmaine the installments_payments dataset"
   ]
  },
  {
   "cell_type": "code",
   "execution_count": null,
   "metadata": {
    "trusted": true,
    "_uuid": "ca366aa1f00179824fd4998b36197a27dae95645",
    "collapsed": true
   },
   "outputs": [],
   "source": [
    "installments_payments.head(7)"
   ]
  },
  {
   "cell_type": "markdown",
   "metadata": {
    "_uuid": "4a1f189286d70abb8bc1307ed04478aeb12250dc"
   },
   "source": [
    "### identifying the categerical and numerical Variable "
   ]
  },
  {
   "cell_type": "code",
   "execution_count": null,
   "metadata": {
    "trusted": true,
    "_uuid": "57ab10d08d5a0382196f7ae284dee5300235fe95",
    "collapsed": true
   },
   "outputs": [],
   "source": [
    "type_features(installments_payments)"
   ]
  },
  {
   "cell_type": "markdown",
   "metadata": {
    "_uuid": "c91490f7c1e3e8586dfd742692b22a7506c21b7e"
   },
   "source": [
    "### identifying the missing value in installments_payments"
   ]
  },
  {
   "cell_type": "code",
   "execution_count": null,
   "metadata": {
    "trusted": true,
    "_uuid": "b5b7666753c8b3546d2262f93bea03662d008b74",
    "collapsed": true
   },
   "outputs": [],
   "source": [
    "missingdata(installments_payments)"
   ]
  },
  {
   "cell_type": "markdown",
   "metadata": {
    "_uuid": "d2011c1c3c4d8982d94a59dfafd22b1c152d39a7"
   },
   "source": [
    "## Checking the Imbalance of Target Variable"
   ]
  },
  {
   "cell_type": "code",
   "execution_count": null,
   "metadata": {
    "trusted": true,
    "_uuid": "6cdc38bbb75d6f212d5631b2195e76c9ac40bcb4",
    "collapsed": true
   },
   "outputs": [],
   "source": [
    "f,ax=plt.subplots(1,2,figsize=(12,6))\n",
    "application_train.TARGET.value_counts().plot.pie(explode=[0,0.1],autopct='%1.1f%%',ax=ax[0],shadow=True)\n",
    "ax[0].set_title('Distribution of target variable')\n",
    "ax[0].set_ylabel('')\n",
    "sns.countplot('TARGET',data=application_train,ax=ax[1])\n",
    "ax[1].set_title('Count of Repayer VS defulter')\n",
    "plt.show()"
   ]
  },
  {
   "cell_type": "markdown",
   "metadata": {
    "trusted": true,
    "collapsed": true,
    "_uuid": "a9bffc4c6ebc5cd78347132507ab16d5d32eb70a"
   },
   "source": [
    "It is evident that  many customer are able to pay the loan back i.e Only 91.9% of the total customer are repaying the loan.\nWe need to drill down more to get better insights from the data and see which categories of the customer are not able to pay back loan.\n\nWe will try to check the repayer and defualter rate by using the different features of the dataset. \nSome of the features being Gender,Education,Employment_type,etc. First let us understand the different types of features."
   ]
  },
  {
   "cell_type": "markdown",
   "metadata": {
    "_uuid": "0186848fc35f21aa9352a15641bd768316049330"
   },
   "source": [
    "## Types Of Features\n\n### Categorical Features:\nA categorical variable is one that has two or more categories and each value in that feature can be categorised by them.For example, \nName Education Type is a categorical variable having Five categories. Now we cannot sort or give any ordering to such variables. They are also known as Nominal Variables.\n\nCategorical Features in the dataset: Education_type,occupation_type,Contract_type\n\n### Analysing The Features\n***Eduaction-----> Categorical Feature***"
   ]
  },
  {
   "cell_type": "code",
   "execution_count": null,
   "metadata": {
    "trusted": true,
    "_uuid": "5cb6be2c3139c27b4c74a19e3b91e73dc4df0f0c",
    "collapsed": true
   },
   "outputs": [],
   "source": [
    "def group_by(df,t1='',t2=''):\n",
    "    a1=df.groupby([t1,t2])[t2].count()\n",
    "    return a1"
   ]
  },
  {
   "cell_type": "code",
   "execution_count": null,
   "metadata": {
    "trusted": true,
    "_uuid": "35e1aae5467666072df7850bab499b4778269106",
    "collapsed": true
   },
   "outputs": [],
   "source": [
    "def plot_re(df,t1='',t2=''):\n",
    "    f,ax=plt.subplots(1,2,figsize=(10,6))\n",
    "    df[[t1,t2]].groupby([t1]).count().plot.bar(ax=ax[0],color='Green')\n",
    "    ax[0].set_title('count of customer Based on'+t1)\n",
    "    sns.countplot(t1,hue=t2,data=df,ax=ax[1],palette=\"spring\")\n",
    "    ax[1].set_title(t1+': Repayer vs Defualter')\n",
    "    # Rotate x-labels\n",
    "    plt.xticks(rotation=-90)\n",
    "    a=plt.show()\n",
    "    return a"
   ]
  },
  {
   "cell_type": "code",
   "execution_count": null,
   "metadata": {
    "trusted": true,
    "_uuid": "39486db72059a6856146310a715a95c8e67ccc82",
    "collapsed": true
   },
   "outputs": [],
   "source": [
    "plot_re(application_train,'NAME_EDUCATION_TYPE','TARGET')"
   ]
  },
  {
   "cell_type": "code",
   "execution_count": null,
   "metadata": {
    "trusted": true,
    "_uuid": "3cc3e06860df6a5f8db4038fd4b37a1dfc2e0bc8",
    "collapsed": true
   },
   "outputs": [],
   "source": [
    "group_by(application_train,'NAME_EDUCATION_TYPE','TARGET')"
   ]
  },
  {
   "cell_type": "markdown",
   "metadata": {
    "_uuid": "9a37a165e016dbc198ae56c15c60262076d34d87"
   },
   "source": [
    "### the proof is  edvined by looking at the above given plot and groupby function is clearly customer with education of secondary/secondary special has high  count where not able to pay loan back."
   ]
  },
  {
   "cell_type": "markdown",
   "metadata": {
    "trusted": true,
    "collapsed": true,
    "_uuid": "150b774c5c9383fd153d4713e0ee76391e2756ef"
   },
   "source": [
    "## Analysis based on Code  Gender "
   ]
  },
  {
   "cell_type": "code",
   "execution_count": null,
   "metadata": {
    "trusted": true,
    "_uuid": "b32d0a47e0308f25605f0176352b83ae01f98b1c",
    "collapsed": true
   },
   "outputs": [],
   "source": [
    "plot_re(application_train,'CODE_GENDER','TARGET')"
   ]
  },
  {
   "cell_type": "code",
   "execution_count": null,
   "metadata": {
    "trusted": true,
    "_uuid": "2dc83d01cdfb06b1c6772f3fbc93a79cbe7008bd",
    "collapsed": true
   },
   "outputs": [],
   "source": [
    "group_by(application_train,'CODE_GENDER','TARGET')"
   ]
  },
  {
   "cell_type": "markdown",
   "metadata": {
    "_uuid": "6ed284836aaee22f6a292933f796cec5f7fee060"
   },
   "source": [
    "### its clear that  by looking at the above given plot and groupby function is clearly customer based on code gender type female  has high  count where not able to pay loan back compare to male."
   ]
  },
  {
   "cell_type": "markdown",
   "metadata": {
    "_uuid": "b634bb84873c463e0a2df74168099f523c54effc"
   },
   "source": [
    "### Analysis based on INCOME TYPE"
   ]
  },
  {
   "cell_type": "code",
   "execution_count": null,
   "metadata": {
    "trusted": true,
    "_uuid": "ac7b1f841a164a45b1ea14646aeafd4405b71db3",
    "collapsed": true
   },
   "outputs": [],
   "source": [
    "plot_re(application_train,'NAME_INCOME_TYPE','TARGET')"
   ]
  },
  {
   "cell_type": "code",
   "execution_count": null,
   "metadata": {
    "trusted": true,
    "_uuid": "b7b48bdb9672479a3816a8ff53183962a51cca17",
    "collapsed": true
   },
   "outputs": [],
   "source": [
    "group_by(application_train,'NAME_INCOME_TYPE','TARGET')"
   ]
  },
  {
   "cell_type": "markdown",
   "metadata": {
    "_uuid": "acc0cfe8f041b3791d8db15099b826cdd741966f"
   },
   "source": [
    "### its clear that  by looking at the above given plot and groupby function is clearly customer based on code income type and the working  has high  count where not able to pay loan back compare to all other"
   ]
  },
  {
   "cell_type": "markdown",
   "metadata": {
    "_uuid": "d7390d8392ca5456708774a977dc7d2660b4607d"
   },
   "source": [
    "### Analysis based on OCCUPATION TYPE"
   ]
  },
  {
   "cell_type": "code",
   "execution_count": null,
   "metadata": {
    "trusted": true,
    "_uuid": "f7f9950c22fe99e8525b240752536ebe442b16f4",
    "collapsed": true
   },
   "outputs": [],
   "source": [
    "plot_re(application_train,'OCCUPATION_TYPE','TARGET')"
   ]
  },
  {
   "cell_type": "code",
   "execution_count": null,
   "metadata": {
    "trusted": true,
    "_uuid": "249dcef658a85eb073af0cafbcf26784ca9b8bfa",
    "collapsed": true
   },
   "outputs": [],
   "source": [
    "group_by(application_train,'OCCUPATION_TYPE','TARGET')"
   ]
  },
  {
   "cell_type": "markdown",
   "metadata": {
    "_uuid": "f38d91fbcd269a82091d3c2e7daf7834cacebe48"
   },
   "source": [
    "###  its clear that  by looking at the above given plot and groupby function is clearly customer based on occupation  type. the working  has high  count where not able to pay loan back compare to all other."
   ]
  },
  {
   "cell_type": "markdown",
   "metadata": {
    "_uuid": "07e7fd426338f6de406273d331b95f0801a69a09"
   },
   "source": [
    "### Analysis Based on FAMILY STATUS"
   ]
  },
  {
   "cell_type": "code",
   "execution_count": null,
   "metadata": {
    "trusted": true,
    "_uuid": "ef5ede2f01475f3f97b0b282bdcf6a17d27675d2",
    "collapsed": true
   },
   "outputs": [],
   "source": [
    "plot_re(application_train,'NAME_FAMILY_STATUS','TARGET')"
   ]
  },
  {
   "cell_type": "code",
   "execution_count": null,
   "metadata": {
    "trusted": true,
    "_uuid": "f0a10ec3ee3423d21ebb40f663421d56cc479eb2",
    "collapsed": true
   },
   "outputs": [],
   "source": [
    "group_by(application_train,'NAME_FAMILY_STATUS','TARGET')"
   ]
  },
  {
   "cell_type": "markdown",
   "metadata": {
    "_uuid": "c5cc4e85cf01e042acbd386954c5a1d1752a73b2"
   },
   "source": [
    "### its clear that  by looking at the above given plot and groupby function is clearly customer based on code Family type and the Married customer  has high  count where not able to pay loan back compare to all other."
   ]
  },
  {
   "cell_type": "markdown",
   "metadata": {
    "_uuid": "1df2ed07586bb2f22cc787488dcec5b773227407"
   },
   "source": [
    "\n### Analysis based HOUSING TYPE"
   ]
  },
  {
   "cell_type": "code",
   "execution_count": null,
   "metadata": {
    "trusted": true,
    "_uuid": "c02e06add8c7379f709a35ead123554f4e16ec87",
    "collapsed": true
   },
   "outputs": [],
   "source": [
    "plot_re(application_train,'NAME_HOUSING_TYPE','TARGET')"
   ]
  },
  {
   "cell_type": "code",
   "execution_count": null,
   "metadata": {
    "trusted": true,
    "_uuid": "2e2fe557d154d3df51e33ec9fa8c90a62f9db4d1",
    "collapsed": true
   },
   "outputs": [],
   "source": [
    "group_by(application_train,'NAME_HOUSING_TYPE','TARGET')"
   ]
  },
  {
   "cell_type": "markdown",
   "metadata": {
    "_uuid": "17198a92a3f245a180b3e840fe0308300c4b877c"
   },
   "source": [
    "### its clear that  by looking at the above given plot and groupby function is clearly customer based on Housing type and the house type customer  has high  count where not able to pay loan back compare to all other."
   ]
  },
  {
   "cell_type": "markdown",
   "metadata": {
    "_uuid": "f641a0ff8dea63dbd01db0d427fd3a76cf79425f"
   },
   "source": [
    "### Analysis based on TYPE SUITE"
   ]
  },
  {
   "cell_type": "code",
   "execution_count": null,
   "metadata": {
    "trusted": true,
    "_uuid": "8e67ba46ec217b7e03e29e8fcdfd650d95572355",
    "collapsed": true
   },
   "outputs": [],
   "source": [
    "plot_re(application_train,'NAME_TYPE_SUITE','TARGET')"
   ]
  },
  {
   "cell_type": "code",
   "execution_count": null,
   "metadata": {
    "trusted": true,
    "_uuid": "a1aff71e0d4e38c3d9df0ad4fe1aecdb1f5afaf2",
    "collapsed": true
   },
   "outputs": [],
   "source": [
    "group_by(application_train,'NAME_TYPE_SUITE','TARGET')"
   ]
  },
  {
   "cell_type": "markdown",
   "metadata": {
    "_uuid": "a4fea4da0f3ed44736178b2af9f05f28dbf07690"
   },
   "source": [
    "### its clear that  by looking at the above given plot and groupby function is clearly customer based on Suite type and the unaccompanied customer  has high  count where not able to pay loan back compare to all other."
   ]
  },
  {
   "cell_type": "markdown",
   "metadata": {
    "trusted": true,
    "collapsed": true,
    "_uuid": "e3d9cb8b1856f51d39f30461857f6c55dc1545c8"
   },
   "source": [
    "### Analysis Based on ORGANIZATION TYPE"
   ]
  },
  {
   "cell_type": "code",
   "execution_count": null,
   "metadata": {
    "trusted": true,
    "_uuid": "1fd4604c19d9953b6107d05e1ff2834b8095cae5",
    "collapsed": true
   },
   "outputs": [],
   "source": [
    "f, ax = plt.subplots(figsize=(20, 8))\n",
    "# Employee distri\n",
    "# Types of colors\n",
    "color_types = ['#78C850','#F08030','#6890F0','#A8B820','#A8A878','#A040A0','#F8D030',  \n",
    "                '#E0C068','#EE99AC','#C03028','#F85888','#B8A038','#705898','#98D8D8','#7038F8']\n",
    "\n",
    "# Count Plot (a.k.a. Bar Plot)\n",
    "sns.countplot(x='ORGANIZATION_TYPE', data=application_train, palette=color_types).set_title('count based on Organization type');\n",
    " \n",
    "# Rotate x-labels\n",
    "plt.xticks(rotation=-90)"
   ]
  },
  {
   "cell_type": "code",
   "execution_count": null,
   "metadata": {
    "trusted": true,
    "_uuid": "aa1d937e7b9214e18f159de9e79236e1ba285800",
    "collapsed": true
   },
   "outputs": [],
   "source": [
    "f, ax = plt.subplots(figsize=(15, 10))\n",
    "sns.countplot(y=\"ORGANIZATION_TYPE\", hue='TARGET', \n",
    "              data=application_train).set_title('REpayer VS Defaulter based on Organization type')"
   ]
  },
  {
   "cell_type": "code",
   "execution_count": null,
   "metadata": {
    "trusted": true,
    "_uuid": "a0046bac390c7b81f78a69994f84e2ecde8c5f40",
    "collapsed": true
   },
   "outputs": [],
   "source": [
    "group_by(application_train,'ORGANIZATION_TYPE','TARGET')"
   ]
  },
  {
   "cell_type": "markdown",
   "metadata": {
    "_uuid": "ac0f3f6723d4cf118fd85ae44ed48198cddc1d9f"
   },
   "source": [
    "### its clear that  by looking at the above given plot and groupby function is clearly customer based on Organization type and the Business type 3 customer  has high  count where not able to pay loan back compare to all other."
   ]
  },
  {
   "cell_type": "markdown",
   "metadata": {
    "_uuid": "67d4a4f1b3e3f65609c4a5be42ae9fce805294fd"
   },
   "source": [
    "### Analysis based on FLAG OWN CAR"
   ]
  },
  {
   "cell_type": "code",
   "execution_count": null,
   "metadata": {
    "trusted": true,
    "_uuid": "e79a7ad81ec78d9ca88c9e8f1cfe3191d66a9604",
    "collapsed": true
   },
   "outputs": [],
   "source": [
    "plot_re(application_train,'FLAG_OWN_CAR','TARGET')"
   ]
  },
  {
   "cell_type": "code",
   "execution_count": null,
   "metadata": {
    "trusted": true,
    "_uuid": "ef424a9b16d7439d4b53e5a2934e9ed61f1dc342",
    "collapsed": true
   },
   "outputs": [],
   "source": [
    "group_by(application_train,'FLAG_OWN_CAR','TARGET')"
   ]
  },
  {
   "cell_type": "markdown",
   "metadata": {
    "_uuid": "599d7eee94c6a853cbb4460fa9622088ec3fc539"
   },
   "source": [
    "### its clear that  by looking at the above given plot and groupby function is clearly customer based on owning car type and the customer with no car  has high  count where not able to pay loan back compare to all other."
   ]
  },
  {
   "cell_type": "markdown",
   "metadata": {
    "_uuid": "7702fe694caa0a1921e9f0e0c972af70ad60f471"
   },
   "source": [
    "### Analysis based on FLAG_OWN_REALTY"
   ]
  },
  {
   "cell_type": "code",
   "execution_count": null,
   "metadata": {
    "trusted": true,
    "_uuid": "da2a728ae2e3a9ca76ae59e43adca4cba48bba73",
    "collapsed": true
   },
   "outputs": [],
   "source": [
    "plot_re(application_train,'FLAG_OWN_REALTY','TARGET')"
   ]
  },
  {
   "cell_type": "code",
   "execution_count": null,
   "metadata": {
    "trusted": true,
    "_uuid": "ad75ccf7041f26614948d7ff59974ee1218aa084",
    "collapsed": true
   },
   "outputs": [],
   "source": [
    "group_by(application_train,'FLAG_OWN_REALTY','TARGET')"
   ]
  },
  {
   "cell_type": "markdown",
   "metadata": {
    "_uuid": "4f0d7668dfe95a67e55b7f833228611d9fb67d69"
   },
   "source": [
    "### its clear that  by looking at the above given plot and groupby function is clearly customer based on owning Reality type and the customer has Reality  has high  count where not able to pay loan back compare to all other."
   ]
  },
  {
   "cell_type": "markdown",
   "metadata": {
    "trusted": true,
    "collapsed": true,
    "_uuid": "28b00b119e3f083e96d853ce68adb52d62edbaa6"
   },
   "source": [
    "### Analysis based on NAME_CONTRACT_TYPE"
   ]
  },
  {
   "cell_type": "code",
   "execution_count": null,
   "metadata": {
    "trusted": true,
    "_uuid": "96e5af4d5ad27a81b7e6972dac75a7384f18347f",
    "collapsed": true
   },
   "outputs": [],
   "source": [
    "plot_re(application_train,'NAME_CONTRACT_TYPE','TARGET')"
   ]
  },
  {
   "cell_type": "code",
   "execution_count": null,
   "metadata": {
    "trusted": true,
    "_uuid": "583fbf7d57bf86fbc6f4d7d05cdbea9e116ab2e8",
    "collapsed": true
   },
   "outputs": [],
   "source": [
    "group_by(application_train,'NAME_CONTRACT_TYPE','TARGET')"
   ]
  },
  {
   "cell_type": "markdown",
   "metadata": {
    "_uuid": "6d9d1e5481ae4e2358093af6773e955a2cbd7164"
   },
   "source": [
    "### its clear that  by looking at the above given plot and groupby function is clearly customer based on Contract type and the customer with cash loans  has high  count where not able to pay loan back compare to all other."
   ]
  },
  {
   "cell_type": "markdown",
   "metadata": {
    "_uuid": "891d64d0fe9f4c0b33fe6013f3ca3c56bb2ffe01"
   },
   "source": [
    "### Analysis based on WEEKDAY_APPR_PROCESS_START"
   ]
  },
  {
   "cell_type": "code",
   "execution_count": null,
   "metadata": {
    "trusted": true,
    "_uuid": "7f58491f1b4ae26350c53a9becb759937decba55",
    "collapsed": true
   },
   "outputs": [],
   "source": [
    "plot_re(application_train,'WEEKDAY_APPR_PROCESS_START','TARGET')"
   ]
  },
  {
   "cell_type": "code",
   "execution_count": null,
   "metadata": {
    "trusted": true,
    "_uuid": "d4e381f48fbc60e70bdf8cb441d0cc124e252d9d",
    "collapsed": true
   },
   "outputs": [],
   "source": [
    "group_by(application_train,'WEEKDAY_APPR_PROCESS_START','TARGET')"
   ]
  },
  {
   "cell_type": "markdown",
   "metadata": {
    "_uuid": "8335ff221a577a510cde271d80c3fae8d77e7e2e"
   },
   "source": [
    "### its clear that  by looking at the above given plot and groupby function is clearly customer based application start on days and the customer registed  on tuesday  has high  count were not able to pay loan back compare to all other.\n\n### Analysis based House Type Mode"
   ]
  },
  {
   "cell_type": "code",
   "execution_count": null,
   "metadata": {
    "trusted": true,
    "_uuid": "8bec2ee734cbea44ac39fc9eb45992f1c9caf284",
    "collapsed": true
   },
   "outputs": [],
   "source": [
    "plot_re(application_train,'HOUSETYPE_MODE','TARGET')"
   ]
  },
  {
   "cell_type": "code",
   "execution_count": null,
   "metadata": {
    "trusted": true,
    "_uuid": "617bea5e7acfadec61e42bd116b56996feb2f077",
    "collapsed": true
   },
   "outputs": [],
   "source": [
    "group_by(application_train,'HOUSETYPE_MODE','TARGET')"
   ]
  },
  {
   "cell_type": "markdown",
   "metadata": {
    "_uuid": "1ce5765198c2f28eb95e7c6f6a0f5f275c6d2299"
   },
   "source": [
    "### its clear that  by looking at the above given plot and groupby function is clearly customer based Housetype Mode and the customer registed  on Block of flats has high  count where not able to pay loan back compare to all other."
   ]
  },
  {
   "cell_type": "markdown",
   "metadata": {
    "_uuid": "edee43079173e7d03867cb516d2430743d2e7bdf"
   },
   "source": [
    "### Analysis Based on EMERGENCYSTATE MODE "
   ]
  },
  {
   "cell_type": "code",
   "execution_count": null,
   "metadata": {
    "trusted": true,
    "_uuid": "5d6924c6536560834e7cb3d44eda896fdff4fde2",
    "collapsed": true
   },
   "outputs": [],
   "source": [
    "plot_re(application_train,'EMERGENCYSTATE_MODE','TARGET')"
   ]
  },
  {
   "cell_type": "markdown",
   "metadata": {
    "_uuid": "88a253c8ef0daa7042b95cfedb2c9f00f1346efd"
   },
   "source": [
    "### its clear that  by looking at the above given plot and groupby function is clearly customer based Emergency state Mode and the customer has No  has high  count where not able to pay loan back compare to all other."
   ]
  },
  {
   "cell_type": "markdown",
   "metadata": {
    "_uuid": "80c76999c7b7b2ac037ae439e0c547fec6340eaf"
   },
   "source": [
    "### ANALYSIS THE NUMBERICAL FEATURES \n\n\n#### ANALYZSIS BASED ON  COUNT CHILDREN "
   ]
  },
  {
   "cell_type": "code",
   "execution_count": null,
   "metadata": {
    "trusted": true,
    "_uuid": "e1378b028d204e25345d2c9078af474f1b2d49e9",
    "collapsed": true
   },
   "outputs": [],
   "source": [
    "sns.set_style('whitegrid')\n",
    "f, ax = plt.subplots(3,1,figsize=(20,15))\n",
    "\n",
    "# Types of colors\n",
    "color_types = ['#78C850','#F08030','#6890F0','#A8B820','#A8A878','#A040A0','#F8D030',  \n",
    "                '#E0C068','#EE99AC','#C03028','#F85888','#B8A038','#705898','#98D8D8','#7038F8']\n",
    "\n",
    "# Count Plot (a.k.a. Bar Plot)\n",
    "sns.countplot(x='CNT_CHILDREN', data=application_train, ax=ax[0],palette=color_types).set_title('count based on Organization type');\n",
    "sns.countplot(\"CNT_CHILDREN\", hue='TARGET', \n",
    "              data=application_train,ax=ax[1]).set_title('REpayer VS Defaulter based on CNT_CHILDREN')\n",
    "ax[2]=sns.kdeplot(application_train.loc[(application_train['TARGET'] == 0),'CNT_CHILDREN'] , color='b',shade=True,label='NON-PAYERS')\n",
    "ax[2]=sns.kdeplot(application_train.loc[(application_train['TARGET'] == 1),'CNT_CHILDREN'] , color='r',shade=True, label='REPAYERS')\n",
    "ax[2].set_title('Children count Distribution - Repayer V.S. Non Repayers')\n"
   ]
  },
  {
   "cell_type": "code",
   "execution_count": null,
   "metadata": {
    "trusted": true,
    "_uuid": "6884d3abff6a10a4ca3698f0eac8acb3d59d882a",
    "collapsed": true
   },
   "outputs": [],
   "source": [
    "group_by(application_train,'CNT_CHILDREN',\"TARGET\")"
   ]
  },
  {
   "cell_type": "markdown",
   "metadata": {
    "_uuid": "8b3d9c6b3a52da443ef4295ae4c71a7c74e2364c"
   },
   "source": [
    "its clear that  by looking at the above given plots and groupby function is clearly customer based count of children and the customer with   has No  children has high  count and customer with more than  8   50% of non payer based on it own count where not able to pay loan back compare to all other."
   ]
  },
  {
   "cell_type": "code",
   "execution_count": null,
   "metadata": {
    "trusted": true,
    "_uuid": "13a401da40510ed1643ed6feb8f036b161646e2a",
    "collapsed": true
   },
   "outputs": [],
   "source": [
    "# Set up the matplotlib figure\n",
    "f, ax = plt.subplots(2,2, figsize=(15, 10))\n",
    "\n",
    "# Graph amt annutiy Satisfaction\n",
    "sns.distplot(application_test.AMT_ANNUITY.dropna(), kde=True, color=\"g\", ax=ax[0,0]).set_title('customer Amount Annual income Distribution')\n",
    "\n",
    "\n",
    "# Graph amt credit Evaluation\n",
    "sns.distplot(application_test.AMT_CREDIT.dropna(), kde=True, color=\"b\", ax=ax[0,1]).set_title('customer Amount credit Distribution')\n",
    "\n",
    "# Graph anaual GOOD PRICE  \n",
    "sns.distplot(application_test.AMT_GOODS_PRICE.dropna(), kde=True, color=\"r\", ax=ax[1,0]).set_title('customer GOOD PRICE Distribution')\n",
    "\n",
    "\n",
    "sns.distplot(application_test.AMT_INCOME_TOTAL.dropna(), kde=True, color=\"y\", ax=ax[1,1]).set_title('customer Amount Annual income Distribution')\n",
    "\n"
   ]
  },
  {
   "cell_type": "markdown",
   "metadata": {
    "_uuid": "622d95d0a9f0f7951828a9668f187a4da4102707"
   },
   "source": [
    "### if we see  the above given distrbution plot it clear say major distrbuiton  for amouth annuity is from 0 to 75000 and amount of anual income is from 0 to 1000000"
   ]
  },
  {
   "cell_type": "code",
   "execution_count": null,
   "metadata": {
    "trusted": true,
    "_uuid": "243e094b8f2c789a2c18d6a268a2afd467811019",
    "collapsed": true
   },
   "outputs": [],
   "source": [
    "sns.set_style('whitegrid')\n",
    "# Set up the matplotlib figure\n",
    "f, ax = plt.subplots(2,2, figsize=(15, 10))\n",
    "\n",
    "# Graph amt annutiy Satisfaction\n",
    "sns.distplot(application_test.DAYS_BIRTH.dropna(), kde=True, color=\"g\", ax=ax[0,0]).set_title('customer Days birth Distribution')\n",
    "\n",
    "sns.distplot(application_test.DAYS_EMPLOYED.dropna(), kde=True, color=\"b\", ax=ax[0,1]).set_title('customer Employed Distribution')\n",
    "\n",
    "sns.distplot(application_test.DAYS_ID_PUBLISH.dropna(), kde=True, color=\"r\", ax=ax[1,0]).set_title('customer ID Publish Distribution')\n",
    "\n",
    "\n",
    "sns.distplot(application_test.DAYS_REGISTRATION.dropna(), kde=True, color=\"y\", ax=ax[1,1]).set_title('customer Days of Registration Distribution')\n"
   ]
  },
  {
   "cell_type": "markdown",
   "metadata": {
    "_uuid": "9ecd410afde7d329105e6d74ad04bfdd034b0ea0"
   },
   "source": [
    "#### Analysis based on   REGION_RATING_CLIENT , REGION_RATING_CLIENT_W_CITY', HOUR_APPR_PROCESS_STAR',\n  REG_REGION_NOT_LIVE_REGION', 'REG_REGION_NOT_WORK_REGION',\n  LIVE_REGION_NOT_WORK_REGION', 'REG_CITY_NOT_LIVE_CITY\n REG_CITY_NOT_WORK_CITY', 'LIVE_CITY_NOT_WORK_CITY'"
   ]
  },
  {
   "cell_type": "markdown",
   "metadata": {
    "_uuid": "175e333dee07932b941e79ca9ff27aa4290260aa"
   },
   "source": [
    "if we look at the above plot it is clear that customer register in city but not work in city based analysis we know that customer not city has high count."
   ]
  },
  {
   "cell_type": "code",
   "execution_count": null,
   "metadata": {
    "trusted": true,
    "_uuid": "06425721aa759a3c2b3e891bb16c160de179da1b",
    "collapsed": true
   },
   "outputs": [],
   "source": [
    "visual_dat= ['REGION_RATING_CLIENT',\n",
    "       'REGION_RATING_CLIENT_W_CITY', 'HOUR_APPR_PROCESS_START',\n",
    "       'REG_REGION_NOT_LIVE_REGION', 'REG_REGION_NOT_WORK_REGION',\n",
    "       'LIVE_REGION_NOT_WORK_REGION', 'REG_CITY_NOT_LIVE_CITY',\n",
    "       'REG_CITY_NOT_WORK_CITY', 'LIVE_CITY_NOT_WORK_CITY']\n",
    "\n",
    "\n",
    "for i in visual_dat:\n",
    "    plt.figure(figsize = (10,5))\n",
    "    plt.subplot(1,3,1)\n",
    "    sns.countplot(application_train[i])\n",
    "    plt.subplot(1,3,2)\n",
    "    sns.countplot(application_train[i],hue=application_train['TARGET'],palette=\"spring\")\n",
    "    plt.subplot(1,3,3)\n",
    "    sns.distplot(application_train[i],bins= 20) \n",
    "    plt.title(i)\n",
    "    plt.xticks(rotation=-45)\n",
    "    plt.show()\n",
    "    \n"
   ]
  },
  {
   "cell_type": "markdown",
   "metadata": {
    "_uuid": "8b6eb3dabdb8a591b59ae6431a562e2cbf4303d8"
   },
   "source": [
    "### By looking at the above given we can clear get id of which loan Repayer vs NOn Payer  all features list in above plot"
   ]
  },
  {
   "cell_type": "markdown",
   "metadata": {
    "trusted": true,
    "collapsed": true,
    "_uuid": "cec8b516f25ad49a33457aca69857081dd0c657b"
   },
   "source": [
    "1. 1. ### Analysis Based on EXter Source Types"
   ]
  },
  {
   "cell_type": "code",
   "execution_count": null,
   "metadata": {
    "trusted": true,
    "_uuid": "18bcf3852e0f825ee76101d11c4a237241310fab",
    "collapsed": true
   },
   "outputs": [],
   "source": [
    "# Set up the matplotlib figure\n",
    "f, ax = plt.subplots(ncols=3,figsize=(10, 5))\n",
    "\n",
    "\n",
    "sns.distplot(application_test.EXT_SOURCE_1.dropna(), kde=True, color=\"g\", \n",
    "             ax=ax[0]).set_title('EXT source 1 Distribution')\n",
    "\n",
    "\n",
    "\n",
    "sns.distplot(application_test.EXT_SOURCE_2.dropna(), kde=True, color=\"b\",\n",
    "             ax=ax[1]).set_title(' EXT Source 2 Distribution')\n",
    "\n",
    " \n",
    "sns.distplot(application_test.EXT_SOURCE_3.dropna(), kde=True, \n",
    "             color=\"r\", ax=ax[2]).set_title('EXt Source 3 Distribution')\n",
    "\n",
    "\n"
   ]
  },
  {
   "cell_type": "markdown",
   "metadata": {
    "_uuid": "94a316ff1977c6bafbd168022bc0618f37f0a38f"
   },
   "source": [
    "### Analysis based Averages values"
   ]
  },
  {
   "cell_type": "code",
   "execution_count": null,
   "metadata": {
    "trusted": true,
    "_uuid": "beab02981bd1616b677477e90076a3fa2eec70ff",
    "collapsed": true
   },
   "outputs": [],
   "source": [
    "val_p=['APARTMENTS_AVG', 'BASEMENTAREA_AVG',\n",
    "       'YEARS_BEGINEXPLUATATION_AVG', 'YEARS_BUILD_AVG', 'COMMONAREA_AVG',\n",
    "       'ELEVATORS_AVG', 'ENTRANCES_AVG', 'FLOORSMAX_AVG', 'FLOORSMIN_AVG']\n",
    "#color_types = ['#78C850','#F08030','#6890F0','#A8B820','#A8A878','#A040A0','#F8D030',  \n",
    " #               '#E0C068','#EE99AC','#C03028','#F85888','#B8A038','#705898','#98D8D8','#7038F8']\n",
    "for i in val_p:\n",
    "    plt.figure(figsize = (5,5))\n",
    "    sns.distplot(application_train[i].dropna(), kde=True, color='g')        \n",
    "    plt.title(i)\n",
    "    plt.xticks(rotation=-45)\n",
    "    plt.show()\n",
    "    "
   ]
  },
  {
   "cell_type": "markdown",
   "metadata": {
    "_uuid": "1c10f702ec22de257c30102dd890b4c8dbd2899f"
   },
   "source": [
    "### Checking the  Correlation Between The Features for Application Train Dataset"
   ]
  },
  {
   "cell_type": "code",
   "execution_count": null,
   "metadata": {
    "trusted": true,
    "_uuid": "b9339dc5b26a3079b4a56ca253f7ed76c957b349",
    "collapsed": true
   },
   "outputs": [],
   "source": [
    "#correlation heatmap of dataset\n",
    "def correlation_heatmap(df):\n",
    "    _ , ax = plt.subplots(figsize =(20,15))\n",
    "    colormap = sns.diverging_palette(220, 10, as_cmap = True)\n",
    "    \n",
    "    _ = sns.heatmap(\n",
    "        df.corr(), \n",
    "        cmap = colormap,\n",
    "        square=True, \n",
    "        #cbar_kws={'shrink':.9 }, \n",
    "        #ax=ax,\n",
    "        #annot=True, \n",
    "        #linewidths=0.1,vmax=1.0, linecolor='white',\n",
    "        #annot_kws={'fontsize':16}\n",
    "    )\n",
    "    \n",
    "    plt.title('Pearson Correlation of Features')\n",
    "\n",
    "correlation_heatmap(application_train)\n",
    "\n"
   ]
  },
  {
   "cell_type": "markdown",
   "metadata": {
    "_uuid": "dd8e29443bc92d7c1b8c7c0ec64116a71e7caa96"
   },
   "source": [
    "### If look at the above given plot is clear that all AVG featuers are high correleted values by seeing this plot we can easy find out the coorelated features"
   ]
  },
  {
   "cell_type": "code",
   "execution_count": null,
   "metadata": {
    "trusted": true,
    "_uuid": "2b2e1515f42bc9288c6c54d6b02ed12cad33f8be",
    "collapsed": true
   },
   "outputs": [],
   "source": [
    "# most correlated features\n",
    "corrmat = application_train.corr()\n",
    "top_corr_features = corrmat.index[abs(corrmat[\"TARGET\"])>=0.03]\n",
    "plt.figure(figsize=(20,10))\n",
    "g = sns.heatmap(application_train[top_corr_features].corr(),annot=True,cmap=\"Oranges\")"
   ]
  },
  {
   "cell_type": "markdown",
   "metadata": {
    "_uuid": "0b2dfc620fd6cb6393d76ac7902a1032360dbd65"
   },
   "source": [
    "#### **By see above given two  corelation plot  we can easy find out  the most corelated featuers along with they corelated values.  and all kind of analysis are done for the application train dataset."
   ]
  },
  {
   "cell_type": "markdown",
   "metadata": {
    "trusted": true,
    "collapsed": true,
    "_uuid": "30d0ce2e56658c6edf6a18830d2a652e2bc5ca0e"
   },
   "source": [
    "## EDA of Bureau Data\n\nAll client's previous credits provided by other financial institutions that were reported to Credit Bureau (for clients who have a loan in our sample). For every loan in our sample, there are as many rows as number of credits the client had in Credit Bureau before the application date."
   ]
  },
  {
   "cell_type": "code",
   "execution_count": null,
   "metadata": {
    "trusted": true,
    "_uuid": "e8afd99c9e35f70eddd1fed7b514a1e63ccd4e22",
    "collapsed": true
   },
   "outputs": [],
   "source": [
    "ap_train=application_train\n",
    "br_data=bureau"
   ]
  },
  {
   "cell_type": "markdown",
   "metadata": {
    "_kg_hide-output": true,
    "_uuid": "cec726b3872a91873ec7c7e2d9f56408df29a70f"
   },
   "source": [
    "### Merging the bureau dataset along with application train dataset to do more analysis"
   ]
  },
  {
   "cell_type": "code",
   "execution_count": null,
   "metadata": {
    "trusted": true,
    "_uuid": "03454003dffee6f958a1bf2a14dc04481f0c6eae",
    "collapsed": true
   },
   "outputs": [],
   "source": [
    "print('Applicatoin train shape before merge: ', ap_train.shape)\n",
    "ap_train = ap_train.merge(br_data, left_on='SK_ID_CURR', right_on='SK_ID_CURR', how='inner')\n",
    "print('Applicatoin train shape after merge: ', ap_train.shape)"
   ]
  },
  {
   "cell_type": "markdown",
   "metadata": {
    "trusted": true,
    "collapsed": true,
    "_uuid": "658ed3837e8994cc8406ae81de69185458bc3d78"
   },
   "source": [
    "### Analysis Based on CREDIT ACTIVE, CREDIT_CURRENCY, CREDIT TYPE"
   ]
  },
  {
   "cell_type": "code",
   "execution_count": null,
   "metadata": {
    "trusted": true,
    "_uuid": "9c5710efd0f16a976374ee82e55369842f750805",
    "collapsed": true
   },
   "outputs": [],
   "source": [
    "plot_re(ap_train,'CREDIT_ACTIVE','TARGET')"
   ]
  },
  {
   "cell_type": "code",
   "execution_count": null,
   "metadata": {
    "trusted": true,
    "_uuid": "254b0b67803b2174ddb694140ff6a41d7682e50a",
    "collapsed": true
   },
   "outputs": [],
   "source": [
    "plot_re(ap_train,'CREDIT_CURRENCY','TARGET')"
   ]
  },
  {
   "cell_type": "code",
   "execution_count": null,
   "metadata": {
    "trusted": true,
    "_uuid": "ac3d62c053e8f763ab0fdcbfe186638f338d8b41",
    "collapsed": true
   },
   "outputs": [],
   "source": [
    "plot_re(ap_train,'CREDIT_TYPE','TARGET')"
   ]
  },
  {
   "cell_type": "markdown",
   "metadata": {
    "_uuid": "1af670dd2cb43b6334fae4dd09403add104ffbe4"
   },
   "source": [
    "### BASED on above  given plot it clear that the Credit type consumer credit has high count of non payer of loan and credit currency customer with currency 1 has high count of non payer and based credit active customer with in group of closed customer has high count of non payer"
   ]
  },
  {
   "cell_type": "code",
   "execution_count": null,
   "metadata": {
    "trusted": true,
    "_uuid": "40ee06d6f5781c96ed50ea5d993d22ac54f730ca",
    "_kg_hide-input": true,
    "collapsed": true
   },
   "outputs": [],
   "source": [
    "f, ax = plt.subplots(2,3,figsize=(13, 10))\n",
    "\n",
    "\n",
    "sns.distplot(bureau.DAYS_CREDIT.dropna(), kde=True, color=\"g\", \n",
    "             ax=ax[0,0]).set_title('DAYS CREDIT Distribution')\n",
    "\n",
    "\n",
    "\n",
    "sns.distplot(bureau.CREDIT_DAY_OVERDUE.dropna(), kde=True, color=\"b\",\n",
    "             ax=ax[0,1]).set_title(' CREDIT DAY OVERDUE Distribution')\n",
    "\n",
    " \n",
    "sns.distplot(bureau.DAYS_CREDIT_UPDATE.dropna(), kde=True, \n",
    "             color=\"r\", ax=ax[0,2]).set_title('DAYS CREDIT UPDATE Distribution')\n",
    "\n",
    "sns.distplot(bureau.AMT_CREDIT_SUM_LIMIT.dropna(), kde=True, color=\"g\", \n",
    "             ax=ax[1,0]).set_title(' Distribution')\n",
    "\n",
    "\n",
    "\n",
    "sns.distplot(bureau.AMT_CREDIT_SUM_DEBT.dropna(), kde=True, color=\"b\",\n",
    "             ax=ax[1,1]).set_title(' Distribution')\n",
    "\n",
    " \n",
    "sns.distplot(bureau.AMT_CREDIT_SUM_OVERDUE.dropna(), kde=True, \n",
    "             color=\"r\", ax=ax[1,2]).set_title('DAYS CREDIT UPDATE Distribution')\n"
   ]
  },
  {
   "cell_type": "markdown",
   "metadata": {
    "_uuid": "8bdeda2633e56d0c7f672f1ca01dbbac4e6dfbfe"
   },
   "source": [
    "### ABOVE given plots show distributions"
   ]
  },
  {
   "cell_type": "markdown",
   "metadata": {
    "_uuid": "b1d33d7aff808568ff79b0cb98ebe12804ad1f12"
   },
   "source": [
    "### EAD for bureau balance Dataset"
   ]
  },
  {
   "cell_type": "code",
   "execution_count": null,
   "metadata": {
    "trusted": true,
    "_uuid": "b44a39bd61089acef63db970ed943164f796c2df",
    "collapsed": true
   },
   "outputs": [],
   "source": [
    "\n",
    "f, ax = plt.subplots(figsize=(7,5))\n",
    "\n",
    "# Types of colors\n",
    "color_types = ['#78C850','#F08030','#6890F0','#A8B820','#A8A878','#A040A0','#F8D030',  \n",
    "                '#E0C068','#EE99AC','#C03028','#F85888','#B8A038','#705898','#98D8D8','#7038F8']\n",
    "\n",
    "# Count Plot (a.k.a. Bar Plot)\n",
    "sns.countplot(x='STATUS', data=bureau_balance,palette=color_types).set_title('count based on status type')\n"
   ]
  },
  {
   "cell_type": "markdown",
   "metadata": {
    "_uuid": "1f5480b7b98050c555a8395b6913871e5b34b89e"
   },
   "source": [
    "### based  type its clear that status c, o,x has high count in bureau balnace dataset"
   ]
  },
  {
   "cell_type": "markdown",
   "metadata": {
    "_uuid": "80585bac1e35af8ed3273d09abf93879860b2073"
   },
   "source": [
    "### EDA for previous application dataset"
   ]
  },
  {
   "cell_type": "code",
   "execution_count": null,
   "metadata": {
    "trusted": true,
    "_uuid": "a570858ed12a160f2faf3be6fc9fe232b103ae02",
    "_kg_hide-input": true,
    "collapsed": true
   },
   "outputs": [],
   "source": [
    "f, ax = plt.subplots(5,3,figsize=(35,25))\n",
    "\n",
    " \n",
    "\n",
    "sns.countplot(previous_application.NAME_CONTRACT_TYPE.dropna(), palette='spring', \n",
    "             ax=ax[0,0]).set_title('Count Distribution')\n",
    "\n",
    "\n",
    "\n",
    "sns.countplot(previous_application.WEEKDAY_APPR_PROCESS_START.dropna(), palette='spring', \n",
    "             ax=ax[0,1]).set_title('Count Distribution')\n",
    "\n",
    "\n",
    "\n",
    "sns.countplot(previous_application.FLAG_LAST_APPL_PER_CONTRACT.dropna(), palette='spring', \n",
    "             ax=ax[0,2]).set_title('Count Distribution')\n",
    "\n",
    "\n",
    "\n",
    "sns.countplot(previous_application.NAME_CASH_LOAN_PURPOSE.dropna(), palette='spring', \n",
    "             ax=ax[1,0]).set_title('Count Distribution')\n",
    "\n",
    "\n",
    "\n",
    " \n",
    "sns.countplot(previous_application.NAME_CONTRACT_STATUS.dropna(), palette='spring', \n",
    "             ax=ax[1,1]).set_title('Count Distribution')\n",
    "\n",
    "\n",
    "\n",
    "sns.countplot(previous_application.NAME_PAYMENT_TYPE.dropna(), palette='spring', \n",
    "             ax=ax[1,2]).set_title('Count Distribution')\n",
    "\n",
    "\n",
    "\n",
    "sns.countplot(previous_application.CODE_REJECT_REASON.dropna(), palette='spring', \n",
    "             ax=ax[2,0]).set_title('Count Distribution')\n",
    "\n",
    "\n",
    "\n",
    "sns.countplot(previous_application.NAME_TYPE_SUITE.dropna(), palette='spring', \n",
    "             ax=ax[2,1]).set_title('Count Distribution')\n",
    "\n",
    "\n",
    "\n",
    "sns.countplot(previous_application.NAME_CLIENT_TYPE.dropna(), palette='spring', \n",
    "             ax=ax[2,2]).set_title('Count Distribution')\n",
    "\n",
    "\n",
    "\n",
    "sns.countplot(previous_application.NAME_GOODS_CATEGORY.dropna(), palette='spring', \n",
    "             ax=ax[3,0]).set_title('Count Distribution')\n",
    "\n",
    "\n",
    "sns.countplot(previous_application.NAME_PORTFOLIO.dropna(), palette='spring', \n",
    "             ax=ax[3,1]).set_title('Count Distribution')\n",
    "\n",
    "\n",
    "sns.countplot(previous_application.NAME_PRODUCT_TYPE.dropna(), palette='spring', \n",
    "             ax=ax[3,2]).set_title('Count Distribution')\n",
    "\n",
    "\n",
    "\n",
    "sns.countplot(previous_application.CHANNEL_TYPE.dropna(), palette='spring', \n",
    "             ax=ax[4,0]).set_title('Count Distribution')\n",
    "\n",
    "\n",
    "\n",
    "sns.countplot(previous_application.NAME_SELLER_INDUSTRY.dropna(), palette='spring', \n",
    "             ax=ax[4,1]).set_title('Count Distribution')\n",
    "\n",
    "\n",
    "\n",
    "sns.countplot(previous_application.NAME_YIELD_GROUP.dropna(), palette='spring', \n",
    "             ax=ax[4,2]).set_title('Count Distribution')\n",
    "\n",
    "\n",
    "\n",
    "\n",
    ",\n"
   ]
  },
  {
   "cell_type": "markdown",
   "metadata": {
    "_uuid": "d2eacde74dc9271eaf30c90b47e37816474ee94d"
   },
   "source": [
    "### By looking at the above given plot its clear that which types has high count in each feature so we can easy out the root cause of the problem."
   ]
  },
  {
   "cell_type": "markdown",
   "metadata": {
    "_uuid": "bfc9c643cd7239ca7bf3aa5c2cbb2b07e7e45a2e"
   },
   "source": [
    "### analyzing the numerical features disturbion in previous application dataset"
   ]
  },
  {
   "cell_type": "code",
   "execution_count": null,
   "metadata": {
    "trusted": true,
    "_uuid": "1a5fe563e83d5fe4dfafef97999cfcc7b49acc7d",
    "collapsed": true
   },
   "outputs": [],
   "source": [
    "val_p=['AMT_ANNUITY',\n",
    "       'AMT_CREDIT', 'AMT_GOODS_PRICE',\n",
    "       'HOUR_APPR_PROCESS_START']\n",
    "\n",
    "for i in val_p:\n",
    "    plt.figure(figsize = (5,5))\n",
    "    sns.distplot(application_train[i].dropna(), kde=True, color='g')        \n",
    "    plt.title(i)\n",
    "    plt.xticks(rotation=-90)\n",
    "    plt.show()"
   ]
  },
  {
   "cell_type": "markdown",
   "metadata": {
    "_uuid": "2de431a401088ac85f9c3e0044c406eb01afcbf0"
   },
   "source": [
    "## those are few EAD i have done please  vote for me which help my movitvation to increase to do a lot of work if there any imporvment can be done means please say in comments References This notebook has been created based on great work done solving the House Credit defult Risk competition and other sources."
   ]
  },
  {
   "cell_type": "code",
   "execution_count": null,
   "metadata": {
    "trusted": true,
    "collapsed": true,
    "_uuid": "dbbf3a3109dabcb8cf1aa21c7f95d7147081ba07"
   },
   "outputs": [],
   "source": [
    ""
   ]
  }
 ],
 "metadata": {
  "kernelspec": {
   "display_name": "Python 3",
   "language": "python",
   "name": "python3"
  },
  "language_info": {
   "name": "python",
   "version": "3.6.6",
   "mimetype": "text/x-python",
   "codemirror_mode": {
    "name": "ipython",
    "version": 3
   },
   "pygments_lexer": "ipython3",
   "nbconvert_exporter": "python",
   "file_extension": ".py"
  }
 },
 "nbformat": 4,
 "nbformat_minor": 1
}
