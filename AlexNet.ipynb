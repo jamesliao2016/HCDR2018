{
  "nbformat": 4,
  "nbformat_minor": 0,
  "metadata": {
    "colab": {
      "name": "“Untitled2.ipynb”的副本",
      "provenance": [],
      "authorship_tag": "ABX9TyPKpp2JrCIOKXZ4F+EL1MRX",
      "include_colab_link": true
    },
    "kernelspec": {
      "name": "python3",
      "display_name": "Python 3"
    },
    "language_info": {
      "name": "python"
    },
    "accelerator": "GPU"
  },
  "cells": [
    {
      "cell_type": "markdown",
      "metadata": {
        "id": "view-in-github",
        "colab_type": "text"
      },
      "source": [
        "<a href=\"https://colab.research.google.com/github/jamesliao2016/HCDR2018/blob/master/AlexNet.ipynb\" target=\"_parent\"><img src=\"https://colab.research.google.com/assets/colab-badge.svg\" alt=\"Open In Colab\"/></a>"
      ]
    },
    {
      "cell_type": "code",
      "metadata": {
        "id": "-VBdoI7gJscN"
      },
      "source": [
        "import tensorflow as tf\n",
        "\n",
        "from tensorflow.keras import datasets, layers, models\n",
        "import matplotlib.pyplot as plt"
      ],
      "execution_count": 1,
      "outputs": []
    },
    {
      "cell_type": "code",
      "metadata": {
        "colab": {
          "base_uri": "https://localhost:8080/"
        },
        "id": "X9MbUBDqJuE3",
        "outputId": "1fdd7a5d-089d-42e9-eadf-b1d74ac26bb7"
      },
      "source": [
        "(train_images, train_labels), (test_images, test_labels) = datasets.cifar10.load_data()\n",
        "\n",
        "# Normalize pixel values to be between 0 and 1\n",
        "train_images, test_images = train_images / 255.0, test_images / 255.0"
      ],
      "execution_count": 2,
      "outputs": [
        {
          "output_type": "stream",
          "name": "stdout",
          "text": [
            "Downloading data from https://www.cs.toronto.edu/~kriz/cifar-10-python.tar.gz\n",
            "170500096/170498071 [==============================] - 11s 0us/step\n",
            "170508288/170498071 [==============================] - 11s 0us/step\n"
          ]
        }
      ]
    },
    {
      "cell_type": "code",
      "metadata": {
        "colab": {
          "base_uri": "https://localhost:8080/"
        },
        "id": "VDiDar7WJ5i2",
        "outputId": "471738fb-7985-4f0c-a830-eadac029b0c3"
      },
      "source": [
        "train_images.shape"
      ],
      "execution_count": 3,
      "outputs": [
        {
          "output_type": "execute_result",
          "data": {
            "text/plain": [
              "(50000, 32, 32, 3)"
            ]
          },
          "metadata": {},
          "execution_count": 3
        }
      ]
    },
    {
      "cell_type": "code",
      "metadata": {
        "id": "N_uMWAJgKEqN"
      },
      "source": [
        "from tensorflow.keras import layers\n",
        "from tensorflow import keras"
      ],
      "execution_count": 4,
      "outputs": []
    },
    {
      "cell_type": "code",
      "metadata": {
        "id": "PnPrEoxrJwA4"
      },
      "source": [
        "# model = keras.Sequential([\n",
        "#     keras.layers.Flatten(input_shape=(32, 32,3)),\n",
        "#     keras.layers.Dense(128, activation='relu'),\n",
        "#     keras.layers.Dense(10)\n",
        "# ])\n",
        "\n",
        "# model = keras.Sequential([\n",
        "# layers.Conv2D(filters=6,kernel_size=(5,5),padding=\"same\"),\n",
        "# layers.BatchNormalization(),\n",
        "# layers.Activation(\"relu\"),\n",
        "# layers.MaxPool2D(pool_size=(2,2),strides=2,padding=\"same\"),\n",
        "# layers.Dropout(0.2),\n",
        "# layers.Flatten(),\n",
        "# layers.Dense(128,activation=\"relu\"),\n",
        "# layers.Dropout(0.2),\n",
        "# layers.Dense(10,activation=\"softmax\")\n",
        "\n",
        "# ])\n",
        "\n",
        "# # LeNet\n",
        "# model = keras.Sequential([\n",
        "# layers.Conv2D(filters=6,kernel_size=(5,5),activation=\"sigmoid\"),\n",
        "# layers.MaxPool2D(pool_size=(2,2),strides=2),\n",
        "# layers.Conv2D(filters=16,kernel_size=(5,5),activation=\"sigmoid\"),\n",
        "# layers.MaxPool2D(pool_size=(2,2),strides=2),\n",
        "# layers.Flatten(),\n",
        "# layers.Dense(120,activation=\"sigmoid\"),\n",
        "# layers.Dense(84,activation=\"sigmoid\"),\n",
        "# layers.Dense(12,activation=\"sigmoid\")\n",
        "# ])\n",
        "\n",
        "# AlexNet\n",
        "model = keras.Sequential([\n",
        "layers.Conv2D(filters=96,kernel_size=(3,3)),\n",
        "layers.BatchNormalization(),\n",
        "layers.Activation(\"relu\"),\n",
        "layers.MaxPool2D(pool_size=(3,3),strides=2),\n",
        "layers.Conv2D(filters=256,kernel_size=(3,3)),\n",
        "layers.BatchNormalization(),\n",
        "layers.Activation(\"relu\"),\n",
        "layers.MaxPool2D(pool_size=(3,3),strides=2),\n",
        "layers.Conv2D(filters=384,kernel_size=(3,3),padding=\"same\",activation=\"relu\"),\n",
        "layers.Conv2D(filters=384,kernel_size=(3,3),padding=\"same\",activation=\"relu\"),\n",
        "layers.Conv2D(filters=256,kernel_size=(3,3),padding=\"same\",activation=\"relu\"),\n",
        "layers.MaxPool2D(pool_size=(3,3),strides=2),\n",
        "layers.Flatten(),\n",
        "layers.Dense(2048,activation=\"relu\"),\n",
        "layers.Dropout(0.5),\n",
        "layers.Dense(2048,activation=\"relu\"),\n",
        "layers.Dropout(0.5),\n",
        "layers.Dense(10,activation=\"softmax\")\n",
        "\n",
        "])"
      ],
      "execution_count": 5,
      "outputs": []
    },
    {
      "cell_type": "code",
      "metadata": {
        "colab": {
          "base_uri": "https://localhost:8080/"
        },
        "id": "K0g1vtLRJ_E9",
        "outputId": "95d3d4ea-a5fe-4d11-99aa-b0f35a38dbb0"
      },
      "source": [
        "model.compile(optimizer='adam',\n",
        "              loss=tf.keras.losses.SparseCategoricalCrossentropy(from_logits=True),\n",
        "              metrics=['accuracy'])\n",
        "\n",
        "history = model.fit(train_images, train_labels, epochs=10, \n",
        "                    validation_data=(test_images, test_labels))"
      ],
      "execution_count": 6,
      "outputs": [
        {
          "output_type": "stream",
          "name": "stdout",
          "text": [
            "Epoch 1/10\n"
          ]
        },
        {
          "output_type": "stream",
          "name": "stderr",
          "text": [
            "/usr/local/lib/python3.7/dist-packages/keras/backend.py:4907: UserWarning: \"`sparse_categorical_crossentropy` received `from_logits=True`, but the `output` argument was produced by a sigmoid or softmax activation and thus does not represent logits. Was this intended?\"\n",
            "  '\"`sparse_categorical_crossentropy` received `from_logits=True`, but '\n"
          ]
        },
        {
          "output_type": "stream",
          "name": "stdout",
          "text": [
            "1563/1563 [==============================] - 77s 30ms/step - loss: 1.6108 - accuracy: 0.4070 - val_loss: 1.4641 - val_accuracy: 0.4705\n",
            "Epoch 2/10\n",
            "1563/1563 [==============================] - 46s 29ms/step - loss: 1.2910 - accuracy: 0.5405 - val_loss: 1.3935 - val_accuracy: 0.5053\n",
            "Epoch 3/10\n",
            "1563/1563 [==============================] - 46s 29ms/step - loss: 1.1549 - accuracy: 0.5983 - val_loss: 1.2436 - val_accuracy: 0.5659\n",
            "Epoch 4/10\n",
            "1563/1563 [==============================] - 46s 29ms/step - loss: 1.0662 - accuracy: 0.6346 - val_loss: 1.1225 - val_accuracy: 0.6092\n",
            "Epoch 5/10\n",
            "1563/1563 [==============================] - 46s 29ms/step - loss: 0.9939 - accuracy: 0.6597 - val_loss: 1.1026 - val_accuracy: 0.6208\n",
            "Epoch 6/10\n",
            "1563/1563 [==============================] - 46s 29ms/step - loss: 0.9434 - accuracy: 0.6799 - val_loss: 1.1010 - val_accuracy: 0.6169\n",
            "Epoch 7/10\n",
            "1563/1563 [==============================] - 46s 29ms/step - loss: 0.8878 - accuracy: 0.6970 - val_loss: 0.9395 - val_accuracy: 0.6783\n",
            "Epoch 8/10\n",
            "1563/1563 [==============================] - 46s 29ms/step - loss: 0.8496 - accuracy: 0.7082 - val_loss: 0.9267 - val_accuracy: 0.6836\n",
            "Epoch 9/10\n",
            "1563/1563 [==============================] - 46s 29ms/step - loss: 0.8261 - accuracy: 0.7193 - val_loss: 1.0735 - val_accuracy: 0.6432\n",
            "Epoch 10/10\n",
            "1563/1563 [==============================] - 46s 29ms/step - loss: 0.7990 - accuracy: 0.7325 - val_loss: 1.1750 - val_accuracy: 0.6188\n"
          ]
        }
      ]
    },
    {
      "cell_type": "code",
      "metadata": {
        "id": "LQkiZIXQKWNs"
      },
      "source": [
        ""
      ],
      "execution_count": null,
      "outputs": []
    }
  ]
}