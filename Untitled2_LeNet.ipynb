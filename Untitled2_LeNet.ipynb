{
  "nbformat": 4,
  "nbformat_minor": 0,
  "metadata": {
    "colab": {
      "name": "Untitled2.ipynb",
      "provenance": [],
      "authorship_tag": "ABX9TyMwCThJ3brmwodVwW1/5jT7",
      "include_colab_link": true
    },
    "kernelspec": {
      "name": "python3",
      "display_name": "Python 3"
    },
    "language_info": {
      "name": "python"
    }
  },
  "cells": [
    {
      "cell_type": "markdown",
      "metadata": {
        "id": "view-in-github",
        "colab_type": "text"
      },
      "source": [
        "<a href=\"https://colab.research.google.com/github/jamesliao2016/HCDR2018/blob/master/Untitled2_LeNet.ipynb\" target=\"_parent\"><img src=\"https://colab.research.google.com/assets/colab-badge.svg\" alt=\"Open In Colab\"/></a>"
      ]
    },
    {
      "cell_type": "code",
      "metadata": {
        "id": "-VBdoI7gJscN"
      },
      "source": [
        "import tensorflow as tf\n",
        "\n",
        "from tensorflow.keras import datasets, layers, models\n",
        "import matplotlib.pyplot as plt"
      ],
      "execution_count": 1,
      "outputs": []
    },
    {
      "cell_type": "code",
      "metadata": {
        "colab": {
          "base_uri": "https://localhost:8080/"
        },
        "id": "X9MbUBDqJuE3",
        "outputId": "a6fdb2bf-ba73-4a23-a258-f2ca5ec0dd6e"
      },
      "source": [
        "(train_images, train_labels), (test_images, test_labels) = datasets.cifar10.load_data()\n",
        "\n",
        "# Normalize pixel values to be between 0 and 1\n",
        "train_images, test_images = train_images / 255.0, test_images / 255.0"
      ],
      "execution_count": 2,
      "outputs": [
        {
          "output_type": "stream",
          "name": "stdout",
          "text": [
            "Downloading data from https://www.cs.toronto.edu/~kriz/cifar-10-python.tar.gz\n",
            "170500096/170498071 [==============================] - 3s 0us/step\n",
            "170508288/170498071 [==============================] - 3s 0us/step\n"
          ]
        }
      ]
    },
    {
      "cell_type": "code",
      "metadata": {
        "colab": {
          "base_uri": "https://localhost:8080/"
        },
        "id": "VDiDar7WJ5i2",
        "outputId": "52f61155-4e17-4486-ed7a-60b48745348f"
      },
      "source": [
        "train_images.shape"
      ],
      "execution_count": 3,
      "outputs": [
        {
          "output_type": "execute_result",
          "data": {
            "text/plain": [
              "(50000, 32, 32, 3)"
            ]
          },
          "metadata": {},
          "execution_count": 3
        }
      ]
    },
    {
      "cell_type": "code",
      "metadata": {
        "id": "N_uMWAJgKEqN"
      },
      "source": [
        "from tensorflow.keras import layers\n",
        "from tensorflow import keras"
      ],
      "execution_count": 4,
      "outputs": []
    },
    {
      "cell_type": "code",
      "metadata": {
        "id": "PnPrEoxrJwA4"
      },
      "source": [
        "# model = keras.Sequential([\n",
        "#     keras.layers.Flatten(input_shape=(32, 32,3)),\n",
        "#     keras.layers.Dense(128, activation='relu'),\n",
        "#     keras.layers.Dense(10)\n",
        "# ])\n",
        "\n",
        "# model = keras.Sequential([\n",
        "# layers.Conv2D(filters=6,kernel_size=(5,5),padding=\"same\"),\n",
        "# layers.BatchNormalization(),\n",
        "# layers.Activation(\"relu\"),\n",
        "# layers.MaxPool2D(pool_size=(2,2),strides=2,padding=\"same\"),\n",
        "# layers.Dropout(0.2),\n",
        "# layers.Flatten(),\n",
        "# layers.Dense(128,activation=\"relu\"),\n",
        "# layers.Dropout(0.2),\n",
        "# layers.Dense(10,activation=\"softmax\")\n",
        "\n",
        "# ])\n",
        "\n",
        "# LeNet\n",
        "model = keras.Sequential([\n",
        "layers.Conv2D(filters=6,kernel_size=(5,5),activation=\"sigmoid\"),\n",
        "layers.MaxPool2D(pool_size=(2,2),strides=2),\n",
        "layers.Conv2D(filters=16,kernel_size=(5,5),activation=\"sigmoid\"),\n",
        "layers.MaxPool2D(pool_size=(2,2),strides=2),\n",
        "layers.Flatten(),\n",
        "layers.Dense(120,activation=\"sigmoid\"),\n",
        "layers.Dense(84,activation=\"sigmoid\"),\n",
        "layers.Dense(12,activation=\"sigmoid\")\n",
        "])"
      ],
      "execution_count": 5,
      "outputs": []
    },
    {
      "cell_type": "code",
      "metadata": {
        "colab": {
          "base_uri": "https://localhost:8080/"
        },
        "id": "K0g1vtLRJ_E9",
        "outputId": "2bd78b26-6bc9-44f0-f877-3f0e9f2edb30"
      },
      "source": [
        "model.compile(optimizer='adam',\n",
        "              loss=tf.keras.losses.SparseCategoricalCrossentropy(from_logits=True),\n",
        "              metrics=['accuracy'])\n",
        "\n",
        "history = model.fit(train_images, train_labels, epochs=10, \n",
        "                    validation_data=(test_images, test_labels))"
      ],
      "execution_count": 6,
      "outputs": [
        {
          "output_type": "stream",
          "name": "stdout",
          "text": [
            "Epoch 1/10\n"
          ]
        },
        {
          "output_type": "stream",
          "name": "stderr",
          "text": [
            "/usr/local/lib/python3.7/dist-packages/keras/backend.py:4907: UserWarning: \"`sparse_categorical_crossentropy` received `from_logits=True`, but the `output` argument was produced by a sigmoid or softmax activation and thus does not represent logits. Was this intended?\"\n",
            "  '\"`sparse_categorical_crossentropy` received `from_logits=True`, but '\n"
          ]
        },
        {
          "output_type": "stream",
          "name": "stdout",
          "text": [
            "1563/1563 [==============================] - 47s 30ms/step - loss: 2.0682 - accuracy: 0.2223 - val_loss: 1.8325 - val_accuracy: 0.3401\n",
            "Epoch 2/10\n",
            "1563/1563 [==============================] - 46s 29ms/step - loss: 1.7131 - accuracy: 0.3759 - val_loss: 1.6248 - val_accuracy: 0.4091\n",
            "Epoch 3/10\n",
            "1563/1563 [==============================] - 46s 29ms/step - loss: 1.5889 - accuracy: 0.4204 - val_loss: 1.5574 - val_accuracy: 0.4272\n",
            "Epoch 4/10\n",
            "1563/1563 [==============================] - 46s 30ms/step - loss: 1.5072 - accuracy: 0.4494 - val_loss: 1.4760 - val_accuracy: 0.4617\n",
            "Epoch 5/10\n",
            "1563/1563 [==============================] - 47s 30ms/step - loss: 1.4456 - accuracy: 0.4748 - val_loss: 1.4071 - val_accuracy: 0.4876\n",
            "Epoch 6/10\n",
            "1563/1563 [==============================] - 46s 30ms/step - loss: 1.3960 - accuracy: 0.4925 - val_loss: 1.3972 - val_accuracy: 0.4892\n",
            "Epoch 7/10\n",
            "1563/1563 [==============================] - 46s 29ms/step - loss: 1.3560 - accuracy: 0.5073 - val_loss: 1.3747 - val_accuracy: 0.5018\n",
            "Epoch 8/10\n",
            "1563/1563 [==============================] - 46s 30ms/step - loss: 1.3220 - accuracy: 0.5206 - val_loss: 1.3563 - val_accuracy: 0.5068\n",
            "Epoch 9/10\n",
            "1563/1563 [==============================] - 46s 30ms/step - loss: 1.2898 - accuracy: 0.5355 - val_loss: 1.2935 - val_accuracy: 0.5361\n",
            "Epoch 10/10\n",
            "1563/1563 [==============================] - 46s 30ms/step - loss: 1.2608 - accuracy: 0.5455 - val_loss: 1.2739 - val_accuracy: 0.5336\n"
          ]
        }
      ]
    },
    {
      "cell_type": "code",
      "metadata": {
        "id": "LQkiZIXQKWNs"
      },
      "source": [
        ""
      ],
      "execution_count": null,
      "outputs": []
    }
  ]
}