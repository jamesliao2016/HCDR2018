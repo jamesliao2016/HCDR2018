{
 "cells": [
  {
   "cell_type": "code",
   "execution_count": 129,
   "metadata": {},
   "outputs": [],
   "source": [
    "import pandas as pd\n",
    "import json\n",
    "import matplotlib.pyplot as plt\n",
    "import seaborn as sns\n",
    "from pandas.io.json import json_normalize\n",
    "import lightgbm as lgb\n",
    "from sklearn.model_selection import KFold\n",
    "import time\n",
    "from datetime import datetime"
   ]
  },
  {
   "cell_type": "code",
   "execution_count": 5,
   "metadata": {},
   "outputs": [],
   "source": [
    "col_select = ['device','geoNetwork','totals','trafficSource']"
   ]
  },
  {
   "cell_type": "code",
   "execution_count": 6,
   "metadata": {},
   "outputs": [],
   "source": [
    "df_raw = pd.read_csv('/Users/liaopeng3/logs/google_analytics_all/train.csv',\\\n",
    "                  converters={cols:json.loads for cols in col_select},dtype={'fullVisitorId': 'str'},header=0)"
   ]
  },
  {
   "cell_type": "code",
   "execution_count": 8,
   "metadata": {},
   "outputs": [],
   "source": [
    "for cols in col_select:\n",
    "    column_as_df = json_normalize(df_raw[cols])\n",
    "    column_as_df.columns = [f\"{cols}.{subcolumn}\" for subcolumn in column_as_df.columns]\n",
    "    df_raw = df_raw.drop(cols,axis=1)\n",
    "    df_raw = df_raw.merge(column_as_df,left_index=True,right_index=True)"
   ]
  },
  {
   "cell_type": "code",
   "execution_count": 230,
   "metadata": {},
   "outputs": [
    {
     "data": {
      "text/plain": [
       "0    NaN\n",
       "1    NaN\n",
       "2    NaN\n",
       "3    NaN\n",
       "4    NaN\n",
       "Name: totals.transactionRevenue, dtype: object"
      ]
     },
     "execution_count": 230,
     "metadata": {},
     "output_type": "execute_result"
    }
   ],
   "source": [
    "df_raw['totals.transactionRevenue'].head()"
   ]
  },
  {
   "cell_type": "code",
   "execution_count": 236,
   "metadata": {},
   "outputs": [],
   "source": [
    "df3 = df_raw.copy()"
   ]
  },
  {
   "cell_type": "code",
   "execution_count": 237,
   "metadata": {
    "scrolled": true
   },
   "outputs": [],
   "source": [
    "# df3.head()"
   ]
  },
  {
   "cell_type": "code",
   "execution_count": 238,
   "metadata": {},
   "outputs": [],
   "source": [
    "# df3['date'].value_counts()"
   ]
  },
  {
   "cell_type": "code",
   "execution_count": 239,
   "metadata": {},
   "outputs": [],
   "source": [
    "# df3.dtypes"
   ]
  },
  {
   "cell_type": "markdown",
   "metadata": {},
   "source": [
    "# Split Feature and Label Data"
   ]
  },
  {
   "cell_type": "code",
   "execution_count": 240,
   "metadata": {},
   "outputs": [],
   "source": [
    "train_y = df3['totals.transactionRevenue'].fillna(0).astype(float).apply(lambda x: np.log1p(x))\n"
   ]
  },
  {
   "cell_type": "code",
   "execution_count": 241,
   "metadata": {},
   "outputs": [
    {
     "data": {
      "text/plain": [
       "0    0.0\n",
       "1    0.0\n",
       "2    0.0\n",
       "3    0.0\n",
       "4    0.0\n",
       "Name: totals.transactionRevenue, dtype: float64"
      ]
     },
     "execution_count": 241,
     "metadata": {},
     "output_type": "execute_result"
    }
   ],
   "source": [
    "train_y.head()"
   ]
  },
  {
   "cell_type": "markdown",
   "metadata": {},
   "source": [
    "# Add Visit Time"
   ]
  },
  {
   "cell_type": "code",
   "execution_count": 242,
   "metadata": {},
   "outputs": [],
   "source": [
    "df3['diff_visitId_time'] = df3['visitId'] - df3['visitStartTime']\n",
    "df3['diff_visitId_time'] = (df3['diff_visitId_time'] != 0).astype(int)"
   ]
  },
  {
   "cell_type": "code",
   "execution_count": 243,
   "metadata": {},
   "outputs": [
    {
     "data": {
      "text/html": [
       "<div>\n",
       "<style scoped>\n",
       "    .dataframe tbody tr th:only-of-type {\n",
       "        vertical-align: middle;\n",
       "    }\n",
       "\n",
       "    .dataframe tbody tr th {\n",
       "        vertical-align: top;\n",
       "    }\n",
       "\n",
       "    .dataframe thead th {\n",
       "        text-align: right;\n",
       "    }\n",
       "</style>\n",
       "<table border=\"1\" class=\"dataframe\">\n",
       "  <thead>\n",
       "    <tr style=\"text-align: right;\">\n",
       "      <th></th>\n",
       "      <th>diff_visitId_time</th>\n",
       "      <th>visitId</th>\n",
       "      <th>visitStartTime</th>\n",
       "    </tr>\n",
       "  </thead>\n",
       "  <tbody>\n",
       "    <tr>\n",
       "      <th>1</th>\n",
       "      <td>0</td>\n",
       "      <td>1472880147</td>\n",
       "      <td>1472880147</td>\n",
       "    </tr>\n",
       "    <tr>\n",
       "      <th>2</th>\n",
       "      <td>0</td>\n",
       "      <td>1472865386</td>\n",
       "      <td>1472865386</td>\n",
       "    </tr>\n",
       "    <tr>\n",
       "      <th>3</th>\n",
       "      <td>0</td>\n",
       "      <td>1472881213</td>\n",
       "      <td>1472881213</td>\n",
       "    </tr>\n",
       "    <tr>\n",
       "      <th>4</th>\n",
       "      <td>0</td>\n",
       "      <td>1472822600</td>\n",
       "      <td>1472822600</td>\n",
       "    </tr>\n",
       "    <tr>\n",
       "      <th>5</th>\n",
       "      <td>0</td>\n",
       "      <td>1472807194</td>\n",
       "      <td>1472807194</td>\n",
       "    </tr>\n",
       "  </tbody>\n",
       "</table>\n",
       "</div>"
      ],
      "text/plain": [
       "   diff_visitId_time     visitId  visitStartTime\n",
       "1                  0  1472880147      1472880147\n",
       "2                  0  1472865386      1472865386\n",
       "3                  0  1472881213      1472881213\n",
       "4                  0  1472822600      1472822600\n",
       "5                  0  1472807194      1472807194"
      ]
     },
     "execution_count": 243,
     "metadata": {},
     "output_type": "execute_result"
    }
   ],
   "source": [
    "df3.loc[1:5,['diff_visitId_time','visitId','visitStartTime']]"
   ]
  },
  {
   "cell_type": "code",
   "execution_count": 244,
   "metadata": {},
   "outputs": [
    {
     "data": {
      "text/plain": [
       "0    898944\n",
       "1      4709\n",
       "Name: diff_visitId_time, dtype: int64"
      ]
     },
     "execution_count": 244,
     "metadata": {},
     "output_type": "execute_result"
    }
   ],
   "source": [
    "df3['diff_visitId_time'].value_counts()"
   ]
  },
  {
   "cell_type": "markdown",
   "metadata": {},
   "source": [
    "# Format the Numerous Variables"
   ]
  },
  {
   "cell_type": "code",
   "execution_count": 245,
   "metadata": {},
   "outputs": [],
   "source": [
    "list_v = ['totals.hits','totals.pageviews','trafficSource.adwordsClickInfo.page']"
   ]
  },
  {
   "cell_type": "code",
   "execution_count": 246,
   "metadata": {},
   "outputs": [],
   "source": [
    "for cols in list_v:\n",
    "    df3[cols]=df3[cols].astype(float)"
   ]
  },
  {
   "cell_type": "code",
   "execution_count": 247,
   "metadata": {},
   "outputs": [
    {
     "data": {
      "text/plain": [
       "Index(['channelGrouping', 'date', 'fullVisitorId', 'sessionId',\n",
       "       'socialEngagementType', 'visitId', 'visitNumber', 'visitStartTime',\n",
       "       'device.browser', 'device.browserSize', 'device.browserVersion',\n",
       "       'device.deviceCategory', 'device.flashVersion', 'device.isMobile',\n",
       "       'device.language', 'device.mobileDeviceBranding',\n",
       "       'device.mobileDeviceInfo', 'device.mobileDeviceMarketingName',\n",
       "       'device.mobileDeviceModel', 'device.mobileInputSelector',\n",
       "       'device.operatingSystem', 'device.operatingSystemVersion',\n",
       "       'device.screenColors', 'device.screenResolution', 'geoNetwork.city',\n",
       "       'geoNetwork.cityId', 'geoNetwork.continent', 'geoNetwork.country',\n",
       "       'geoNetwork.latitude', 'geoNetwork.longitude', 'geoNetwork.metro',\n",
       "       'geoNetwork.networkDomain', 'geoNetwork.networkLocation',\n",
       "       'geoNetwork.region', 'geoNetwork.subContinent', 'totals.bounces',\n",
       "       'totals.hits', 'totals.newVisits', 'totals.pageviews',\n",
       "       'totals.transactionRevenue', 'totals.visits', 'trafficSource.adContent',\n",
       "       'trafficSource.adwordsClickInfo.adNetworkType',\n",
       "       'trafficSource.adwordsClickInfo.criteriaParameters',\n",
       "       'trafficSource.adwordsClickInfo.gclId',\n",
       "       'trafficSource.adwordsClickInfo.isVideoAd',\n",
       "       'trafficSource.adwordsClickInfo.page',\n",
       "       'trafficSource.adwordsClickInfo.slot', 'trafficSource.campaign',\n",
       "       'trafficSource.campaignCode', 'trafficSource.isTrueDirect',\n",
       "       'trafficSource.keyword', 'trafficSource.medium',\n",
       "       'trafficSource.referralPath', 'trafficSource.source',\n",
       "       'diff_visitId_time'],\n",
       "      dtype='object')"
      ]
     },
     "execution_count": 247,
     "metadata": {},
     "output_type": "execute_result"
    }
   ],
   "source": [
    "df3.columns"
   ]
  },
  {
   "cell_type": "code",
   "execution_count": 248,
   "metadata": {
    "scrolled": true
   },
   "outputs": [
    {
     "data": {
      "text/plain": [
       "channelGrouping                                       object\n",
       "date                                                   int64\n",
       "fullVisitorId                                         object\n",
       "sessionId                                             object\n",
       "socialEngagementType                                  object\n",
       "visitId                                                int64\n",
       "visitNumber                                            int64\n",
       "visitStartTime                                         int64\n",
       "device.browser                                        object\n",
       "device.browserSize                                    object\n",
       "device.browserVersion                                 object\n",
       "device.deviceCategory                                 object\n",
       "device.flashVersion                                   object\n",
       "device.isMobile                                         bool\n",
       "device.language                                       object\n",
       "device.mobileDeviceBranding                           object\n",
       "device.mobileDeviceInfo                               object\n",
       "device.mobileDeviceMarketingName                      object\n",
       "device.mobileDeviceModel                              object\n",
       "device.mobileInputSelector                            object\n",
       "device.operatingSystem                                object\n",
       "device.operatingSystemVersion                         object\n",
       "device.screenColors                                   object\n",
       "device.screenResolution                               object\n",
       "geoNetwork.city                                       object\n",
       "geoNetwork.cityId                                     object\n",
       "geoNetwork.continent                                  object\n",
       "geoNetwork.country                                    object\n",
       "geoNetwork.latitude                                   object\n",
       "geoNetwork.longitude                                  object\n",
       "geoNetwork.metro                                      object\n",
       "geoNetwork.networkDomain                              object\n",
       "geoNetwork.networkLocation                            object\n",
       "geoNetwork.region                                     object\n",
       "geoNetwork.subContinent                               object\n",
       "totals.bounces                                        object\n",
       "totals.hits                                          float64\n",
       "totals.newVisits                                      object\n",
       "totals.pageviews                                     float64\n",
       "totals.transactionRevenue                             object\n",
       "totals.visits                                         object\n",
       "trafficSource.adContent                               object\n",
       "trafficSource.adwordsClickInfo.adNetworkType          object\n",
       "trafficSource.adwordsClickInfo.criteriaParameters     object\n",
       "trafficSource.adwordsClickInfo.gclId                  object\n",
       "trafficSource.adwordsClickInfo.isVideoAd              object\n",
       "trafficSource.adwordsClickInfo.page                  float64\n",
       "trafficSource.adwordsClickInfo.slot                   object\n",
       "trafficSource.campaign                                object\n",
       "trafficSource.campaignCode                            object\n",
       "trafficSource.isTrueDirect                            object\n",
       "trafficSource.keyword                                 object\n",
       "trafficSource.medium                                  object\n",
       "trafficSource.referralPath                            object\n",
       "trafficSource.source                                  object\n",
       "diff_visitId_time                                      int64\n",
       "dtype: object"
      ]
     },
     "execution_count": 248,
     "metadata": {},
     "output_type": "execute_result"
    }
   ],
   "source": [
    "df3.dtypes"
   ]
  },
  {
   "cell_type": "code",
   "execution_count": 249,
   "metadata": {},
   "outputs": [
    {
     "data": {
      "text/html": [
       "<div>\n",
       "<style scoped>\n",
       "    .dataframe tbody tr th:only-of-type {\n",
       "        vertical-align: middle;\n",
       "    }\n",
       "\n",
       "    .dataframe tbody tr th {\n",
       "        vertical-align: top;\n",
       "    }\n",
       "\n",
       "    .dataframe thead th {\n",
       "        text-align: right;\n",
       "    }\n",
       "</style>\n",
       "<table border=\"1\" class=\"dataframe\">\n",
       "  <thead>\n",
       "    <tr style=\"text-align: right;\">\n",
       "      <th></th>\n",
       "      <th>visitId</th>\n",
       "      <th>fullVisitorId</th>\n",
       "    </tr>\n",
       "  </thead>\n",
       "  <tbody>\n",
       "    <tr>\n",
       "      <th>1020</th>\n",
       "      <td>1472853233</td>\n",
       "      <td>6712520540378436905</td>\n",
       "    </tr>\n",
       "    <tr>\n",
       "      <th>1021</th>\n",
       "      <td>1472880837</td>\n",
       "      <td>4111636069257027886</td>\n",
       "    </tr>\n",
       "    <tr>\n",
       "      <th>1022</th>\n",
       "      <td>1472828860</td>\n",
       "      <td>3152246617474456269</td>\n",
       "    </tr>\n",
       "    <tr>\n",
       "      <th>1023</th>\n",
       "      <td>1472824904</td>\n",
       "      <td>1856749147915772585</td>\n",
       "    </tr>\n",
       "    <tr>\n",
       "      <th>1024</th>\n",
       "      <td>1472822104</td>\n",
       "      <td>0343138238061206334</td>\n",
       "    </tr>\n",
       "    <tr>\n",
       "      <th>1025</th>\n",
       "      <td>1472840887</td>\n",
       "      <td>0026203741366904270</td>\n",
       "    </tr>\n",
       "  </tbody>\n",
       "</table>\n",
       "</div>"
      ],
      "text/plain": [
       "         visitId        fullVisitorId\n",
       "1020  1472853233  6712520540378436905\n",
       "1021  1472880837  4111636069257027886\n",
       "1022  1472828860  3152246617474456269\n",
       "1023  1472824904  1856749147915772585\n",
       "1024  1472822104  0343138238061206334\n",
       "1025  1472840887  0026203741366904270"
      ]
     },
     "execution_count": 249,
     "metadata": {},
     "output_type": "execute_result"
    }
   ],
   "source": [
    "df3.loc[1020:1025,['visitId','fullVisitorId']]"
   ]
  },
  {
   "cell_type": "markdown",
   "metadata": {},
   "source": [
    "# Fill Null Cells with Most Frequent Value"
   ]
  },
  {
   "cell_type": "code",
   "execution_count": 250,
   "metadata": {},
   "outputs": [],
   "source": [
    "# for cols in df3.columns:\n",
    "#     if df3[cols].isna().sum()>0:\n",
    "#         val_tmp = df3[cols].mode()[0]\n",
    "#         df3[cols]=df3[cols].fillna(value=val_tmp)\n",
    "    "
   ]
  },
  {
   "cell_type": "markdown",
   "metadata": {},
   "source": [
    "##  Drop the Constant Columns"
   ]
  },
  {
   "cell_type": "code",
   "execution_count": 251,
   "metadata": {
    "scrolled": true
   },
   "outputs": [
    {
     "name": "stdout",
     "output_type": "stream",
     "text": [
      "socialEngagementType\n",
      "device.browserSize\n",
      "device.browserVersion\n",
      "device.flashVersion\n",
      "device.language\n",
      "device.mobileDeviceBranding\n",
      "device.mobileDeviceInfo\n",
      "device.mobileDeviceMarketingName\n",
      "device.mobileDeviceModel\n",
      "device.mobileInputSelector\n",
      "device.operatingSystemVersion\n",
      "device.screenColors\n",
      "device.screenResolution\n",
      "geoNetwork.cityId\n",
      "geoNetwork.latitude\n",
      "geoNetwork.longitude\n",
      "geoNetwork.networkLocation\n",
      "totals.bounces\n",
      "totals.newVisits\n",
      "totals.visits\n",
      "trafficSource.adwordsClickInfo.criteriaParameters\n",
      "trafficSource.adwordsClickInfo.isVideoAd\n",
      "trafficSource.campaignCode\n",
      "trafficSource.isTrueDirect\n"
     ]
    }
   ],
   "source": [
    "cols_drop = []\n",
    "for cols in df3.columns:\n",
    "    if df3[cols].nunique()==1:\n",
    "        print(cols)\n",
    "        cols_drop.append(cols)\n",
    "        \n",
    "df3 = df3.drop(cols_drop,axis=1)"
   ]
  },
  {
   "cell_type": "markdown",
   "metadata": {},
   "source": [
    "# Convert the Object Values to Numeric"
   ]
  },
  {
   "cell_type": "code",
   "execution_count": 252,
   "metadata": {},
   "outputs": [],
   "source": [
    "for cols in df3.columns:\n",
    "    if df3[cols].dtypes == object or df3[cols].dtypes== bool:\n",
    "#         df3[cols] = df3[cols].astype('category')\n",
    "#         df3[\"new_\"+cols] = df3[cols].cat.codes\n",
    "        df3[\"new_\"+cols] = pd.factorize( df3[cols])[0]\n",
    "        df3 = df3.drop(cols,axis=1)\n",
    "        df3 = df3.rename(columns={\"new_\"+cols:cols})"
   ]
  },
  {
   "cell_type": "markdown",
   "metadata": {},
   "source": [
    "# Convert Date to Numeric Variables"
   ]
  },
  {
   "cell_type": "code",
   "execution_count": 253,
   "metadata": {},
   "outputs": [
    {
     "data": {
      "text/html": [
       "<div>\n",
       "<style scoped>\n",
       "    .dataframe tbody tr th:only-of-type {\n",
       "        vertical-align: middle;\n",
       "    }\n",
       "\n",
       "    .dataframe tbody tr th {\n",
       "        vertical-align: top;\n",
       "    }\n",
       "\n",
       "    .dataframe thead th {\n",
       "        text-align: right;\n",
       "    }\n",
       "</style>\n",
       "<table border=\"1\" class=\"dataframe\">\n",
       "  <thead>\n",
       "    <tr style=\"text-align: right;\">\n",
       "      <th></th>\n",
       "      <th>date</th>\n",
       "      <th>visitId</th>\n",
       "      <th>visitNumber</th>\n",
       "      <th>visitStartTime</th>\n",
       "      <th>totals.hits</th>\n",
       "      <th>totals.pageviews</th>\n",
       "      <th>trafficSource.adwordsClickInfo.page</th>\n",
       "      <th>diff_visitId_time</th>\n",
       "      <th>channelGrouping</th>\n",
       "      <th>fullVisitorId</th>\n",
       "      <th>...</th>\n",
       "      <th>totals.transactionRevenue</th>\n",
       "      <th>trafficSource.adContent</th>\n",
       "      <th>trafficSource.adwordsClickInfo.adNetworkType</th>\n",
       "      <th>trafficSource.adwordsClickInfo.gclId</th>\n",
       "      <th>trafficSource.adwordsClickInfo.slot</th>\n",
       "      <th>trafficSource.campaign</th>\n",
       "      <th>trafficSource.keyword</th>\n",
       "      <th>trafficSource.medium</th>\n",
       "      <th>trafficSource.referralPath</th>\n",
       "      <th>trafficSource.source</th>\n",
       "    </tr>\n",
       "  </thead>\n",
       "  <tbody>\n",
       "    <tr>\n",
       "      <th>0</th>\n",
       "      <td>20160902</td>\n",
       "      <td>1472830385</td>\n",
       "      <td>1</td>\n",
       "      <td>1472830385</td>\n",
       "      <td>1.0</td>\n",
       "      <td>1.0</td>\n",
       "      <td>NaN</td>\n",
       "      <td>0</td>\n",
       "      <td>0</td>\n",
       "      <td>0</td>\n",
       "      <td>...</td>\n",
       "      <td>-1</td>\n",
       "      <td>-1</td>\n",
       "      <td>-1</td>\n",
       "      <td>-1</td>\n",
       "      <td>-1</td>\n",
       "      <td>0</td>\n",
       "      <td>0</td>\n",
       "      <td>0</td>\n",
       "      <td>-1</td>\n",
       "      <td>0</td>\n",
       "    </tr>\n",
       "    <tr>\n",
       "      <th>1</th>\n",
       "      <td>20160902</td>\n",
       "      <td>1472880147</td>\n",
       "      <td>1</td>\n",
       "      <td>1472880147</td>\n",
       "      <td>1.0</td>\n",
       "      <td>1.0</td>\n",
       "      <td>NaN</td>\n",
       "      <td>0</td>\n",
       "      <td>0</td>\n",
       "      <td>1</td>\n",
       "      <td>...</td>\n",
       "      <td>-1</td>\n",
       "      <td>-1</td>\n",
       "      <td>-1</td>\n",
       "      <td>-1</td>\n",
       "      <td>-1</td>\n",
       "      <td>0</td>\n",
       "      <td>0</td>\n",
       "      <td>0</td>\n",
       "      <td>-1</td>\n",
       "      <td>0</td>\n",
       "    </tr>\n",
       "    <tr>\n",
       "      <th>2</th>\n",
       "      <td>20160902</td>\n",
       "      <td>1472865386</td>\n",
       "      <td>1</td>\n",
       "      <td>1472865386</td>\n",
       "      <td>1.0</td>\n",
       "      <td>1.0</td>\n",
       "      <td>NaN</td>\n",
       "      <td>0</td>\n",
       "      <td>0</td>\n",
       "      <td>2</td>\n",
       "      <td>...</td>\n",
       "      <td>-1</td>\n",
       "      <td>-1</td>\n",
       "      <td>-1</td>\n",
       "      <td>-1</td>\n",
       "      <td>-1</td>\n",
       "      <td>0</td>\n",
       "      <td>0</td>\n",
       "      <td>0</td>\n",
       "      <td>-1</td>\n",
       "      <td>0</td>\n",
       "    </tr>\n",
       "    <tr>\n",
       "      <th>3</th>\n",
       "      <td>20160902</td>\n",
       "      <td>1472881213</td>\n",
       "      <td>1</td>\n",
       "      <td>1472881213</td>\n",
       "      <td>1.0</td>\n",
       "      <td>1.0</td>\n",
       "      <td>NaN</td>\n",
       "      <td>0</td>\n",
       "      <td>0</td>\n",
       "      <td>3</td>\n",
       "      <td>...</td>\n",
       "      <td>-1</td>\n",
       "      <td>-1</td>\n",
       "      <td>-1</td>\n",
       "      <td>-1</td>\n",
       "      <td>-1</td>\n",
       "      <td>0</td>\n",
       "      <td>1</td>\n",
       "      <td>0</td>\n",
       "      <td>-1</td>\n",
       "      <td>0</td>\n",
       "    </tr>\n",
       "    <tr>\n",
       "      <th>4</th>\n",
       "      <td>20160902</td>\n",
       "      <td>1472822600</td>\n",
       "      <td>2</td>\n",
       "      <td>1472822600</td>\n",
       "      <td>1.0</td>\n",
       "      <td>1.0</td>\n",
       "      <td>NaN</td>\n",
       "      <td>0</td>\n",
       "      <td>0</td>\n",
       "      <td>4</td>\n",
       "      <td>...</td>\n",
       "      <td>-1</td>\n",
       "      <td>-1</td>\n",
       "      <td>-1</td>\n",
       "      <td>-1</td>\n",
       "      <td>-1</td>\n",
       "      <td>0</td>\n",
       "      <td>0</td>\n",
       "      <td>0</td>\n",
       "      <td>-1</td>\n",
       "      <td>0</td>\n",
       "    </tr>\n",
       "  </tbody>\n",
       "</table>\n",
       "<p>5 rows × 32 columns</p>\n",
       "</div>"
      ],
      "text/plain": [
       "       date     visitId  visitNumber  visitStartTime  totals.hits  \\\n",
       "0  20160902  1472830385            1      1472830385          1.0   \n",
       "1  20160902  1472880147            1      1472880147          1.0   \n",
       "2  20160902  1472865386            1      1472865386          1.0   \n",
       "3  20160902  1472881213            1      1472881213          1.0   \n",
       "4  20160902  1472822600            2      1472822600          1.0   \n",
       "\n",
       "   totals.pageviews  trafficSource.adwordsClickInfo.page  diff_visitId_time  \\\n",
       "0               1.0                                  NaN                  0   \n",
       "1               1.0                                  NaN                  0   \n",
       "2               1.0                                  NaN                  0   \n",
       "3               1.0                                  NaN                  0   \n",
       "4               1.0                                  NaN                  0   \n",
       "\n",
       "   channelGrouping  fullVisitorId          ...           \\\n",
       "0                0              0          ...            \n",
       "1                0              1          ...            \n",
       "2                0              2          ...            \n",
       "3                0              3          ...            \n",
       "4                0              4          ...            \n",
       "\n",
       "   totals.transactionRevenue  trafficSource.adContent  \\\n",
       "0                         -1                       -1   \n",
       "1                         -1                       -1   \n",
       "2                         -1                       -1   \n",
       "3                         -1                       -1   \n",
       "4                         -1                       -1   \n",
       "\n",
       "   trafficSource.adwordsClickInfo.adNetworkType  \\\n",
       "0                                            -1   \n",
       "1                                            -1   \n",
       "2                                            -1   \n",
       "3                                            -1   \n",
       "4                                            -1   \n",
       "\n",
       "   trafficSource.adwordsClickInfo.gclId  trafficSource.adwordsClickInfo.slot  \\\n",
       "0                                    -1                                   -1   \n",
       "1                                    -1                                   -1   \n",
       "2                                    -1                                   -1   \n",
       "3                                    -1                                   -1   \n",
       "4                                    -1                                   -1   \n",
       "\n",
       "   trafficSource.campaign  trafficSource.keyword  trafficSource.medium  \\\n",
       "0                       0                      0                     0   \n",
       "1                       0                      0                     0   \n",
       "2                       0                      0                     0   \n",
       "3                       0                      1                     0   \n",
       "4                       0                      0                     0   \n",
       "\n",
       "   trafficSource.referralPath  trafficSource.source  \n",
       "0                          -1                     0  \n",
       "1                          -1                     0  \n",
       "2                          -1                     0  \n",
       "3                          -1                     0  \n",
       "4                          -1                     0  \n",
       "\n",
       "[5 rows x 32 columns]"
      ]
     },
     "execution_count": 253,
     "metadata": {},
     "output_type": "execute_result"
    }
   ],
   "source": [
    "df3.head()"
   ]
  },
  {
   "cell_type": "code",
   "execution_count": 254,
   "metadata": {},
   "outputs": [],
   "source": [
    "format_str = '%Y%m%d' \n",
    "df3['date'] = df3['date'].apply(lambda x: datetime.strptime(str(x), format_str))\n"
   ]
  },
  {
   "cell_type": "code",
   "execution_count": 255,
   "metadata": {},
   "outputs": [],
   "source": [
    "df3['date_dayofweek'] = df3['date'].dt.dayofweek\n",
    "df3['date_year'] = df3['date'].dt.year\n",
    "\n",
    "df3['date_hour'] = df3['date'].dt.hour\n",
    "\n",
    "df3['date_month'] = df3['date'].dt.month\n",
    "df3['date_day'] = df3['date'].dt.day\n",
    "\n",
    "df3['date_month'] = df3['date'].apply(lambda x:x.month)\n",
    "df3['date_quarter_month'] = df3['date'].apply(lambda x:x.day//8)\n",
    "df3['date_weekday'] = df3['date'].apply(lambda x:x.weekday())\n"
   ]
  },
  {
   "cell_type": "code",
   "execution_count": 256,
   "metadata": {},
   "outputs": [],
   "source": [
    "# df3['date'].value_counts()"
   ]
  },
  {
   "cell_type": "code",
   "execution_count": 257,
   "metadata": {},
   "outputs": [],
   "source": [
    "df3 = df3.drop('date',axis=1)"
   ]
  },
  {
   "cell_type": "markdown",
   "metadata": {},
   "source": [
    "# Visit Time"
   ]
  },
  {
   "cell_type": "code",
   "execution_count": 258,
   "metadata": {},
   "outputs": [],
   "source": [
    "df3['visitStartTime'] = df3['visitStartTime'].apply(lambda x: time.strftime('%Y-%m-%d %H:%M:%S', time.localtime(x)))\n",
    "\n",
    "# df3['visitStartTime'] = pd.to_datetime(df3['visitStartTime'],unit='s')"
   ]
  },
  {
   "cell_type": "code",
   "execution_count": 259,
   "metadata": {},
   "outputs": [],
   "source": [
    "# df3['visitStartTime'].value_counts()"
   ]
  },
  {
   "cell_type": "code",
   "execution_count": 260,
   "metadata": {},
   "outputs": [],
   "source": [
    "df3['visitStartTime'] = pd.to_datetime(df3['visitStartTime'])\n",
    "\n",
    "df3['quarter_month'] = df3['visitStartTime'].apply(lambda x:x.day//8)\n",
    "\n",
    "# df3.loc[1020:1025,['visitStartTime','quarter_month']]\n",
    "\n",
    "df3['quarter_month'].value_counts()\n",
    "\n",
    "df3['day_month'] = df3['visitStartTime'].apply(lambda x:x.day)\n",
    "\n",
    "\n",
    "# df3['day_month'].value_counts()\n",
    "\n",
    "df3['WoY'] = df3['visitStartTime'].apply(lambda x: x.isocalendar()[1])\n",
    "\n",
    "# df3['WoY'].value_counts()\n",
    "\n",
    "df3['visit_dayofweek'] = df3['visitStartTime'].dt.dayofweek\n",
    "df3['visit_year'] = df3['visitStartTime'].dt.year\n",
    "\n",
    "df3['visit_month'] = df3['visitStartTime'].dt.month\n",
    "df3['visit_day'] = df3['visitStartTime'].dt.day\n",
    "df3['visit_hour'] = df3['visitStartTime'].dt.hour\n",
    "\n",
    "df3 = df3.drop('visitStartTime',axis=1)"
   ]
  },
  {
   "cell_type": "code",
   "execution_count": 261,
   "metadata": {},
   "outputs": [],
   "source": [
    "# df3 = df3.drop('formated_visitStartTime',axis=1)"
   ]
  },
  {
   "cell_type": "markdown",
   "metadata": {},
   "source": [
    "# Clean the Data Again"
   ]
  },
  {
   "cell_type": "markdown",
   "metadata": {},
   "source": [
    "##  Drop the Constant Columns"
   ]
  },
  {
   "cell_type": "code",
   "execution_count": 262,
   "metadata": {
    "scrolled": true
   },
   "outputs": [
    {
     "name": "stdout",
     "output_type": "stream",
     "text": [
      "date_hour\n"
     ]
    }
   ],
   "source": [
    "cols_drop = []\n",
    "for cols in df3.columns:\n",
    "    if df3[cols].nunique()==1:\n",
    "        print(cols)\n",
    "        cols_drop.append(cols)\n",
    "        \n",
    "df3 = df3.drop(cols_drop,axis=1)"
   ]
  },
  {
   "cell_type": "markdown",
   "metadata": {},
   "source": [
    "# Baseline Model"
   ]
  },
  {
   "cell_type": "markdown",
   "metadata": {},
   "source": [
    "# Split Feature and Label Data"
   ]
  },
  {
   "cell_type": "code",
   "execution_count": 263,
   "metadata": {},
   "outputs": [],
   "source": [
    "train_x = df3.drop(['totals.transactionRevenue','sessionId','visitId'],axis=1)\n"
   ]
  },
  {
   "cell_type": "markdown",
   "metadata": {},
   "source": [
    "# Training Model"
   ]
  },
  {
   "cell_type": "code",
   "execution_count": 265,
   "metadata": {},
   "outputs": [],
   "source": [
    "from sklearn.ensemble import RandomForestRegressor\n",
    "from sklearn.datasets import make_regression\n",
    "\n",
    "regr = RandomForestRegressor(max_depth=2, random_state=0,\n",
    "                             n_estimators=100)\n",
    "# model=regr.fit(train_x, train_y)\n"
   ]
  },
  {
   "cell_type": "code",
   "execution_count": 266,
   "metadata": {},
   "outputs": [],
   "source": [
    "def calc_train_error(X_train, y_train, model):\n",
    "    '''returns in-sample error for already fit model.'''\n",
    "    predictions = model.predict(X_train)\n",
    "    mse = mean_squared_error(y_train, predictions)\n",
    "    rmse = np.sqrt(mse)\n",
    "    return rmse"
   ]
  },
  {
   "cell_type": "code",
   "execution_count": 267,
   "metadata": {},
   "outputs": [],
   "source": [
    "from sklearn.metrics import mean_squared_error"
   ]
  },
  {
   "cell_type": "code",
   "execution_count": 268,
   "metadata": {},
   "outputs": [],
   "source": [
    "import numpy as np"
   ]
  },
  {
   "cell_type": "code",
   "execution_count": 269,
   "metadata": {},
   "outputs": [],
   "source": [
    "# calc_train_error(train_x, train_y, model)"
   ]
  },
  {
   "cell_type": "code",
   "execution_count": 270,
   "metadata": {},
   "outputs": [],
   "source": [
    "param = {'num_leaves': 300,\n",
    "         'min_data_in_leaf': 30, \n",
    "         'objective':'regression',\n",
    "         'max_depth': -1,\n",
    "         'learning_rate': 0.005,\n",
    "         \"min_child_samples\": 20,\n",
    "         \"boosting\": \"rf\",\n",
    "         \"feature_fraction\": 0.9,\n",
    "         \"bagging_freq\": 1,\n",
    "         \"bagging_fraction\": 0.8 ,\n",
    "         \"bagging_seed\": 11,\n",
    "         \"metric\": 'rmse',\n",
    "         \"lambda_l1\": 1,\n",
    "         \"verbosity\": -1}"
   ]
  },
  {
   "cell_type": "code",
   "execution_count": 271,
   "metadata": {},
   "outputs": [
    {
     "name": "stdout",
     "output_type": "stream",
     "text": [
      "Training until validation scores don't improve for 100 rounds.\n",
      "[100]\ttraining's rmse: 1.57093\tvalid_1's rmse: 1.63733\n",
      "Early stopping, best iteration is:\n",
      "[84]\ttraining's rmse: 1.56897\tvalid_1's rmse: 1.63631\n",
      "Training until validation scores don't improve for 100 rounds.\n",
      "[100]\ttraining's rmse: 1.56896\tvalid_1's rmse: 1.64207\n",
      "Early stopping, best iteration is:\n",
      "[84]\ttraining's rmse: 1.56664\tvalid_1's rmse: 1.64115\n",
      "Training until validation scores don't improve for 100 rounds.\n",
      "[100]\ttraining's rmse: 1.56584\tvalid_1's rmse: 1.65037\n",
      "Early stopping, best iteration is:\n",
      "[84]\ttraining's rmse: 1.56331\tvalid_1's rmse: 1.64904\n",
      "Training until validation scores don't improve for 100 rounds.\n",
      "[100]\ttraining's rmse: 1.56025\tvalid_1's rmse: 1.67709\n",
      "Early stopping, best iteration is:\n",
      "[84]\ttraining's rmse: 1.5583\tvalid_1's rmse: 1.67533\n",
      "Training until validation scores don't improve for 100 rounds.\n",
      "[100]\ttraining's rmse: 1.56688\tvalid_1's rmse: 1.64452\n",
      "Early stopping, best iteration is:\n",
      "[84]\ttraining's rmse: 1.56463\tvalid_1's rmse: 1.6433\n"
     ]
    }
   ],
   "source": [
    "folds = KFold(n_splits=5, shuffle=True, random_state=15)\n",
    "oof = np.zeros(len(df3))\n",
    "predictions = np.zeros(len(df3))\n",
    "start = time.time()\n",
    "features = list(train_x.columns)\n",
    "feature_importance_df = pd.DataFrame()\n",
    "\n",
    "for fold_, (trn_idx, val_idx) in enumerate(folds.split(train_x.values, train_y.values)):\n",
    "    trn_data = lgb.Dataset(train_x.iloc[trn_idx].values, label=train_y.iloc[trn_idx].values)\n",
    "    val_data = lgb.Dataset(train_x.iloc[val_idx].values, label=train_y.iloc[val_idx].values)\n",
    "    \n",
    "    num_round = 10000\n",
    "    clf = lgb.train(param, trn_data, num_round, valid_sets = [trn_data, val_data], verbose_eval=100, early_stopping_rounds = 100)\n",
    "    oof[val_idx] = clf.predict(train_x.iloc[val_idx].values, num_iteration=clf.best_iteration)\n",
    "    \n",
    "    fold_importance_df = pd.DataFrame()\n",
    "    fold_importance_df[\"feature\"] = features\n",
    "    fold_importance_df[\"importance\"] = clf.feature_importance()\n",
    "    fold_importance_df[\"fold\"] = fold_ + 1\n",
    "    feature_importance_df = pd.concat([feature_importance_df, fold_importance_df], axis=0)\n",
    "    \n",
    "    predictions += clf.predict(train_x.values, num_iteration=clf.best_iteration) / folds.n_splits"
   ]
  },
  {
   "cell_type": "code",
   "execution_count": 272,
   "metadata": {},
   "outputs": [
    {
     "name": "stderr",
     "output_type": "stream",
     "text": [
      "/Users/liaopeng3/anaconda3/lib/python3.6/site-packages/scipy/stats/stats.py:1713: FutureWarning: Using a non-tuple sequence for multidimensional indexing is deprecated; use `arr[tuple(seq)]` instead of `arr[seq]`. In the future this will be interpreted as an array index, `arr[np.array(seq)]`, which will result either in an error or a different result.\n",
      "  return np.add.reduce(sorted[indexer] * weights, axis=axis) / sumval\n"
     ]
    },
    {
     "data": {
      "image/png": "[encoded data removed]",
      "text/plain": [
       "<matplotlib.figure.Figure at 0x2646505c0>"
      ]
     },
     "metadata": {},
     "output_type": "display_data"
    }
   ],
   "source": [
    "cols = feature_importance_df[[\"feature\", \"importance\"]].groupby(\"feature\").mean().sort_values(\n",
    "    by=\"importance\", ascending=False)[:1000].index\n",
    "\n",
    "best_features = feature_importance_df.loc[feature_importance_df.feature.isin(cols)]\n",
    "\n",
    "plt.figure(figsize=(14,10))\n",
    "sns.barplot(x=\"importance\", y=\"feature\", data=best_features.sort_values(by=\"importance\", ascending=False))\n",
    "plt.title('LightGBM Features (avg over folds)')\n",
    "plt.tight_layout()\n",
    "plt.savefig('lgbm_importances.png')"
   ]
  },
  {
   "cell_type": "code",
   "execution_count": null,
   "metadata": {},
   "outputs": [],
   "source": []
  }
 ],
 "metadata": {
  "kernelspec": {
   "display_name": "Python 3",
   "language": "python",
   "name": "python3"
  },
  "language_info": {
   "codemirror_mode": {
    "name": "ipython",
    "version": 3
   },
   "file_extension": ".py",
   "mimetype": "text/x-python",
   "name": "python",
   "nbconvert_exporter": "python",
   "pygments_lexer": "ipython3",
   "version": "3.6.4"
  }
 },
 "nbformat": 4,
 "nbformat_minor": 2
}
