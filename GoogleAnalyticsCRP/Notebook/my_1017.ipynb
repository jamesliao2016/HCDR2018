{
 "cells": [
  {
   "cell_type": "code",
   "execution_count": 1,
   "metadata": {},
   "outputs": [
    {
     "name": "stderr",
     "output_type": "stream",
     "text": [
      "/Users/liaopeng3/anaconda3/lib/python3.6/site-packages/sklearn/ensemble/weight_boosting.py:29: DeprecationWarning: numpy.core.umath_tests is an internal NumPy module and should not be imported. It will be removed in a future NumPy release.\n",
      "  from numpy.core.umath_tests import inner1d\n"
     ]
    }
   ],
   "source": [
    "import pandas as pd\n",
    "import json\n",
    "import matplotlib.pyplot as plt\n",
    "import seaborn as sns\n",
    "from pandas.io.json import json_normalize\n",
    "import lightgbm as lgb\n",
    "from sklearn.model_selection import KFold\n",
    "import time\n",
    "from datetime import datetime\n",
    "import numpy as np\n",
    "from sklearn.ensemble import RandomForestRegressor\n",
    "from sklearn.datasets import make_regression\n",
    "from sklearn.metrics import mean_squared_error"
   ]
  },
  {
   "cell_type": "code",
   "execution_count": 2,
   "metadata": {},
   "outputs": [],
   "source": [
    "col_select = ['device','geoNetwork','totals','trafficSource']"
   ]
  },
  {
   "cell_type": "markdown",
   "metadata": {},
   "source": [
    "# Read The Training Data"
   ]
  },
  {
   "cell_type": "code",
   "execution_count": 3,
   "metadata": {},
   "outputs": [],
   "source": [
    "df_raw = pd.read_csv('/Users/liaopeng3/logs/google_analytics_all/train.csv',\\\n",
    "                  converters={cols:json.loads for cols in col_select},dtype={'fullVisitorId': 'str'},header=0)"
   ]
  },
  {
   "cell_type": "code",
   "execution_count": 4,
   "metadata": {},
   "outputs": [],
   "source": [
    "for cols in col_select:\n",
    "    column_as_df = json_normalize(df_raw[cols])\n",
    "    column_as_df.columns = [f\"{cols}.{subcolumn}\" for subcolumn in column_as_df.columns]\n",
    "    df_raw = df_raw.drop(cols,axis=1)\n",
    "    df_raw = df_raw.merge(column_as_df,left_index=True,right_index=True)"
   ]
  },
  {
   "cell_type": "markdown",
   "metadata": {},
   "source": [
    "# Read the Test Data"
   ]
  },
  {
   "cell_type": "code",
   "execution_count": 5,
   "metadata": {},
   "outputs": [],
   "source": [
    "df_train = df_raw.copy()"
   ]
  },
  {
   "cell_type": "code",
   "execution_count": 6,
   "metadata": {},
   "outputs": [],
   "source": [
    "df_test_raw = pd.read_csv('/Users/liaopeng3/logs/google_analytics_all/test.csv',\\\n",
    "                  converters={cols:json.loads for cols in col_select},dtype={'fullVisitorId': 'str'},header=0)"
   ]
  },
  {
   "cell_type": "code",
   "execution_count": 7,
   "metadata": {},
   "outputs": [],
   "source": [
    "col_select_test = ['device','geoNetwork','totals','trafficSource']"
   ]
  },
  {
   "cell_type": "code",
   "execution_count": 8,
   "metadata": {},
   "outputs": [
    {
     "data": {
      "text/html": [
       "<div>\n",
       "<style scoped>\n",
       "    .dataframe tbody tr th:only-of-type {\n",
       "        vertical-align: middle;\n",
       "    }\n",
       "\n",
       "    .dataframe tbody tr th {\n",
       "        vertical-align: top;\n",
       "    }\n",
       "\n",
       "    .dataframe thead th {\n",
       "        text-align: right;\n",
       "    }\n",
       "</style>\n",
       "<table border=\"1\" class=\"dataframe\">\n",
       "  <thead>\n",
       "    <tr style=\"text-align: right;\">\n",
       "      <th></th>\n",
       "      <th>channelGrouping</th>\n",
       "      <th>date</th>\n",
       "      <th>device</th>\n",
       "      <th>fullVisitorId</th>\n",
       "      <th>geoNetwork</th>\n",
       "      <th>sessionId</th>\n",
       "      <th>socialEngagementType</th>\n",
       "      <th>totals</th>\n",
       "      <th>trafficSource</th>\n",
       "      <th>visitId</th>\n",
       "      <th>visitNumber</th>\n",
       "      <th>visitStartTime</th>\n",
       "    </tr>\n",
       "  </thead>\n",
       "  <tbody>\n",
       "    <tr>\n",
       "      <th>0</th>\n",
       "      <td>Organic Search</td>\n",
       "      <td>20171016</td>\n",
       "      <td>{'browser': 'Chrome', 'browserVersion': 'not a...</td>\n",
       "      <td>6167871330617112363</td>\n",
       "      <td>{'continent': 'Asia', 'subContinent': 'Southea...</td>\n",
       "      <td>6167871330617112363_1508151024</td>\n",
       "      <td>Not Socially Engaged</td>\n",
       "      <td>{'visits': '1', 'hits': '4', 'pageviews': '4'}</td>\n",
       "      <td>{'campaign': '(not set)', 'source': 'google', ...</td>\n",
       "      <td>1508151024</td>\n",
       "      <td>2</td>\n",
       "      <td>1508151024</td>\n",
       "    </tr>\n",
       "    <tr>\n",
       "      <th>1</th>\n",
       "      <td>Organic Search</td>\n",
       "      <td>20171016</td>\n",
       "      <td>{'browser': 'Chrome', 'browserVersion': 'not a...</td>\n",
       "      <td>0643697640977915618</td>\n",
       "      <td>{'continent': 'Europe', 'subContinent': 'South...</td>\n",
       "      <td>0643697640977915618_1508175522</td>\n",
       "      <td>Not Socially Engaged</td>\n",
       "      <td>{'visits': '1', 'hits': '5', 'pageviews': '5',...</td>\n",
       "      <td>{'campaign': '(not set)', 'source': 'google', ...</td>\n",
       "      <td>1508175522</td>\n",
       "      <td>1</td>\n",
       "      <td>1508175522</td>\n",
       "    </tr>\n",
       "    <tr>\n",
       "      <th>2</th>\n",
       "      <td>Organic Search</td>\n",
       "      <td>20171016</td>\n",
       "      <td>{'browser': 'Chrome', 'browserVersion': 'not a...</td>\n",
       "      <td>6059383810968229466</td>\n",
       "      <td>{'continent': 'Europe', 'subContinent': 'Weste...</td>\n",
       "      <td>6059383810968229466_1508143220</td>\n",
       "      <td>Not Socially Engaged</td>\n",
       "      <td>{'visits': '1', 'hits': '7', 'pageviews': '7',...</td>\n",
       "      <td>{'campaign': '(not set)', 'source': 'google', ...</td>\n",
       "      <td>1508143220</td>\n",
       "      <td>1</td>\n",
       "      <td>1508143220</td>\n",
       "    </tr>\n",
       "    <tr>\n",
       "      <th>3</th>\n",
       "      <td>Organic Search</td>\n",
       "      <td>20171016</td>\n",
       "      <td>{'browser': 'Safari', 'browserVersion': 'not a...</td>\n",
       "      <td>2376720078563423631</td>\n",
       "      <td>{'continent': 'Americas', 'subContinent': 'Nor...</td>\n",
       "      <td>2376720078563423631_1508193530</td>\n",
       "      <td>Not Socially Engaged</td>\n",
       "      <td>{'visits': '1', 'hits': '8', 'pageviews': '4',...</td>\n",
       "      <td>{'campaign': '(not set)', 'source': 'google', ...</td>\n",
       "      <td>1508193530</td>\n",
       "      <td>1</td>\n",
       "      <td>1508193530</td>\n",
       "    </tr>\n",
       "    <tr>\n",
       "      <th>4</th>\n",
       "      <td>Organic Search</td>\n",
       "      <td>20171016</td>\n",
       "      <td>{'browser': 'Safari', 'browserVersion': 'not a...</td>\n",
       "      <td>2314544520795440038</td>\n",
       "      <td>{'continent': 'Americas', 'subContinent': 'Nor...</td>\n",
       "      <td>2314544520795440038_1508217442</td>\n",
       "      <td>Not Socially Engaged</td>\n",
       "      <td>{'visits': '1', 'hits': '9', 'pageviews': '4',...</td>\n",
       "      <td>{'campaign': '(not set)', 'source': 'google', ...</td>\n",
       "      <td>1508217442</td>\n",
       "      <td>1</td>\n",
       "      <td>1508217442</td>\n",
       "    </tr>\n",
       "  </tbody>\n",
       "</table>\n",
       "</div>"
      ],
      "text/plain": [
       "  channelGrouping      date  \\\n",
       "0  Organic Search  20171016   \n",
       "1  Organic Search  20171016   \n",
       "2  Organic Search  20171016   \n",
       "3  Organic Search  20171016   \n",
       "4  Organic Search  20171016   \n",
       "\n",
       "                                              device        fullVisitorId  \\\n",
       "0  {'browser': 'Chrome', 'browserVersion': 'not a...  6167871330617112363   \n",
       "1  {'browser': 'Chrome', 'browserVersion': 'not a...  0643697640977915618   \n",
       "2  {'browser': 'Chrome', 'browserVersion': 'not a...  6059383810968229466   \n",
       "3  {'browser': 'Safari', 'browserVersion': 'not a...  2376720078563423631   \n",
       "4  {'browser': 'Safari', 'browserVersion': 'not a...  2314544520795440038   \n",
       "\n",
       "                                          geoNetwork  \\\n",
       "0  {'continent': 'Asia', 'subContinent': 'Southea...   \n",
       "1  {'continent': 'Europe', 'subContinent': 'South...   \n",
       "2  {'continent': 'Europe', 'subContinent': 'Weste...   \n",
       "3  {'continent': 'Americas', 'subContinent': 'Nor...   \n",
       "4  {'continent': 'Americas', 'subContinent': 'Nor...   \n",
       "\n",
       "                        sessionId  socialEngagementType  \\\n",
       "0  6167871330617112363_1508151024  Not Socially Engaged   \n",
       "1  0643697640977915618_1508175522  Not Socially Engaged   \n",
       "2  6059383810968229466_1508143220  Not Socially Engaged   \n",
       "3  2376720078563423631_1508193530  Not Socially Engaged   \n",
       "4  2314544520795440038_1508217442  Not Socially Engaged   \n",
       "\n",
       "                                              totals  \\\n",
       "0     {'visits': '1', 'hits': '4', 'pageviews': '4'}   \n",
       "1  {'visits': '1', 'hits': '5', 'pageviews': '5',...   \n",
       "2  {'visits': '1', 'hits': '7', 'pageviews': '7',...   \n",
       "3  {'visits': '1', 'hits': '8', 'pageviews': '4',...   \n",
       "4  {'visits': '1', 'hits': '9', 'pageviews': '4',...   \n",
       "\n",
       "                                       trafficSource     visitId  visitNumber  \\\n",
       "0  {'campaign': '(not set)', 'source': 'google', ...  1508151024            2   \n",
       "1  {'campaign': '(not set)', 'source': 'google', ...  1508175522            1   \n",
       "2  {'campaign': '(not set)', 'source': 'google', ...  1508143220            1   \n",
       "3  {'campaign': '(not set)', 'source': 'google', ...  1508193530            1   \n",
       "4  {'campaign': '(not set)', 'source': 'google', ...  1508217442            1   \n",
       "\n",
       "   visitStartTime  \n",
       "0      1508151024  \n",
       "1      1508175522  \n",
       "2      1508143220  \n",
       "3      1508193530  \n",
       "4      1508217442  "
      ]
     },
     "execution_count": 8,
     "metadata": {},
     "output_type": "execute_result"
    }
   ],
   "source": [
    "df_test_raw.head()"
   ]
  },
  {
   "cell_type": "code",
   "execution_count": 9,
   "metadata": {},
   "outputs": [],
   "source": [
    "for cols in col_select:\n",
    "    column_as_df = json_normalize(df_test_raw[cols])\n",
    "    column_as_df.columns = [f\"{cols}.{subcolumn}\" for subcolumn in column_as_df.columns]\n",
    "    df_test_raw = df_test_raw.drop(cols,axis=1)\n",
    "    df_test_raw = df_test_raw.merge(column_as_df,left_index=True,right_index=True)"
   ]
  },
  {
   "cell_type": "markdown",
   "metadata": {},
   "source": [
    "# Concatenate the Training and Test Dat"
   ]
  },
  {
   "cell_type": "code",
   "execution_count": 10,
   "metadata": {},
   "outputs": [
    {
     "data": {
      "text/plain": [
       "Index(['totals.transactionRevenue', 'trafficSource.campaignCode'], dtype='object')"
      ]
     },
     "execution_count": 10,
     "metadata": {},
     "output_type": "execute_result"
    }
   ],
   "source": [
    "df_train.columns.difference(df_test_raw.columns)"
   ]
  },
  {
   "cell_type": "code",
   "execution_count": 11,
   "metadata": {},
   "outputs": [
    {
     "data": {
      "text/plain": [
       "Index([], dtype='object')"
      ]
     },
     "execution_count": 11,
     "metadata": {},
     "output_type": "execute_result"
    }
   ],
   "source": [
    "df_test_raw.columns.difference(df_train.columns)"
   ]
  },
  {
   "cell_type": "code",
   "execution_count": 12,
   "metadata": {},
   "outputs": [],
   "source": [
    "df3 = pd.concat([df_train.drop(['totals.transactionRevenue', 'trafficSource.campaignCode'],axis=1),df_test_raw],ignore_index=True) "
   ]
  },
  {
   "cell_type": "code",
   "execution_count": 13,
   "metadata": {},
   "outputs": [
    {
     "data": {
      "text/plain": [
       "(903653, 55)"
      ]
     },
     "execution_count": 13,
     "metadata": {},
     "output_type": "execute_result"
    }
   ],
   "source": [
    "df_train.shape"
   ]
  },
  {
   "cell_type": "code",
   "execution_count": 14,
   "metadata": {},
   "outputs": [],
   "source": [
    "len_df_train = df_train.shape[0]"
   ]
  },
  {
   "cell_type": "markdown",
   "metadata": {},
   "source": [
    "# Split Feature and Label Data"
   ]
  },
  {
   "cell_type": "code",
   "execution_count": 15,
   "metadata": {},
   "outputs": [],
   "source": [
    "train_y = df_train['totals.transactionRevenue'].fillna(0).astype(float).apply(lambda x: np.log1p(x))"
   ]
  },
  {
   "cell_type": "markdown",
   "metadata": {},
   "source": [
    "# Add Visit Time"
   ]
  },
  {
   "cell_type": "code",
   "execution_count": 16,
   "metadata": {},
   "outputs": [],
   "source": [
    "df3['diff_visitId_time'] = df3['visitId'] - df3['visitStartTime']\n",
    "df3['diff_visitId_time'] = (df3['diff_visitId_time'] != 0).astype(int)"
   ]
  },
  {
   "cell_type": "markdown",
   "metadata": {},
   "source": [
    "# Format the Numerous Variables"
   ]
  },
  {
   "cell_type": "code",
   "execution_count": 17,
   "metadata": {},
   "outputs": [],
   "source": [
    "list_v = ['totals.hits','totals.pageviews','trafficSource.adwordsClickInfo.page']"
   ]
  },
  {
   "cell_type": "code",
   "execution_count": 18,
   "metadata": {},
   "outputs": [],
   "source": [
    "for cols in list_v:\n",
    "    df3[cols]=df3[cols].astype(float)"
   ]
  },
  {
   "cell_type": "markdown",
   "metadata": {},
   "source": [
    "##  Drop the Constant Columns"
   ]
  },
  {
   "cell_type": "code",
   "execution_count": 19,
   "metadata": {
    "scrolled": true
   },
   "outputs": [],
   "source": [
    "cols_drop = []\n",
    "for cols in df3.columns:\n",
    "    if df3[cols].nunique()==1:\n",
    "#         print(cols)\n",
    "        cols_drop.append(cols)\n",
    "        \n",
    "df3 = df3.drop(cols_drop,axis=1)"
   ]
  },
  {
   "cell_type": "markdown",
   "metadata": {},
   "source": [
    "# Convert the Object Values to Numeric"
   ]
  },
  {
   "cell_type": "code",
   "execution_count": 20,
   "metadata": {},
   "outputs": [],
   "source": [
    "for cols in df3.columns:\n",
    "    if df3[cols].dtypes == object or df3[cols].dtypes== bool:\n",
    "#         df3[cols] = df3[cols].astype('category')\n",
    "#         df3[\"new_\"+cols] = df3[cols].cat.codes\n",
    "        df3[\"new_\"+cols] = pd.factorize( df3[cols])[0]\n",
    "        df3 = df3.drop(cols,axis=1)\n",
    "        df3 = df3.rename(columns={\"new_\"+cols:cols})"
   ]
  },
  {
   "cell_type": "markdown",
   "metadata": {},
   "source": [
    "# Convert Date to Numeric Variables"
   ]
  },
  {
   "cell_type": "code",
   "execution_count": 21,
   "metadata": {},
   "outputs": [],
   "source": [
    "format_str = '%Y%m%d' \n",
    "df3['date'] = df3['date'].apply(lambda x: datetime.strptime(str(x), format_str))\n"
   ]
  },
  {
   "cell_type": "code",
   "execution_count": 22,
   "metadata": {},
   "outputs": [],
   "source": [
    "df3['date_dayofweek'] = df3['date'].dt.dayofweek\n",
    "df3['date_year'] = df3['date'].dt.year\n",
    "\n",
    "df3['date_hour'] = df3['date'].dt.hour\n",
    "\n",
    "df3['date_month'] = df3['date'].dt.month\n",
    "df3['date_day'] = df3['date'].dt.day\n",
    "\n",
    "df3['date_month'] = df3['date'].apply(lambda x:x.month)\n",
    "df3['date_quarter_month'] = df3['date'].apply(lambda x:x.day//8)\n",
    "df3['date_weekday'] = df3['date'].apply(lambda x:x.weekday())\n"
   ]
  },
  {
   "cell_type": "code",
   "execution_count": 23,
   "metadata": {},
   "outputs": [],
   "source": [
    "df3 = df3.drop('date',axis=1)"
   ]
  },
  {
   "cell_type": "markdown",
   "metadata": {},
   "source": [
    "# Visit Time"
   ]
  },
  {
   "cell_type": "code",
   "execution_count": 24,
   "metadata": {},
   "outputs": [],
   "source": [
    "df3['visitStartTime'] = df3['visitStartTime'].apply(lambda x: time.strftime('%Y-%m-%d %H:%M:%S', time.localtime(x)))\n",
    "\n",
    "# df3['visitStartTime'] = pd.to_datetime(df3['visitStartTime'],unit='s')"
   ]
  },
  {
   "cell_type": "code",
   "execution_count": 25,
   "metadata": {},
   "outputs": [],
   "source": [
    "df3['visitStartTime'] = pd.to_datetime(df3['visitStartTime'])\n",
    "\n",
    "df3['quarter_month'] = df3['visitStartTime'].apply(lambda x:x.day//8)\n",
    "\n",
    "# df3.loc[1020:1025,['visitStartTime','quarter_month']]\n",
    "\n",
    "df3['quarter_month'].value_counts()\n",
    "\n",
    "df3['day_month'] = df3['visitStartTime'].apply(lambda x:x.day)\n",
    "\n",
    "\n",
    "# df3['day_month'].value_counts()\n",
    "\n",
    "df3['WoY'] = df3['visitStartTime'].apply(lambda x: x.isocalendar()[1])\n",
    "\n",
    "# df3['WoY'].value_counts()\n",
    "\n",
    "df3['visit_dayofweek'] = df3['visitStartTime'].dt.dayofweek\n",
    "df3['visit_year'] = df3['visitStartTime'].dt.year\n",
    "\n",
    "df3['visit_month'] = df3['visitStartTime'].dt.month\n",
    "df3['visit_day'] = df3['visitStartTime'].dt.day\n",
    "df3['visit_hour'] = df3['visitStartTime'].dt.hour\n",
    "\n",
    "df3 = df3.drop('visitStartTime',axis=1)"
   ]
  },
  {
   "cell_type": "markdown",
   "metadata": {},
   "source": [
    "# Clean the Data Again"
   ]
  },
  {
   "cell_type": "markdown",
   "metadata": {},
   "source": [
    "##  Drop the Constant Columns"
   ]
  },
  {
   "cell_type": "code",
   "execution_count": 26,
   "metadata": {
    "scrolled": true
   },
   "outputs": [
    {
     "name": "stdout",
     "output_type": "stream",
     "text": [
      "date_hour\n"
     ]
    }
   ],
   "source": [
    "cols_drop = []\n",
    "for cols in df3.columns:\n",
    "    if df3[cols].nunique()==1:\n",
    "#         print(cols)\n",
    "        cols_drop.append(cols)\n",
    "        \n",
    "df3 = df3.drop(cols_drop,axis=1)"
   ]
  },
  {
   "cell_type": "markdown",
   "metadata": {},
   "source": [
    "# Baseline Model"
   ]
  },
  {
   "cell_type": "markdown",
   "metadata": {},
   "source": [
    "# Split Feature and Label Data"
   ]
  },
  {
   "cell_type": "code",
   "execution_count": 27,
   "metadata": {},
   "outputs": [],
   "source": [
    "train_x = df3[:len_df_train]\n"
   ]
  },
  {
   "cell_type": "code",
   "execution_count": 28,
   "metadata": {},
   "outputs": [],
   "source": [
    "test_x = df3[len_df_train:]"
   ]
  },
  {
   "cell_type": "markdown",
   "metadata": {},
   "source": [
    "# Training Model"
   ]
  },
  {
   "cell_type": "code",
   "execution_count": 29,
   "metadata": {},
   "outputs": [],
   "source": [
    "\n",
    "# regr = RandomForestRegressor(max_depth=2, random_state=0,\n",
    "#                              n_estimators=100)\n",
    "\n",
    "\n",
    "# def calc_train_error(X_train, y_train, model):\n",
    "#     '''returns in-sample error for already fit model.'''\n",
    "#     predictions = model.predict(X_train)\n",
    "#     mse = mean_squared_error(y_train, predictions)\n",
    "#     rmse = np.sqrt(mse)\n",
    "#     return rmse\n",
    "\n",
    "\n",
    "\n",
    "# import numpy as np\n",
    "\n",
    "# # calc_train_error(train_x, train_y, model)"
   ]
  },
  {
   "cell_type": "code",
   "execution_count": 43,
   "metadata": {},
   "outputs": [],
   "source": [
    "param = {'num_leaves': 300,\n",
    "         'min_data_in_leaf': 30, \n",
    "         'objective':'regression',\n",
    "         'max_depth': -1,\n",
    "         'learning_rate': 0.005,\n",
    "         \"min_child_samples\": 20,\n",
    "#          'boosting_type' : 'dart',\n",
    "         'boosting' : 'dart',\n",
    "         \"feature_fraction\": 0.9,\n",
    "         \"bagging_freq\": 1,\n",
    "         \"bagging_fraction\": 0.8 ,\n",
    "         \"bagging_seed\": 11,\n",
    "         \"metric\": 'rmse',\n",
    "         \"lambda_l1\": 1,\n",
    "         \"verbosity\": -1}"
   ]
  },
  {
   "cell_type": "code",
   "execution_count": 44,
   "metadata": {
    "scrolled": false
   },
   "outputs": [
    {
     "name": "stdout",
     "output_type": "stream",
     "text": [
      "Training until validation scores don't improve for 100 rounds.\n",
      "[100]\ttraining's rmse: 1.88165\tvalid_1's rmse: 1.87246\n",
      "[200]\ttraining's rmse: 1.8222\tvalid_1's rmse: 1.82423\n",
      "[300]\ttraining's rmse: 1.7607\tvalid_1's rmse: 1.77689\n",
      "[400]\ttraining's rmse: 1.70899\tvalid_1's rmse: 1.73942\n",
      "[500]\ttraining's rmse: 1.66221\tvalid_1's rmse: 1.70847\n",
      "[600]\ttraining's rmse: 1.6454\tvalid_1's rmse: 1.69934\n",
      "[700]\ttraining's rmse: 1.6143\tvalid_1's rmse: 1.68141\n",
      "[800]\ttraining's rmse: 1.59589\tvalid_1's rmse: 1.67212\n",
      "[900]\ttraining's rmse: 1.57038\tvalid_1's rmse: 1.65998\n",
      "[1000]\ttraining's rmse: 1.55459\tvalid_1's rmse: 1.6534\n",
      "[1100]\ttraining's rmse: 1.53631\tvalid_1's rmse: 1.6465\n",
      "[1200]\ttraining's rmse: 1.52649\tvalid_1's rmse: 1.64371\n",
      "[1300]\ttraining's rmse: 1.51275\tvalid_1's rmse: 1.63911\n",
      "[1400]\ttraining's rmse: 1.49329\tvalid_1's rmse: 1.63259\n",
      "[1500]\ttraining's rmse: 1.48628\tvalid_1's rmse: 1.63137\n",
      "[1600]\ttraining's rmse: 1.47112\tvalid_1's rmse: 1.62713\n",
      "[1700]\ttraining's rmse: 1.45568\tvalid_1's rmse: 1.62318\n",
      "[1800]\ttraining's rmse: 1.44372\tvalid_1's rmse: 1.62069\n",
      "[1900]\ttraining's rmse: 1.43091\tvalid_1's rmse: 1.61835\n",
      "[2000]\ttraining's rmse: 1.42176\tvalid_1's rmse: 1.6173\n",
      "[2100]\ttraining's rmse: 1.40659\tvalid_1's rmse: 1.61474\n",
      "[2200]\ttraining's rmse: 1.3958\tvalid_1's rmse: 1.61384\n",
      "[2300]\ttraining's rmse: 1.38271\tvalid_1's rmse: 1.61247\n",
      "[2400]\ttraining's rmse: 1.3696\tvalid_1's rmse: 1.61119\n",
      "[2500]\ttraining's rmse: 1.3608\tvalid_1's rmse: 1.61082\n",
      "[2600]\ttraining's rmse: 1.35226\tvalid_1's rmse: 1.6105\n",
      "[2700]\ttraining's rmse: 1.34295\tvalid_1's rmse: 1.61014\n",
      "[2800]\ttraining's rmse: 1.33959\tvalid_1's rmse: 1.61072\n",
      "Early stopping, best iteration is:\n",
      "[2706]\ttraining's rmse: 1.34185\tvalid_1's rmse: 1.61005\n",
      "Training until validation scores don't improve for 100 rounds.\n",
      "[100]\ttraining's rmse: 1.88337\tvalid_1's rmse: 1.86276\n",
      "[200]\ttraining's rmse: 1.82338\tvalid_1's rmse: 1.81532\n",
      "[300]\ttraining's rmse: 1.7616\tvalid_1's rmse: 1.76885\n",
      "[400]\ttraining's rmse: 1.70938\tvalid_1's rmse: 1.7325\n",
      "[500]\ttraining's rmse: 1.6623\tvalid_1's rmse: 1.7026\n",
      "[600]\ttraining's rmse: 1.64549\tvalid_1's rmse: 1.6935\n",
      "[700]\ttraining's rmse: 1.61449\tvalid_1's rmse: 1.67659\n",
      "[800]\ttraining's rmse: 1.59594\tvalid_1's rmse: 1.66803\n",
      "[900]\ttraining's rmse: 1.57016\tvalid_1's rmse: 1.65634\n",
      "[1000]\ttraining's rmse: 1.55439\tvalid_1's rmse: 1.65061\n",
      "[1100]\ttraining's rmse: 1.53601\tvalid_1's rmse: 1.64416\n",
      "[1200]\ttraining's rmse: 1.52614\tvalid_1's rmse: 1.64177\n",
      "[1300]\ttraining's rmse: 1.5123\tvalid_1's rmse: 1.63795\n",
      "[1400]\ttraining's rmse: 1.49283\tvalid_1's rmse: 1.63191\n",
      "[1500]\ttraining's rmse: 1.48572\tvalid_1's rmse: 1.63103\n",
      "[1600]\ttraining's rmse: 1.47049\tvalid_1's rmse: 1.62762\n",
      "[1700]\ttraining's rmse: 1.45485\tvalid_1's rmse: 1.62429\n",
      "[1800]\ttraining's rmse: 1.44305\tvalid_1's rmse: 1.62242\n",
      "[1900]\ttraining's rmse: 1.43022\tvalid_1's rmse: 1.6205\n",
      "[2000]\ttraining's rmse: 1.42109\tvalid_1's rmse: 1.61974\n",
      "[2100]\ttraining's rmse: 1.40603\tvalid_1's rmse: 1.61769\n",
      "[2200]\ttraining's rmse: 1.39504\tvalid_1's rmse: 1.61664\n",
      "[2300]\ttraining's rmse: 1.38175\tvalid_1's rmse: 1.61546\n",
      "[2400]\ttraining's rmse: 1.3687\tvalid_1's rmse: 1.61442\n",
      "[2500]\ttraining's rmse: 1.35985\tvalid_1's rmse: 1.61398\n",
      "[2600]\ttraining's rmse: 1.35123\tvalid_1's rmse: 1.61366\n",
      "[2700]\ttraining's rmse: 1.34182\tvalid_1's rmse: 1.6134\n",
      "[2800]\ttraining's rmse: 1.33855\tvalid_1's rmse: 1.61363\n",
      "Early stopping, best iteration is:\n",
      "[2706]\ttraining's rmse: 1.34073\tvalid_1's rmse: 1.61324\n",
      "Training until validation scores don't improve for 100 rounds.\n",
      "[100]\ttraining's rmse: 1.87593\tvalid_1's rmse: 1.89762\n",
      "[200]\ttraining's rmse: 1.81652\tvalid_1's rmse: 1.8486\n",
      "[300]\ttraining's rmse: 1.7557\tvalid_1's rmse: 1.80056\n",
      "[400]\ttraining's rmse: 1.70429\tvalid_1's rmse: 1.76218\n",
      "[500]\ttraining's rmse: 1.6577\tvalid_1's rmse: 1.72982\n",
      "[600]\ttraining's rmse: 1.64105\tvalid_1's rmse: 1.72023\n",
      "[700]\ttraining's rmse: 1.61028\tvalid_1's rmse: 1.70151\n",
      "[800]\ttraining's rmse: 1.59174\tvalid_1's rmse: 1.69188\n",
      "[900]\ttraining's rmse: 1.56635\tvalid_1's rmse: 1.67876\n",
      "[1000]\ttraining's rmse: 1.55075\tvalid_1's rmse: 1.67197\n",
      "[1100]\ttraining's rmse: 1.53254\tvalid_1's rmse: 1.66448\n",
      "[1200]\ttraining's rmse: 1.52293\tvalid_1's rmse: 1.66155\n",
      "[1300]\ttraining's rmse: 1.50914\tvalid_1's rmse: 1.65695\n",
      "[1400]\ttraining's rmse: 1.48974\tvalid_1's rmse: 1.64997\n",
      "[1500]\ttraining's rmse: 1.48269\tvalid_1's rmse: 1.64908\n",
      "Early stopping, best iteration is:\n",
      "[1463]\ttraining's rmse: 1.48182\tvalid_1's rmse: 1.64777\n",
      "Training until validation scores don't improve for 100 rounds.\n",
      "[100]\ttraining's rmse: 1.86624\tvalid_1's rmse: 1.94082\n",
      "[200]\ttraining's rmse: 1.808\tvalid_1's rmse: 1.89034\n",
      "[300]\ttraining's rmse: 1.74776\tvalid_1's rmse: 1.84026\n",
      "[400]\ttraining's rmse: 1.6968\tvalid_1's rmse: 1.80007\n",
      "[500]\ttraining's rmse: 1.65088\tvalid_1's rmse: 1.76588\n",
      "[600]\ttraining's rmse: 1.63443\tvalid_1's rmse: 1.75524\n",
      "[700]\ttraining's rmse: 1.60403\tvalid_1's rmse: 1.73528\n",
      "[800]\ttraining's rmse: 1.58592\tvalid_1's rmse: 1.7255\n",
      "[900]\ttraining's rmse: 1.56053\tvalid_1's rmse: 1.71119\n",
      "[1000]\ttraining's rmse: 1.545\tvalid_1's rmse: 1.70364\n",
      "[1100]\ttraining's rmse: 1.52702\tvalid_1's rmse: 1.69489\n",
      "[1200]\ttraining's rmse: 1.51746\tvalid_1's rmse: 1.69176\n",
      "[1300]\ttraining's rmse: 1.50385\tvalid_1's rmse: 1.68626\n",
      "[1400]\ttraining's rmse: 1.48465\tvalid_1's rmse: 1.67817\n",
      "[1500]\ttraining's rmse: 1.4777\tvalid_1's rmse: 1.67701\n",
      "[1600]\ttraining's rmse: 1.4626\tvalid_1's rmse: 1.67184\n",
      "[1700]\ttraining's rmse: 1.44723\tvalid_1's rmse: 1.667\n",
      "[1800]\ttraining's rmse: 1.43543\tvalid_1's rmse: 1.66408\n",
      "[1900]\ttraining's rmse: 1.42271\tvalid_1's rmse: 1.66122\n",
      "[2000]\ttraining's rmse: 1.41384\tvalid_1's rmse: 1.66002\n",
      "[2100]\ttraining's rmse: 1.39863\tvalid_1's rmse: 1.65602\n",
      "[2200]\ttraining's rmse: 1.38775\tvalid_1's rmse: 1.65412\n",
      "[2300]\ttraining's rmse: 1.3746\tvalid_1's rmse: 1.65158\n",
      "[2400]\ttraining's rmse: 1.36168\tvalid_1's rmse: 1.64952\n",
      "[2500]\ttraining's rmse: 1.35278\tvalid_1's rmse: 1.6489\n",
      "[2600]\ttraining's rmse: 1.34407\tvalid_1's rmse: 1.64842\n",
      "Early stopping, best iteration is:\n",
      "[2517]\ttraining's rmse: 1.34942\tvalid_1's rmse: 1.6483\n",
      "Training until validation scores don't improve for 100 rounds.\n",
      "[100]\ttraining's rmse: 1.877\tvalid_1's rmse: 1.89508\n",
      "[200]\ttraining's rmse: 1.81786\tvalid_1's rmse: 1.84582\n",
      "[300]\ttraining's rmse: 1.75729\tvalid_1's rmse: 1.79721\n",
      "[400]\ttraining's rmse: 1.70587\tvalid_1's rmse: 1.75842\n",
      "[500]\ttraining's rmse: 1.65939\tvalid_1's rmse: 1.72591\n",
      "[600]\ttraining's rmse: 1.64292\tvalid_1's rmse: 1.71632\n",
      "[700]\ttraining's rmse: 1.61237\tvalid_1's rmse: 1.69747\n",
      "[800]\ttraining's rmse: 1.59401\tvalid_1's rmse: 1.68804\n",
      "[900]\ttraining's rmse: 1.5685\tvalid_1's rmse: 1.6746\n",
      "[1000]\ttraining's rmse: 1.553\tvalid_1's rmse: 1.66752\n",
      "[1100]\ttraining's rmse: 1.53494\tvalid_1's rmse: 1.65951\n",
      "[1200]\ttraining's rmse: 1.52509\tvalid_1's rmse: 1.65591\n",
      "[1300]\ttraining's rmse: 1.51137\tvalid_1's rmse: 1.65068\n",
      "[1400]\ttraining's rmse: 1.49204\tvalid_1's rmse: 1.64312\n",
      "[1500]\ttraining's rmse: 1.48502\tvalid_1's rmse: 1.64198\n",
      "[1600]\ttraining's rmse: 1.47\tvalid_1's rmse: 1.63702\n",
      "[1700]\ttraining's rmse: 1.45454\tvalid_1's rmse: 1.6327\n",
      "[1800]\ttraining's rmse: 1.44263\tvalid_1's rmse: 1.63009\n",
      "[1900]\ttraining's rmse: 1.42984\tvalid_1's rmse: 1.62732\n",
      "[2000]\ttraining's rmse: 1.4208\tvalid_1's rmse: 1.62586\n",
      "[2100]\ttraining's rmse: 1.40562\tvalid_1's rmse: 1.62245\n",
      "[2200]\ttraining's rmse: 1.39485\tvalid_1's rmse: 1.62096\n",
      "[2300]\ttraining's rmse: 1.3817\tvalid_1's rmse: 1.61886\n",
      "[2400]\ttraining's rmse: 1.36869\tvalid_1's rmse: 1.61722\n",
      "[2500]\ttraining's rmse: 1.35984\tvalid_1's rmse: 1.61682\n",
      "[2600]\ttraining's rmse: 1.35127\tvalid_1's rmse: 1.61638\n",
      "[2700]\ttraining's rmse: 1.34205\tvalid_1's rmse: 1.61584\n",
      "[2800]\ttraining's rmse: 1.33872\tvalid_1's rmse: 1.61687\n",
      "Early stopping, best iteration is:\n",
      "[2702]\ttraining's rmse: 1.34137\tvalid_1's rmse: 1.61572\n"
     ]
    }
   ],
   "source": [
    "folds = KFold(n_splits=5, shuffle=True, random_state=15)\n",
    "oof = np.zeros(len(train_x))\n",
    "predictions = np.zeros(len(test_x))\n",
    "start = time.time()\n",
    "features = list(train_x.columns)\n",
    "feature_importance_df = pd.DataFrame()\n",
    "\n",
    "for fold_, (trn_idx, val_idx) in enumerate(folds.split(train_x.values, train_y.values)):\n",
    "    trn_data = lgb.Dataset(train_x.iloc[trn_idx].values, label=train_y.iloc[trn_idx].values)\n",
    "    val_data = lgb.Dataset(train_x.iloc[val_idx].values, label=train_y.iloc[val_idx].values)\n",
    "    \n",
    "    num_round = 10000\n",
    "    clf = lgb.train(param, trn_data, num_round, valid_sets = [trn_data, val_data], verbose_eval=100, early_stopping_rounds = 100)\n",
    "    oof[val_idx] = clf.predict(train_x.iloc[val_idx].values, num_iteration=clf.best_iteration)\n",
    "    \n",
    "    fold_importance_df = pd.DataFrame()\n",
    "    fold_importance_df[\"feature\"] = features\n",
    "    fold_importance_df[\"importance\"] = clf.feature_importance()\n",
    "    fold_importance_df[\"fold\"] = fold_ + 1\n",
    "    feature_importance_df = pd.concat([feature_importance_df, fold_importance_df], axis=0)\n",
    "    \n",
    "    predictions += clf.predict(test_x.values, num_iteration=clf.best_iteration) / folds.n_splits"
   ]
  },
  {
   "cell_type": "code",
   "execution_count": 45,
   "metadata": {
    "scrolled": true
   },
   "outputs": [
    {
     "name": "stdout",
     "output_type": "stream",
     "text": [
      "CV score: 1.63164 \n"
     ]
    }
   ],
   "source": [
    "print(\"CV score: {:<8.5f}\".format(mean_squared_error(oof, train_y)**0.5))"
   ]
  },
  {
   "cell_type": "code",
   "execution_count": 46,
   "metadata": {},
   "outputs": [],
   "source": [
    "# GBDT: CV score: 1.61400, \n",
    "# RF: CV score: 1.64722, \n",
    "# DART: CV score: 1.63164 "
   ]
  },
  {
   "cell_type": "code",
   "execution_count": 47,
   "metadata": {},
   "outputs": [
    {
     "name": "stderr",
     "output_type": "stream",
     "text": [
      "/Users/liaopeng3/anaconda3/lib/python3.6/site-packages/scipy/stats/stats.py:1713: FutureWarning: Using a non-tuple sequence for multidimensional indexing is deprecated; use `arr[tuple(seq)]` instead of `arr[seq]`. In the future this will be interpreted as an array index, `arr[np.array(seq)]`, which will result either in an error or a different result.\n",
      "  return np.add.reduce(sorted[indexer] * weights, axis=axis) / sumval\n"
     ]
    },
    {
     "data": {
      "image/png": "[encoded data removed]",
      "text/plain": [
       "<matplotlib.figure.Figure at 0x270afb898>"
      ]
     },
     "metadata": {},
     "output_type": "display_data"
    }
   ],
   "source": [
    "cols = feature_importance_df[[\"feature\", \"importance\"]].groupby(\"feature\").mean().sort_values(\n",
    "    by=\"importance\", ascending=False)[:1000].index\n",
    "\n",
    "best_features = feature_importance_df.loc[feature_importance_df.feature.isin(cols)]\n",
    "\n",
    "plt.figure(figsize=(14,10))\n",
    "sns.barplot(x=\"importance\", y=\"feature\", data=best_features.sort_values(by=\"importance\", ascending=False))\n",
    "plt.title('LightGBM Features (avg over folds)')\n",
    "plt.tight_layout()\n",
    "plt.savefig('lgbm_importances.png')"
   ]
  },
  {
   "cell_type": "code",
   "execution_count": 48,
   "metadata": {},
   "outputs": [],
   "source": [
    "submission = df_test_raw[['fullVisitorId']].copy()\n",
    "\n",
    "submission.loc[:, 'PredictedLogRevenue'] = predictions\n",
    "submission.loc[:, 'PredictedLogRevenue'] = np.expm1(predictions)\n",
    "grouped_test = submission[['fullVisitorId', 'PredictedLogRevenue']].groupby('fullVisitorId').sum().reset_index()\n",
    "grouped_test[\"PredictedLogRevenue\"] = np.log1p(grouped_test[\"PredictedLogRevenue\"])\n",
    "grouped_test[\"PredictedLogRevenue\"] =  grouped_test[\"PredictedLogRevenue\"].apply(lambda x : 0.0 if x < 0 else x)\n",
    "grouped_test['fullVisitorId']=grouped_test['fullVisitorId'].astype('str')\n",
    "grouped_test.to_csv('mySubmit1017_dart.csv',index=False)"
   ]
  },
  {
   "cell_type": "code",
   "execution_count": null,
   "metadata": {},
   "outputs": [],
   "source": []
  }
 ],
 "metadata": {
  "kernelspec": {
   "display_name": "Python 3",
   "language": "python",
   "name": "python3"
  },
  "language_info": {
   "codemirror_mode": {
    "name": "ipython",
    "version": 3
   },
   "file_extension": ".py",
   "mimetype": "text/x-python",
   "name": "python",
   "nbconvert_exporter": "python",
   "pygments_lexer": "ipython3",
   "version": "3.6.4"
  }
 },
 "nbformat": 4,
 "nbformat_minor": 2
}
