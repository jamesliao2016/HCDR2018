{
 "cells": [
  {
   "cell_type": "code",
   "execution_count": 86,
   "metadata": {},
   "outputs": [],
   "source": [
    "import pandas as pd\n",
    "import json\n",
    "import matplotlib.pyplot as plt\n",
    "import seaborn as sns\n",
    "from pandas.io.json import json_normalize\n",
    "import lightgbm as lgb\n",
    "from sklearn.model_selection import KFold\n",
    "import time\n",
    "from datetime import datetime\n",
    "import numpy as np\n",
    "from sklearn.ensemble import RandomForestRegressor\n",
    "from sklearn.datasets import make_regression\n",
    "from sklearn.metrics import mean_squared_error"
   ]
  },
  {
   "cell_type": "markdown",
   "metadata": {},
   "source": [
    "# Read The Training Data"
   ]
  },
  {
   "cell_type": "code",
   "execution_count": 87,
   "metadata": {},
   "outputs": [
    {
     "data": {
      "text/plain": [
       "((903653, 30), (804684, 30))"
      ]
     },
     "execution_count": 87,
     "metadata": {},
     "output_type": "execute_result"
    }
   ],
   "source": [
    "df_raw = pd.read_csv('/Users/liaopeng3/logs/google_analytics_all/extracted_fields_train.gz', \n",
    "                    dtype={'date': str, 'fullVisitorId': str, 'sessionId':str}, nrows=None)\n",
    "df_test_raw = pd.read_csv('/Users/liaopeng3/logs/google_analytics_all/extracted_fields_test.gz', \n",
    "                   dtype={'date': str, 'fullVisitorId': str, 'sessionId':str}, nrows=None)\n",
    "df_raw.shape, df_test_raw.shape"
   ]
  },
  {
   "cell_type": "markdown",
   "metadata": {},
   "source": [
    "# Read the Test Data"
   ]
  },
  {
   "cell_type": "code",
   "execution_count": 88,
   "metadata": {},
   "outputs": [],
   "source": [
    "df_train = df_raw.copy()"
   ]
  },
  {
   "cell_type": "code",
   "execution_count": 89,
   "metadata": {},
   "outputs": [
    {
     "data": {
      "text/plain": [
       "Index(['channelGrouping', 'date', 'fullVisitorId', 'sessionId', 'visitId',\n",
       "       'visitNumber', 'visitStartTime', 'device.browser',\n",
       "       'device.deviceCategory', 'device.isMobile', 'device.operatingSystem',\n",
       "       'geoNetwork.city', 'geoNetwork.continent', 'geoNetwork.country',\n",
       "       'geoNetwork.metro', 'geoNetwork.networkDomain', 'geoNetwork.region',\n",
       "       'geoNetwork.subContinent', 'totals.bounces', 'totals.hits',\n",
       "       'totals.newVisits', 'totals.pageviews', 'totals.transactionRevenue',\n",
       "       'trafficSource.adContent', 'trafficSource.campaign',\n",
       "       'trafficSource.isTrueDirect', 'trafficSource.keyword',\n",
       "       'trafficSource.medium', 'trafficSource.referralPath',\n",
       "       'trafficSource.source'],\n",
       "      dtype='object')"
      ]
     },
     "execution_count": 89,
     "metadata": {},
     "output_type": "execute_result"
    }
   ],
   "source": [
    "df_train.columns"
   ]
  },
  {
   "cell_type": "code",
   "execution_count": 90,
   "metadata": {},
   "outputs": [],
   "source": [
    "df_test_tmp = df_train.drop_duplicates('fullVisitorId')"
   ]
  },
  {
   "cell_type": "code",
   "execution_count": 91,
   "metadata": {},
   "outputs": [],
   "source": [
    "df_test_tmp_join = df_test_tmp.merge(df_test_raw,on='fullVisitorId',how='inner')"
   ]
  },
  {
   "cell_type": "code",
   "execution_count": 92,
   "metadata": {},
   "outputs": [
    {
     "data": {
      "text/plain": [
       "(20284, 59)"
      ]
     },
     "execution_count": 92,
     "metadata": {},
     "output_type": "execute_result"
    }
   ],
   "source": [
    "df_test_tmp_join.shape"
   ]
  },
  {
   "cell_type": "markdown",
   "metadata": {},
   "source": [
    "# EDA 1"
   ]
  },
  {
   "cell_type": "code",
   "execution_count": 93,
   "metadata": {},
   "outputs": [],
   "source": [
    "# df_train.loc[df_train['fullVisitorId']=='1957458976293878100'].to_csv('sample_1957458976293878100.csv',index=False)"
   ]
  },
  {
   "cell_type": "code",
   "execution_count": 94,
   "metadata": {},
   "outputs": [
    {
     "data": {
      "text/plain": [
       "1957458976293878100    278\n",
       "0824839726118485274    255\n",
       "3608475193341679870    201\n",
       "1856749147915772585    199\n",
       "3269834865385146569    155\n",
       "Name: fullVisitorId, dtype: int64"
      ]
     },
     "execution_count": 94,
     "metadata": {},
     "output_type": "execute_result"
    }
   ],
   "source": [
    "# df_train.groupby('fullVisitorId').count().sort_values('channelGrouping',ascending=False).head(10)\n",
    "df_train.fullVisitorId.value_counts().head()"
   ]
  },
  {
   "cell_type": "code",
   "execution_count": 95,
   "metadata": {},
   "outputs": [],
   "source": [
    "df_tmp_customer = df_train[df_train.fullVisitorId=='1957458976293878100']"
   ]
  },
  {
   "cell_type": "code",
   "execution_count": 96,
   "metadata": {},
   "outputs": [
    {
     "data": {
      "text/html": [
       "<div>\n",
       "<style scoped>\n",
       "    .dataframe tbody tr th:only-of-type {\n",
       "        vertical-align: middle;\n",
       "    }\n",
       "\n",
       "    .dataframe tbody tr th {\n",
       "        vertical-align: top;\n",
       "    }\n",
       "\n",
       "    .dataframe thead th {\n",
       "        text-align: right;\n",
       "    }\n",
       "</style>\n",
       "<table border=\"1\" class=\"dataframe\">\n",
       "  <thead>\n",
       "    <tr style=\"text-align: right;\">\n",
       "      <th></th>\n",
       "      <th>channelGrouping</th>\n",
       "      <th>date</th>\n",
       "      <th>fullVisitorId</th>\n",
       "      <th>sessionId</th>\n",
       "      <th>visitId</th>\n",
       "      <th>visitNumber</th>\n",
       "      <th>visitStartTime</th>\n",
       "      <th>device.browser</th>\n",
       "      <th>device.deviceCategory</th>\n",
       "      <th>device.isMobile</th>\n",
       "      <th>...</th>\n",
       "      <th>totals.newVisits</th>\n",
       "      <th>totals.pageviews</th>\n",
       "      <th>totals.transactionRevenue</th>\n",
       "      <th>trafficSource.adContent</th>\n",
       "      <th>trafficSource.campaign</th>\n",
       "      <th>trafficSource.isTrueDirect</th>\n",
       "      <th>trafficSource.keyword</th>\n",
       "      <th>trafficSource.medium</th>\n",
       "      <th>trafficSource.referralPath</th>\n",
       "      <th>trafficSource.source</th>\n",
       "    </tr>\n",
       "  </thead>\n",
       "  <tbody>\n",
       "    <tr>\n",
       "      <th>921</th>\n",
       "      <td>Organic Search</td>\n",
       "      <td>20160902</td>\n",
       "      <td>1957458976293878100</td>\n",
       "      <td>1957458976293878100_1472841771</td>\n",
       "      <td>1.472842e+09</td>\n",
       "      <td>85.0</td>\n",
       "      <td>1.472842e+09</td>\n",
       "      <td>Firefox</td>\n",
       "      <td>desktop</td>\n",
       "      <td>0.0</td>\n",
       "      <td>...</td>\n",
       "      <td>NaN</td>\n",
       "      <td>16.0</td>\n",
       "      <td>NaN</td>\n",
       "      <td>NaN</td>\n",
       "      <td>(not set)</td>\n",
       "      <td>1.0</td>\n",
       "      <td>(not provided)</td>\n",
       "      <td>organic</td>\n",
       "      <td>NaN</td>\n",
       "      <td>google</td>\n",
       "    </tr>\n",
       "    <tr>\n",
       "      <th>1645</th>\n",
       "      <td>Organic Search</td>\n",
       "      <td>20160902</td>\n",
       "      <td>1957458976293878100</td>\n",
       "      <td>1957458976293878100_1472821703</td>\n",
       "      <td>1.472822e+09</td>\n",
       "      <td>83.0</td>\n",
       "      <td>1.472822e+09</td>\n",
       "      <td>Firefox</td>\n",
       "      <td>desktop</td>\n",
       "      <td>0.0</td>\n",
       "      <td>...</td>\n",
       "      <td>NaN</td>\n",
       "      <td>3.0</td>\n",
       "      <td>NaN</td>\n",
       "      <td>NaN</td>\n",
       "      <td>(not set)</td>\n",
       "      <td>1.0</td>\n",
       "      <td>(not provided)</td>\n",
       "      <td>organic</td>\n",
       "      <td>NaN</td>\n",
       "      <td>google</td>\n",
       "    </tr>\n",
       "    <tr>\n",
       "      <th>1666</th>\n",
       "      <td>Organic Search</td>\n",
       "      <td>20160902</td>\n",
       "      <td>1957458976293878100</td>\n",
       "      <td>1957458976293878100_1472823804</td>\n",
       "      <td>1.472824e+09</td>\n",
       "      <td>84.0</td>\n",
       "      <td>1.472824e+09</td>\n",
       "      <td>Firefox</td>\n",
       "      <td>desktop</td>\n",
       "      <td>0.0</td>\n",
       "      <td>...</td>\n",
       "      <td>NaN</td>\n",
       "      <td>5.0</td>\n",
       "      <td>NaN</td>\n",
       "      <td>NaN</td>\n",
       "      <td>(not set)</td>\n",
       "      <td>1.0</td>\n",
       "      <td>(not provided)</td>\n",
       "      <td>organic</td>\n",
       "      <td>NaN</td>\n",
       "      <td>google</td>\n",
       "    </tr>\n",
       "    <tr>\n",
       "      <th>4366</th>\n",
       "      <td>Organic Search</td>\n",
       "      <td>20170126</td>\n",
       "      <td>1957458976293878100</td>\n",
       "      <td>1957458976293878100_1485444781</td>\n",
       "      <td>1.485445e+09</td>\n",
       "      <td>178.0</td>\n",
       "      <td>1.485445e+09</td>\n",
       "      <td>Firefox</td>\n",
       "      <td>desktop</td>\n",
       "      <td>0.0</td>\n",
       "      <td>...</td>\n",
       "      <td>NaN</td>\n",
       "      <td>3.0</td>\n",
       "      <td>NaN</td>\n",
       "      <td>NaN</td>\n",
       "      <td>(not set)</td>\n",
       "      <td>1.0</td>\n",
       "      <td>(not provided)</td>\n",
       "      <td>organic</td>\n",
       "      <td>NaN</td>\n",
       "      <td>google</td>\n",
       "    </tr>\n",
       "    <tr>\n",
       "      <th>6602</th>\n",
       "      <td>Display</td>\n",
       "      <td>20170623</td>\n",
       "      <td>1957458976293878100</td>\n",
       "      <td>1957458976293878100_1498248064</td>\n",
       "      <td>1.498248e+09</td>\n",
       "      <td>309.0</td>\n",
       "      <td>1.498248e+09</td>\n",
       "      <td>Firefox</td>\n",
       "      <td>desktop</td>\n",
       "      <td>0.0</td>\n",
       "      <td>...</td>\n",
       "      <td>NaN</td>\n",
       "      <td>11.0</td>\n",
       "      <td>NaN</td>\n",
       "      <td>NaN</td>\n",
       "      <td>(not set)</td>\n",
       "      <td>1.0</td>\n",
       "      <td>NaN</td>\n",
       "      <td>cpm</td>\n",
       "      <td>NaN</td>\n",
       "      <td>dfa</td>\n",
       "    </tr>\n",
       "  </tbody>\n",
       "</table>\n",
       "<p>5 rows × 30 columns</p>\n",
       "</div>"
      ],
      "text/plain": [
       "     channelGrouping      date        fullVisitorId  \\\n",
       "921   Organic Search  20160902  1957458976293878100   \n",
       "1645  Organic Search  20160902  1957458976293878100   \n",
       "1666  Organic Search  20160902  1957458976293878100   \n",
       "4366  Organic Search  20170126  1957458976293878100   \n",
       "6602         Display  20170623  1957458976293878100   \n",
       "\n",
       "                           sessionId       visitId  visitNumber  \\\n",
       "921   1957458976293878100_1472841771  1.472842e+09         85.0   \n",
       "1645  1957458976293878100_1472821703  1.472822e+09         83.0   \n",
       "1666  1957458976293878100_1472823804  1.472824e+09         84.0   \n",
       "4366  1957458976293878100_1485444781  1.485445e+09        178.0   \n",
       "6602  1957458976293878100_1498248064  1.498248e+09        309.0   \n",
       "\n",
       "      visitStartTime device.browser device.deviceCategory  device.isMobile  \\\n",
       "921     1.472842e+09        Firefox               desktop              0.0   \n",
       "1645    1.472822e+09        Firefox               desktop              0.0   \n",
       "1666    1.472824e+09        Firefox               desktop              0.0   \n",
       "4366    1.485445e+09        Firefox               desktop              0.0   \n",
       "6602    1.498248e+09        Firefox               desktop              0.0   \n",
       "\n",
       "              ...          totals.newVisits totals.pageviews  \\\n",
       "921           ...                       NaN             16.0   \n",
       "1645          ...                       NaN              3.0   \n",
       "1666          ...                       NaN              5.0   \n",
       "4366          ...                       NaN              3.0   \n",
       "6602          ...                       NaN             11.0   \n",
       "\n",
       "     totals.transactionRevenue trafficSource.adContent trafficSource.campaign  \\\n",
       "921                        NaN                     NaN              (not set)   \n",
       "1645                       NaN                     NaN              (not set)   \n",
       "1666                       NaN                     NaN              (not set)   \n",
       "4366                       NaN                     NaN              (not set)   \n",
       "6602                       NaN                     NaN              (not set)   \n",
       "\n",
       "     trafficSource.isTrueDirect trafficSource.keyword trafficSource.medium  \\\n",
       "921                         1.0        (not provided)              organic   \n",
       "1645                        1.0        (not provided)              organic   \n",
       "1666                        1.0        (not provided)              organic   \n",
       "4366                        1.0        (not provided)              organic   \n",
       "6602                        1.0                   NaN                  cpm   \n",
       "\n",
       "      trafficSource.referralPath  trafficSource.source  \n",
       "921                          NaN                google  \n",
       "1645                         NaN                google  \n",
       "1666                         NaN                google  \n",
       "4366                         NaN                google  \n",
       "6602                         NaN                   dfa  \n",
       "\n",
       "[5 rows x 30 columns]"
      ]
     },
     "execution_count": 96,
     "metadata": {},
     "output_type": "execute_result"
    }
   ],
   "source": [
    "df_tmp_customer.head()"
   ]
  },
  {
   "cell_type": "code",
   "execution_count": 97,
   "metadata": {},
   "outputs": [
    {
     "name": "stderr",
     "output_type": "stream",
     "text": [
      "/Users/liaopeng3/anaconda3/lib/python3.6/site-packages/ipykernel_launcher.py:1: SettingWithCopyWarning: \n",
      "A value is trying to be set on a copy of a slice from a DataFrame.\n",
      "Try using .loc[row_indexer,col_indexer] = value instead\n",
      "\n",
      "See the caveats in the documentation: http://pandas.pydata.org/pandas-docs/stable/indexing.html#indexing-view-versus-copy\n",
      "  \"\"\"Entry point for launching an IPython kernel.\n"
     ]
    }
   ],
   "source": [
    "df_tmp_customer['date']=df_tmp_customer['date'].apply(lambda x: datetime.strptime(str(x),'%Y%m%d') )"
   ]
  },
  {
   "cell_type": "code",
   "execution_count": 98,
   "metadata": {},
   "outputs": [
    {
     "data": {
      "text/html": [
       "<div>\n",
       "<style scoped>\n",
       "    .dataframe tbody tr th:only-of-type {\n",
       "        vertical-align: middle;\n",
       "    }\n",
       "\n",
       "    .dataframe tbody tr th {\n",
       "        vertical-align: top;\n",
       "    }\n",
       "\n",
       "    .dataframe thead th {\n",
       "        text-align: right;\n",
       "    }\n",
       "</style>\n",
       "<table border=\"1\" class=\"dataframe\">\n",
       "  <thead>\n",
       "    <tr style=\"text-align: right;\">\n",
       "      <th></th>\n",
       "      <th>sum</th>\n",
       "    </tr>\n",
       "    <tr>\n",
       "      <th>date</th>\n",
       "      <th></th>\n",
       "    </tr>\n",
       "  </thead>\n",
       "  <tbody>\n",
       "    <tr>\n",
       "      <th>2016-08-04</th>\n",
       "      <td>4.0</td>\n",
       "    </tr>\n",
       "    <tr>\n",
       "      <th>2016-08-05</th>\n",
       "      <td>2.0</td>\n",
       "    </tr>\n",
       "    <tr>\n",
       "      <th>2016-08-06</th>\n",
       "      <td>0.0</td>\n",
       "    </tr>\n",
       "    <tr>\n",
       "      <th>2016-08-07</th>\n",
       "      <td>0.0</td>\n",
       "    </tr>\n",
       "    <tr>\n",
       "      <th>2016-08-08</th>\n",
       "      <td>0.0</td>\n",
       "    </tr>\n",
       "  </tbody>\n",
       "</table>\n",
       "</div>"
      ],
      "text/plain": [
       "            sum\n",
       "date           \n",
       "2016-08-04  4.0\n",
       "2016-08-05  2.0\n",
       "2016-08-06  0.0\n",
       "2016-08-07  0.0\n",
       "2016-08-08  0.0"
      ]
     },
     "execution_count": 98,
     "metadata": {},
     "output_type": "execute_result"
    }
   ],
   "source": [
    "cnt_srs.head()"
   ]
  },
  {
   "cell_type": "code",
   "execution_count": 99,
   "metadata": {},
   "outputs": [],
   "source": [
    "# cnt_srs['sum'].value_counts()"
   ]
  },
  {
   "cell_type": "code",
   "execution_count": 100,
   "metadata": {},
   "outputs": [
    {
     "data": {
      "text/plain": [
       "(Timestamp('2017-08-01 00:00:00'), Timestamp('2016-08-04 00:00:00'))"
      ]
     },
     "execution_count": 100,
     "metadata": {},
     "output_type": "execute_result"
    }
   ],
   "source": [
    "df_tmp_customer['date'].max(),df_tmp_customer['date'].min()"
   ]
  },
  {
   "cell_type": "code",
   "execution_count": 101,
   "metadata": {},
   "outputs": [
    {
     "data": {
      "text/plain": [
       "145"
      ]
     },
     "execution_count": 101,
     "metadata": {},
     "output_type": "execute_result"
    }
   ],
   "source": [
    "df_tmp_customer.date.nunique()"
   ]
  },
  {
   "cell_type": "code",
   "execution_count": 102,
   "metadata": {},
   "outputs": [
    {
     "data": {
      "text/plain": [
       "(278, 30)"
      ]
     },
     "execution_count": 102,
     "metadata": {},
     "output_type": "execute_result"
    }
   ],
   "source": [
    "df_tmp_customer.shape"
   ]
  },
  {
   "cell_type": "code",
   "execution_count": 57,
   "metadata": {},
   "outputs": [],
   "source": [
    "tmp_dt_range= pd.DataFrame({'date':pd.date_range(start='2016-08-04 00:00:00', end='2017-08-01 00:00:00')}) "
   ]
  },
  {
   "cell_type": "code",
   "execution_count": 58,
   "metadata": {},
   "outputs": [],
   "source": [
    "df_tmp_customer = tmp_dt_range.merge(df_tmp_customer,on='date',how='left')"
   ]
  },
  {
   "cell_type": "code",
   "execution_count": 59,
   "metadata": {},
   "outputs": [
    {
     "data": {
      "text/plain": [
       "363"
      ]
     },
     "execution_count": 59,
     "metadata": {},
     "output_type": "execute_result"
    }
   ],
   "source": [
    "df_tmp_customer.date.nunique()"
   ]
  },
  {
   "cell_type": "code",
   "execution_count": 60,
   "metadata": {},
   "outputs": [
    {
     "data": {
      "text/html": [
       "<div>\n",
       "<style scoped>\n",
       "    .dataframe tbody tr th:only-of-type {\n",
       "        vertical-align: middle;\n",
       "    }\n",
       "\n",
       "    .dataframe tbody tr th {\n",
       "        vertical-align: top;\n",
       "    }\n",
       "\n",
       "    .dataframe thead th {\n",
       "        text-align: right;\n",
       "    }\n",
       "</style>\n",
       "<table border=\"1\" class=\"dataframe\">\n",
       "  <thead>\n",
       "    <tr style=\"text-align: right;\">\n",
       "      <th></th>\n",
       "      <th>date</th>\n",
       "      <th>channelGrouping</th>\n",
       "      <th>fullVisitorId</th>\n",
       "      <th>sessionId</th>\n",
       "      <th>visitId</th>\n",
       "      <th>visitNumber</th>\n",
       "      <th>visitStartTime</th>\n",
       "      <th>device.browser</th>\n",
       "      <th>device.deviceCategory</th>\n",
       "      <th>device.isMobile</th>\n",
       "      <th>...</th>\n",
       "      <th>totals.newVisits</th>\n",
       "      <th>totals.pageviews</th>\n",
       "      <th>totals.transactionRevenue</th>\n",
       "      <th>trafficSource.adContent</th>\n",
       "      <th>trafficSource.campaign</th>\n",
       "      <th>trafficSource.isTrueDirect</th>\n",
       "      <th>trafficSource.keyword</th>\n",
       "      <th>trafficSource.medium</th>\n",
       "      <th>trafficSource.referralPath</th>\n",
       "      <th>trafficSource.source</th>\n",
       "    </tr>\n",
       "  </thead>\n",
       "  <tbody>\n",
       "    <tr>\n",
       "      <th>0</th>\n",
       "      <td>2016-08-04</td>\n",
       "      <td>Organic Search</td>\n",
       "      <td>1957458976293878100</td>\n",
       "      <td>1957458976293878100_1470328437</td>\n",
       "      <td>1.470328e+09</td>\n",
       "      <td>38.0</td>\n",
       "      <td>1.470328e+09</td>\n",
       "      <td>Firefox</td>\n",
       "      <td>desktop</td>\n",
       "      <td>0.0</td>\n",
       "      <td>...</td>\n",
       "      <td>NaN</td>\n",
       "      <td>4.0</td>\n",
       "      <td>NaN</td>\n",
       "      <td>NaN</td>\n",
       "      <td>(not set)</td>\n",
       "      <td>NaN</td>\n",
       "      <td>(not provided)</td>\n",
       "      <td>organic</td>\n",
       "      <td>NaN</td>\n",
       "      <td>google</td>\n",
       "    </tr>\n",
       "    <tr>\n",
       "      <th>1</th>\n",
       "      <td>2016-08-05</td>\n",
       "      <td>Organic Search</td>\n",
       "      <td>1957458976293878100</td>\n",
       "      <td>1957458976293878100_1470419668</td>\n",
       "      <td>1.470420e+09</td>\n",
       "      <td>39.0</td>\n",
       "      <td>1.470420e+09</td>\n",
       "      <td>Firefox</td>\n",
       "      <td>desktop</td>\n",
       "      <td>0.0</td>\n",
       "      <td>...</td>\n",
       "      <td>NaN</td>\n",
       "      <td>2.0</td>\n",
       "      <td>NaN</td>\n",
       "      <td>NaN</td>\n",
       "      <td>(not set)</td>\n",
       "      <td>1.0</td>\n",
       "      <td>(not provided)</td>\n",
       "      <td>organic</td>\n",
       "      <td>NaN</td>\n",
       "      <td>google</td>\n",
       "    </tr>\n",
       "    <tr>\n",
       "      <th>2</th>\n",
       "      <td>2016-08-06</td>\n",
       "      <td>NaN</td>\n",
       "      <td>NaN</td>\n",
       "      <td>NaN</td>\n",
       "      <td>NaN</td>\n",
       "      <td>NaN</td>\n",
       "      <td>NaN</td>\n",
       "      <td>NaN</td>\n",
       "      <td>NaN</td>\n",
       "      <td>NaN</td>\n",
       "      <td>...</td>\n",
       "      <td>NaN</td>\n",
       "      <td>NaN</td>\n",
       "      <td>NaN</td>\n",
       "      <td>NaN</td>\n",
       "      <td>NaN</td>\n",
       "      <td>NaN</td>\n",
       "      <td>NaN</td>\n",
       "      <td>NaN</td>\n",
       "      <td>NaN</td>\n",
       "      <td>NaN</td>\n",
       "    </tr>\n",
       "    <tr>\n",
       "      <th>3</th>\n",
       "      <td>2016-08-07</td>\n",
       "      <td>NaN</td>\n",
       "      <td>NaN</td>\n",
       "      <td>NaN</td>\n",
       "      <td>NaN</td>\n",
       "      <td>NaN</td>\n",
       "      <td>NaN</td>\n",
       "      <td>NaN</td>\n",
       "      <td>NaN</td>\n",
       "      <td>NaN</td>\n",
       "      <td>...</td>\n",
       "      <td>NaN</td>\n",
       "      <td>NaN</td>\n",
       "      <td>NaN</td>\n",
       "      <td>NaN</td>\n",
       "      <td>NaN</td>\n",
       "      <td>NaN</td>\n",
       "      <td>NaN</td>\n",
       "      <td>NaN</td>\n",
       "      <td>NaN</td>\n",
       "      <td>NaN</td>\n",
       "    </tr>\n",
       "    <tr>\n",
       "      <th>4</th>\n",
       "      <td>2016-08-08</td>\n",
       "      <td>NaN</td>\n",
       "      <td>NaN</td>\n",
       "      <td>NaN</td>\n",
       "      <td>NaN</td>\n",
       "      <td>NaN</td>\n",
       "      <td>NaN</td>\n",
       "      <td>NaN</td>\n",
       "      <td>NaN</td>\n",
       "      <td>NaN</td>\n",
       "      <td>...</td>\n",
       "      <td>NaN</td>\n",
       "      <td>NaN</td>\n",
       "      <td>NaN</td>\n",
       "      <td>NaN</td>\n",
       "      <td>NaN</td>\n",
       "      <td>NaN</td>\n",
       "      <td>NaN</td>\n",
       "      <td>NaN</td>\n",
       "      <td>NaN</td>\n",
       "      <td>NaN</td>\n",
       "    </tr>\n",
       "  </tbody>\n",
       "</table>\n",
       "<p>5 rows × 30 columns</p>\n",
       "</div>"
      ],
      "text/plain": [
       "        date channelGrouping        fullVisitorId  \\\n",
       "0 2016-08-04  Organic Search  1957458976293878100   \n",
       "1 2016-08-05  Organic Search  1957458976293878100   \n",
       "2 2016-08-06             NaN                  NaN   \n",
       "3 2016-08-07             NaN                  NaN   \n",
       "4 2016-08-08             NaN                  NaN   \n",
       "\n",
       "                        sessionId       visitId  visitNumber  visitStartTime  \\\n",
       "0  1957458976293878100_1470328437  1.470328e+09         38.0    1.470328e+09   \n",
       "1  1957458976293878100_1470419668  1.470420e+09         39.0    1.470420e+09   \n",
       "2                             NaN           NaN          NaN             NaN   \n",
       "3                             NaN           NaN          NaN             NaN   \n",
       "4                             NaN           NaN          NaN             NaN   \n",
       "\n",
       "  device.browser device.deviceCategory  device.isMobile          ...           \\\n",
       "0        Firefox               desktop              0.0          ...            \n",
       "1        Firefox               desktop              0.0          ...            \n",
       "2            NaN                   NaN              NaN          ...            \n",
       "3            NaN                   NaN              NaN          ...            \n",
       "4            NaN                   NaN              NaN          ...            \n",
       "\n",
       "  totals.newVisits totals.pageviews totals.transactionRevenue  \\\n",
       "0              NaN              4.0                       NaN   \n",
       "1              NaN              2.0                       NaN   \n",
       "2              NaN              NaN                       NaN   \n",
       "3              NaN              NaN                       NaN   \n",
       "4              NaN              NaN                       NaN   \n",
       "\n",
       "  trafficSource.adContent trafficSource.campaign trafficSource.isTrueDirect  \\\n",
       "0                     NaN              (not set)                        NaN   \n",
       "1                     NaN              (not set)                        1.0   \n",
       "2                     NaN                    NaN                        NaN   \n",
       "3                     NaN                    NaN                        NaN   \n",
       "4                     NaN                    NaN                        NaN   \n",
       "\n",
       "  trafficSource.keyword trafficSource.medium  trafficSource.referralPath  \\\n",
       "0        (not provided)              organic                         NaN   \n",
       "1        (not provided)              organic                         NaN   \n",
       "2                   NaN                  NaN                         NaN   \n",
       "3                   NaN                  NaN                         NaN   \n",
       "4                   NaN                  NaN                         NaN   \n",
       "\n",
       "   trafficSource.source  \n",
       "0                google  \n",
       "1                google  \n",
       "2                   NaN  \n",
       "3                   NaN  \n",
       "4                   NaN  \n",
       "\n",
       "[5 rows x 30 columns]"
      ]
     },
     "execution_count": 60,
     "metadata": {},
     "output_type": "execute_result"
    }
   ],
   "source": [
    "df_tmp_customer.head()"
   ]
  },
  {
   "cell_type": "code",
   "execution_count": 66,
   "metadata": {},
   "outputs": [
    {
     "data": {
      "text/plain": [
       "0"
      ]
     },
     "execution_count": 66,
     "metadata": {},
     "output_type": "execute_result"
    }
   ],
   "source": [
    "df_tmp_customer['totals.pageviews'].isnull().sum()"
   ]
  },
  {
   "cell_type": "code",
   "execution_count": 65,
   "metadata": {},
   "outputs": [],
   "source": [
    "df_tmp_customer['totals.pageviews'].fillna(0,inplace=True)"
   ]
  },
  {
   "cell_type": "code",
   "execution_count": 84,
   "metadata": {},
   "outputs": [
    {
     "data": {
      "text/plain": [
       "[<matplotlib.lines.Line2D at 0x12735dcf8>]"
      ]
     },
     "execution_count": 84,
     "metadata": {},
     "output_type": "execute_result"
    },
    {
     "data": {
      "image/png": "[encoded data removed]",
      "text/plain": [
       "<matplotlib.figure.Figure at 0x1272f6f60>"
      ]
     },
     "metadata": {},
     "output_type": "display_data"
    }
   ],
   "source": [
    "cnt_srs = df_tmp_customer.groupby('date')['totals.pageviews'].agg(['sum'])\n",
    "cnt_srs = cnt_srs.sort_index()\n",
    "\n",
    "plt.plot(cnt_srs.index, cnt_srs['sum'])"
   ]
  },
  {
   "cell_type": "markdown",
   "metadata": {},
   "source": [
    "# Concatenate the Training and Test Dat"
   ]
  },
  {
   "cell_type": "code",
   "execution_count": 9,
   "metadata": {},
   "outputs": [
    {
     "data": {
      "text/plain": [
       "Index([], dtype='object')"
      ]
     },
     "execution_count": 9,
     "metadata": {},
     "output_type": "execute_result"
    }
   ],
   "source": [
    "df_train.columns.difference(df_test_raw.columns)"
   ]
  },
  {
   "cell_type": "code",
   "execution_count": 10,
   "metadata": {},
   "outputs": [
    {
     "data": {
      "text/plain": [
       "Index([], dtype='object')"
      ]
     },
     "execution_count": 10,
     "metadata": {},
     "output_type": "execute_result"
    }
   ],
   "source": [
    "df_test_raw.columns.difference(df_train.columns)"
   ]
  },
  {
   "cell_type": "code",
   "execution_count": 24,
   "metadata": {},
   "outputs": [
    {
     "name": "stderr",
     "output_type": "stream",
     "text": [
      "/Users/liaopeng3/anaconda3/lib/python3.6/site-packages/ipykernel_launcher.py:1: FutureWarning: Sorting because non-concatenation axis is not aligned. A future version\n",
      "of pandas will change to not sort by default.\n",
      "\n",
      "To accept the future behavior, pass 'sort=False'.\n",
      "\n",
      "To retain the current behavior and silence the warning, pass 'sort=True'.\n",
      "\n",
      "  \"\"\"Entry point for launching an IPython kernel.\n"
     ]
    }
   ],
   "source": [
    "df3 = pd.concat([df_train.drop(['totals.transactionRevenue'],axis=1),df_test_raw],ignore_index=True) "
   ]
  },
  {
   "cell_type": "code",
   "execution_count": 25,
   "metadata": {},
   "outputs": [
    {
     "data": {
      "text/plain": [
       "(903653, 30)"
      ]
     },
     "execution_count": 25,
     "metadata": {},
     "output_type": "execute_result"
    }
   ],
   "source": [
    "df_train.shape"
   ]
  },
  {
   "cell_type": "code",
   "execution_count": 26,
   "metadata": {},
   "outputs": [],
   "source": [
    "len_df_train = df_train.shape[0]"
   ]
  },
  {
   "cell_type": "markdown",
   "metadata": {},
   "source": [
    "# Split Feature and Label Data"
   ]
  },
  {
   "cell_type": "code",
   "execution_count": 27,
   "metadata": {},
   "outputs": [],
   "source": [
    "train_y = df_train['totals.transactionRevenue'].fillna(0).astype(float).apply(lambda x: np.log1p(x))"
   ]
  },
  {
   "cell_type": "markdown",
   "metadata": {},
   "source": [
    "# Add Visit Time"
   ]
  },
  {
   "cell_type": "code",
   "execution_count": 28,
   "metadata": {},
   "outputs": [],
   "source": [
    "df3['diff_visitId_time'] = df3['visitId'] - df3['visitStartTime']\n",
    "df3['diff_visitId_time'] = (df3['diff_visitId_time'] != 0).astype(int)"
   ]
  },
  {
   "cell_type": "markdown",
   "metadata": {},
   "source": [
    "# Format the Numerous Variables"
   ]
  },
  {
   "cell_type": "code",
   "execution_count": 29,
   "metadata": {},
   "outputs": [],
   "source": [
    "list_v = ['totals.hits','totals.pageviews']"
   ]
  },
  {
   "cell_type": "code",
   "execution_count": 30,
   "metadata": {},
   "outputs": [],
   "source": [
    "for cols in list_v:\n",
    "    df3[cols]=df3[cols].astype(float)"
   ]
  },
  {
   "cell_type": "markdown",
   "metadata": {},
   "source": [
    "##  Drop the Constant Columns"
   ]
  },
  {
   "cell_type": "code",
   "execution_count": 31,
   "metadata": {
    "scrolled": true
   },
   "outputs": [],
   "source": [
    "cols_drop = []\n",
    "for cols in df3.columns:\n",
    "    if df3[cols].nunique()==1:\n",
    "#         print(cols)\n",
    "        cols_drop.append(cols)\n",
    "        \n",
    "df3 = df3.drop(cols_drop,axis=1)"
   ]
  },
  {
   "cell_type": "markdown",
   "metadata": {},
   "source": [
    "# Convert Date to Numeric Variables"
   ]
  },
  {
   "cell_type": "code",
   "execution_count": 32,
   "metadata": {},
   "outputs": [
    {
     "data": {
      "text/html": [
       "<div>\n",
       "<style scoped>\n",
       "    .dataframe tbody tr th:only-of-type {\n",
       "        vertical-align: middle;\n",
       "    }\n",
       "\n",
       "    .dataframe tbody tr th {\n",
       "        vertical-align: top;\n",
       "    }\n",
       "\n",
       "    .dataframe thead th {\n",
       "        text-align: right;\n",
       "    }\n",
       "</style>\n",
       "<table border=\"1\" class=\"dataframe\">\n",
       "  <thead>\n",
       "    <tr style=\"text-align: right;\">\n",
       "      <th></th>\n",
       "      <th>channelGrouping</th>\n",
       "      <th>date</th>\n",
       "      <th>device.browser</th>\n",
       "      <th>device.deviceCategory</th>\n",
       "      <th>device.isMobile</th>\n",
       "      <th>device.operatingSystem</th>\n",
       "      <th>fullVisitorId</th>\n",
       "      <th>geoNetwork.city</th>\n",
       "      <th>geoNetwork.continent</th>\n",
       "      <th>geoNetwork.country</th>\n",
       "      <th>...</th>\n",
       "      <th>trafficSource.adContent</th>\n",
       "      <th>trafficSource.campaign</th>\n",
       "      <th>trafficSource.keyword</th>\n",
       "      <th>trafficSource.medium</th>\n",
       "      <th>trafficSource.referralPath</th>\n",
       "      <th>trafficSource.source</th>\n",
       "      <th>visitId</th>\n",
       "      <th>visitNumber</th>\n",
       "      <th>visitStartTime</th>\n",
       "      <th>diff_visitId_time</th>\n",
       "    </tr>\n",
       "  </thead>\n",
       "  <tbody>\n",
       "    <tr>\n",
       "      <th>0</th>\n",
       "      <td>Organic Search</td>\n",
       "      <td>20160902</td>\n",
       "      <td>Chrome</td>\n",
       "      <td>desktop</td>\n",
       "      <td>0.0</td>\n",
       "      <td>Windows</td>\n",
       "      <td>1131660440785968503</td>\n",
       "      <td>Izmir</td>\n",
       "      <td>Asia</td>\n",
       "      <td>Turkey</td>\n",
       "      <td>...</td>\n",
       "      <td>NaN</td>\n",
       "      <td>(not set)</td>\n",
       "      <td>(not provided)</td>\n",
       "      <td>organic</td>\n",
       "      <td>NaN</td>\n",
       "      <td>google</td>\n",
       "      <td>1.472830e+09</td>\n",
       "      <td>1.0</td>\n",
       "      <td>1.472830e+09</td>\n",
       "      <td>0</td>\n",
       "    </tr>\n",
       "    <tr>\n",
       "      <th>1</th>\n",
       "      <td>Organic Search</td>\n",
       "      <td>20160902</td>\n",
       "      <td>Firefox</td>\n",
       "      <td>desktop</td>\n",
       "      <td>0.0</td>\n",
       "      <td>Macintosh</td>\n",
       "      <td>377306020877927890</td>\n",
       "      <td>not available in demo dataset</td>\n",
       "      <td>Oceania</td>\n",
       "      <td>Australia</td>\n",
       "      <td>...</td>\n",
       "      <td>NaN</td>\n",
       "      <td>(not set)</td>\n",
       "      <td>(not provided)</td>\n",
       "      <td>organic</td>\n",
       "      <td>NaN</td>\n",
       "      <td>google</td>\n",
       "      <td>1.472880e+09</td>\n",
       "      <td>1.0</td>\n",
       "      <td>1.472880e+09</td>\n",
       "      <td>0</td>\n",
       "    </tr>\n",
       "    <tr>\n",
       "      <th>2</th>\n",
       "      <td>Organic Search</td>\n",
       "      <td>20160902</td>\n",
       "      <td>Chrome</td>\n",
       "      <td>desktop</td>\n",
       "      <td>0.0</td>\n",
       "      <td>Windows</td>\n",
       "      <td>3895546263509774583</td>\n",
       "      <td>Madrid</td>\n",
       "      <td>Europe</td>\n",
       "      <td>Spain</td>\n",
       "      <td>...</td>\n",
       "      <td>NaN</td>\n",
       "      <td>(not set)</td>\n",
       "      <td>(not provided)</td>\n",
       "      <td>organic</td>\n",
       "      <td>NaN</td>\n",
       "      <td>google</td>\n",
       "      <td>1.472865e+09</td>\n",
       "      <td>1.0</td>\n",
       "      <td>1.472865e+09</td>\n",
       "      <td>0</td>\n",
       "    </tr>\n",
       "    <tr>\n",
       "      <th>3</th>\n",
       "      <td>Organic Search</td>\n",
       "      <td>20160902</td>\n",
       "      <td>UC Browser</td>\n",
       "      <td>desktop</td>\n",
       "      <td>0.0</td>\n",
       "      <td>Linux</td>\n",
       "      <td>4763447161404445595</td>\n",
       "      <td>not available in demo dataset</td>\n",
       "      <td>Asia</td>\n",
       "      <td>Indonesia</td>\n",
       "      <td>...</td>\n",
       "      <td>NaN</td>\n",
       "      <td>(not set)</td>\n",
       "      <td>google + online</td>\n",
       "      <td>organic</td>\n",
       "      <td>NaN</td>\n",
       "      <td>google</td>\n",
       "      <td>1.472881e+09</td>\n",
       "      <td>1.0</td>\n",
       "      <td>1.472881e+09</td>\n",
       "      <td>0</td>\n",
       "    </tr>\n",
       "    <tr>\n",
       "      <th>4</th>\n",
       "      <td>Organic Search</td>\n",
       "      <td>20160902</td>\n",
       "      <td>Chrome</td>\n",
       "      <td>mobile</td>\n",
       "      <td>1.0</td>\n",
       "      <td>Android</td>\n",
       "      <td>27294437909732085</td>\n",
       "      <td>not available in demo dataset</td>\n",
       "      <td>Europe</td>\n",
       "      <td>United Kingdom</td>\n",
       "      <td>...</td>\n",
       "      <td>NaN</td>\n",
       "      <td>(not set)</td>\n",
       "      <td>(not provided)</td>\n",
       "      <td>organic</td>\n",
       "      <td>NaN</td>\n",
       "      <td>google</td>\n",
       "      <td>1.472823e+09</td>\n",
       "      <td>2.0</td>\n",
       "      <td>1.472823e+09</td>\n",
       "      <td>0</td>\n",
       "    </tr>\n",
       "  </tbody>\n",
       "</table>\n",
       "<p>5 rows × 28 columns</p>\n",
       "</div>"
      ],
      "text/plain": [
       "  channelGrouping      date device.browser device.deviceCategory  \\\n",
       "0  Organic Search  20160902         Chrome               desktop   \n",
       "1  Organic Search  20160902        Firefox               desktop   \n",
       "2  Organic Search  20160902         Chrome               desktop   \n",
       "3  Organic Search  20160902     UC Browser               desktop   \n",
       "4  Organic Search  20160902         Chrome                mobile   \n",
       "\n",
       "   device.isMobile device.operatingSystem        fullVisitorId  \\\n",
       "0              0.0                Windows  1131660440785968503   \n",
       "1              0.0              Macintosh   377306020877927890   \n",
       "2              0.0                Windows  3895546263509774583   \n",
       "3              0.0                  Linux  4763447161404445595   \n",
       "4              1.0                Android    27294437909732085   \n",
       "\n",
       "                 geoNetwork.city geoNetwork.continent geoNetwork.country  \\\n",
       "0                          Izmir                 Asia             Turkey   \n",
       "1  not available in demo dataset              Oceania          Australia   \n",
       "2                         Madrid               Europe              Spain   \n",
       "3  not available in demo dataset                 Asia          Indonesia   \n",
       "4  not available in demo dataset               Europe     United Kingdom   \n",
       "\n",
       "         ...        trafficSource.adContent trafficSource.campaign  \\\n",
       "0        ...                            NaN              (not set)   \n",
       "1        ...                            NaN              (not set)   \n",
       "2        ...                            NaN              (not set)   \n",
       "3        ...                            NaN              (not set)   \n",
       "4        ...                            NaN              (not set)   \n",
       "\n",
       "  trafficSource.keyword trafficSource.medium trafficSource.referralPath  \\\n",
       "0        (not provided)              organic                        NaN   \n",
       "1        (not provided)              organic                        NaN   \n",
       "2        (not provided)              organic                        NaN   \n",
       "3       google + online              organic                        NaN   \n",
       "4        (not provided)              organic                        NaN   \n",
       "\n",
       "   trafficSource.source       visitId  visitNumber visitStartTime  \\\n",
       "0                google  1.472830e+09          1.0   1.472830e+09   \n",
       "1                google  1.472880e+09          1.0   1.472880e+09   \n",
       "2                google  1.472865e+09          1.0   1.472865e+09   \n",
       "3                google  1.472881e+09          1.0   1.472881e+09   \n",
       "4                google  1.472823e+09          2.0   1.472823e+09   \n",
       "\n",
       "  diff_visitId_time  \n",
       "0                 0  \n",
       "1                 0  \n",
       "2                 0  \n",
       "3                 0  \n",
       "4                 0  \n",
       "\n",
       "[5 rows x 28 columns]"
      ]
     },
     "execution_count": 32,
     "metadata": {},
     "output_type": "execute_result"
    }
   ],
   "source": [
    "df3.head()"
   ]
  },
  {
   "cell_type": "code",
   "execution_count": 33,
   "metadata": {},
   "outputs": [],
   "source": [
    "format_str = '%Y%m%d' \n",
    "df3['date'] = df3['date'].apply(lambda x: datetime.strptime(str(x), format_str))"
   ]
  },
  {
   "cell_type": "code",
   "execution_count": 34,
   "metadata": {},
   "outputs": [],
   "source": [
    "df3['date_dayofweek'] = df3['date'].dt.dayofweek\n",
    "df3['date_year'] = df3['date'].dt.year\n",
    "\n",
    "df3['date_hour'] = df3['date'].dt.hour\n",
    "\n",
    "df3['date_month'] = df3['date'].dt.month\n",
    "df3['date_day'] = df3['date'].dt.day\n",
    "\n",
    "df3['date_month'] = df3['date'].apply(lambda x:x.month)\n",
    "df3['date_quarter_month'] = df3['date'].apply(lambda x:x.day//8)\n",
    "df3['date_weekday'] = df3['date'].apply(lambda x:x.weekday())\n"
   ]
  },
  {
   "cell_type": "code",
   "execution_count": 29,
   "metadata": {},
   "outputs": [],
   "source": [
    "df3 = df3.drop('date',axis=1)"
   ]
  },
  {
   "cell_type": "markdown",
   "metadata": {},
   "source": [
    "# EDA 3"
   ]
  },
  {
   "cell_type": "code",
   "execution_count": 64,
   "metadata": {},
   "outputs": [],
   "source": [
    "df_eda_tmp_test = df3.loc[df_train.shape[0]:]"
   ]
  },
  {
   "cell_type": "code",
   "execution_count": 65,
   "metadata": {},
   "outputs": [
    {
     "data": {
      "image/png": "[encoded data removed]",
      "text/plain": [
       "<matplotlib.figure.Figure at 0x1267b7f98>"
      ]
     },
     "metadata": {},
     "output_type": "display_data"
    }
   ],
   "source": [
    "hist = df_eda_tmp_test[['date_month','totals.pageviews']].hist(bins=12)"
   ]
  },
  {
   "cell_type": "code",
   "execution_count": 66,
   "metadata": {},
   "outputs": [
    {
     "data": {
      "image/png": "[encoded data removed]",
      "text/plain": [
       "<matplotlib.figure.Figure at 0x1268f7978>"
      ]
     },
     "metadata": {},
     "output_type": "display_data"
    }
   ],
   "source": [
    "ax1 = df_eda_tmp_test.plot.scatter(x='date_month',y='totals.pageviews')"
   ]
  },
  {
   "cell_type": "code",
   "execution_count": 75,
   "metadata": {},
   "outputs": [],
   "source": [
    "df_sns_tmp = df_eda_tmp_test.groupby('date2')['totals.pageviews'].agg('sum').reset_index()"
   ]
  },
  {
   "cell_type": "code",
   "execution_count": 78,
   "metadata": {},
   "outputs": [
    {
     "data": {
      "text/html": [
       "<div>\n",
       "<style scoped>\n",
       "    .dataframe tbody tr th:only-of-type {\n",
       "        vertical-align: middle;\n",
       "    }\n",
       "\n",
       "    .dataframe tbody tr th {\n",
       "        vertical-align: top;\n",
       "    }\n",
       "\n",
       "    .dataframe thead th {\n",
       "        text-align: right;\n",
       "    }\n",
       "</style>\n",
       "<table border=\"1\" class=\"dataframe\">\n",
       "  <thead>\n",
       "    <tr style=\"text-align: right;\">\n",
       "      <th></th>\n",
       "      <th>date2</th>\n",
       "      <th>totals.pageviews</th>\n",
       "    </tr>\n",
       "  </thead>\n",
       "  <tbody>\n",
       "    <tr>\n",
       "      <th>0</th>\n",
       "      <td>2017-08-02</td>\n",
       "      <td>11631.0</td>\n",
       "    </tr>\n",
       "    <tr>\n",
       "      <th>1</th>\n",
       "      <td>2017-08-03</td>\n",
       "      <td>10996.0</td>\n",
       "    </tr>\n",
       "    <tr>\n",
       "      <th>2</th>\n",
       "      <td>2017-08-04</td>\n",
       "      <td>12487.0</td>\n",
       "    </tr>\n",
       "    <tr>\n",
       "      <th>3</th>\n",
       "      <td>2017-08-05</td>\n",
       "      <td>7065.0</td>\n",
       "    </tr>\n",
       "    <tr>\n",
       "      <th>4</th>\n",
       "      <td>2017-08-06</td>\n",
       "      <td>9243.0</td>\n",
       "    </tr>\n",
       "  </tbody>\n",
       "</table>\n",
       "</div>"
      ],
      "text/plain": [
       "        date2  totals.pageviews\n",
       "0  2017-08-02           11631.0\n",
       "1  2017-08-03           10996.0\n",
       "2  2017-08-04           12487.0\n",
       "3  2017-08-05            7065.0\n",
       "4  2017-08-06            9243.0"
      ]
     },
     "execution_count": 78,
     "metadata": {},
     "output_type": "execute_result"
    }
   ],
   "source": [
    "df_sns_tmp.head()"
   ]
  },
  {
   "cell_type": "code",
   "execution_count": 80,
   "metadata": {},
   "outputs": [
    {
     "name": "stderr",
     "output_type": "stream",
     "text": [
      "/Users/liaopeng3/anaconda3/lib/python3.6/site-packages/seaborn/timeseries.py:183: UserWarning:\n",
      "\n",
      "The tsplot function is deprecated and will be removed or replaced (in a substantially altered version) in a future release.\n",
      "\n",
      "/Users/liaopeng3/anaconda3/lib/python3.6/site-packages/scipy/stats/stats.py:1713: FutureWarning:\n",
      "\n",
      "Using a non-tuple sequence for multidimensional indexing is deprecated; use `arr[tuple(seq)]` instead of `arr[seq]`. In the future this will be interpreted as an array index, `arr[np.array(seq)]`, which will result either in an error or a different result.\n",
      "\n"
     ]
    },
    {
     "data": {
      "text/plain": [
       "<matplotlib.axes._subplots.AxesSubplot at 0x1266ecc50>"
      ]
     },
     "execution_count": 80,
     "metadata": {},
     "output_type": "execute_result"
    },
    {
     "data": {
      "image/png": "[encoded data removed]",
      "text/plain": [
       "<matplotlib.figure.Figure at 0x155ef7e48>"
      ]
     },
     "metadata": {},
     "output_type": "display_data"
    }
   ],
   "source": [
    "sns.tsplot(data = df_sns_tmp['totals.pageviews'], time = df_sns_tmp['date2'] )"
   ]
  },
  {
   "cell_type": "code",
   "execution_count": 70,
   "metadata": {},
   "outputs": [
    {
     "name": "stderr",
     "output_type": "stream",
     "text": [
      "/Users/liaopeng3/anaconda3/lib/python3.6/site-packages/ipykernel_launcher.py:1: SettingWithCopyWarning:\n",
      "\n",
      "\n",
      "A value is trying to be set on a copy of a slice from a DataFrame.\n",
      "Try using .loc[row_indexer,col_indexer] = value instead\n",
      "\n",
      "See the caveats in the documentation: http://pandas.pydata.org/pandas-docs/stable/indexing.html#indexing-view-versus-copy\n",
      "\n"
     ]
    },
    {
     "data": {
      "text/plain": [
       "[<matplotlib.lines.Line2D at 0x193879ef0>]"
      ]
     },
     "execution_count": 70,
     "metadata": {},
     "output_type": "execute_result"
    },
    {
     "data": {
      "image/png": "[encoded data removed]",
      "text/plain": [
       "<matplotlib.figure.Figure at 0x1265b9f28>"
      ]
     },
     "metadata": {},
     "output_type": "display_data"
    }
   ],
   "source": [
    "df_eda_tmp_test['date2'] = df_eda_tmp_test['date'].apply(lambda x: datetime.date(int(str(x)[:4]), int(str(x)[5:7]), int(str(x)[8:10])))\n",
    "cnt_srs = df_eda_tmp_test.groupby('date2')['totals.pageviews'].agg(['size', 'count'])\n",
    "cnt_srs.columns = [\"count\", \"count of non-zero revenue\"]\n",
    "cnt_srs = cnt_srs.sort_index()\n",
    "\n",
    "# cnt_srs = df_eda_tmp.groupby('date2')['totals.transactionRevenue'].agg(['size', 'count'])\n",
    "# data.time = pd.to_datetime(data['time'], format='%Y-%m-%d %H:%M:%S.%f')\n",
    "# df_eda_tmp.set_index(['date'],inplace=True)\n",
    "cnt_srs.plot()\n",
    "\n",
    "#OR \n",
    "plt.plot(cnt_srs.index, cnt_srs['count'])\n",
    "# plt.plot(cnt_srs.index, cnt_srs['count'])"
   ]
  },
  {
   "cell_type": "markdown",
   "metadata": {},
   "source": [
    "# EDA 2"
   ]
  },
  {
   "cell_type": "code",
   "execution_count": 35,
   "metadata": {},
   "outputs": [],
   "source": [
    "df_eda_tmp = df3.loc[0:df_train.shape[0]]"
   ]
  },
  {
   "cell_type": "code",
   "execution_count": 36,
   "metadata": {},
   "outputs": [
    {
     "name": "stderr",
     "output_type": "stream",
     "text": [
      "/Users/liaopeng3/anaconda3/lib/python3.6/site-packages/ipykernel_launcher.py:1: SettingWithCopyWarning: \n",
      "A value is trying to be set on a copy of a slice from a DataFrame.\n",
      "Try using .loc[row_indexer,col_indexer] = value instead\n",
      "\n",
      "See the caveats in the documentation: http://pandas.pydata.org/pandas-docs/stable/indexing.html#indexing-view-versus-copy\n",
      "  \"\"\"Entry point for launching an IPython kernel.\n"
     ]
    }
   ],
   "source": [
    "df_eda_tmp['rev']=train_y"
   ]
  },
  {
   "cell_type": "code",
   "execution_count": 37,
   "metadata": {},
   "outputs": [
    {
     "data": {
      "image/png": "[encoded data removed]",
      "text/plain": [
       "<matplotlib.figure.Figure at 0x14018aef0>"
      ]
     },
     "metadata": {},
     "output_type": "display_data"
    }
   ],
   "source": [
    "hist = df_eda_tmp[['date_month','rev']].hist(bins=3)"
   ]
  },
  {
   "cell_type": "code",
   "execution_count": 38,
   "metadata": {},
   "outputs": [
    {
     "data": {
      "image/png": "[encoded data removed]",
      "text/plain": [
       "<matplotlib.figure.Figure at 0x128c02c50>"
      ]
     },
     "metadata": {},
     "output_type": "display_data"
    }
   ],
   "source": [
    "ax1 = df_eda_tmp.plot.scatter(x='date_month',y='rev')"
   ]
  },
  {
   "cell_type": "code",
   "execution_count": 63,
   "metadata": {},
   "outputs": [
    {
     "data": {
      "text/plain": [
       "[<matplotlib.lines.Line2D at 0x1268cd358>]"
      ]
     },
     "execution_count": 63,
     "metadata": {},
     "output_type": "execute_result"
    },
    {
     "data": {
      "image/png": "[encoded data removed]",
      "text/plain": [
       "<matplotlib.figure.Figure at 0x13eff4c18>"
      ]
     },
     "metadata": {},
     "output_type": "display_data"
    }
   ],
   "source": [
    "df_eda_tmp['date2'] = df_eda_tmp['date'].apply(lambda x: datetime.date(int(str(x)[:4]), int(str(x)[5:7]), int(str(x)[8:10])))\n",
    "cnt_srs = df_eda_tmp.groupby('date2')['totals.transactionRevenue'].agg(['size', 'count'])\n",
    "cnt_srs.columns = [\"count\", \"count of non-zero revenue\"]\n",
    "cnt_srs = cnt_srs.sort_index()\n",
    "\n",
    "# cnt_srs = df_eda_tmp.groupby('date2')['totals.transactionRevenue'].agg(['size', 'count'])\n",
    "# data.time = pd.to_datetime(data['time'], format='%Y-%m-%d %H:%M:%S.%f')\n",
    "# df_eda_tmp.set_index(['date'],inplace=True)\n",
    "cnt_srs.plot()\n",
    "\n",
    "#OR \n",
    "plt.plot(cnt_srs.index, cnt_srs['count'])"
   ]
  },
  {
   "cell_type": "code",
   "execution_count": 71,
   "metadata": {},
   "outputs": [
    {
     "name": "stderr",
     "output_type": "stream",
     "text": [
      "/Users/liaopeng3/anaconda3/lib/python3.6/site-packages/ipykernel_launcher.py:1: SettingWithCopyWarning:\n",
      "\n",
      "\n",
      "A value is trying to be set on a copy of a slice from a DataFrame.\n",
      "Try using .loc[row_indexer,col_indexer] = value instead\n",
      "\n",
      "See the caveats in the documentation: http://pandas.pydata.org/pandas-docs/stable/indexing.html#indexing-view-versus-copy\n",
      "\n"
     ]
    },
    {
     "data": {
      "text/plain": [
       "[<matplotlib.lines.Line2D at 0x1938a1588>]"
      ]
     },
     "execution_count": 71,
     "metadata": {},
     "output_type": "execute_result"
    },
    {
     "data": {
      "image/png": "[encoded data removed]",
      "text/plain": [
       "<matplotlib.figure.Figure at 0x13f022b00>"
      ]
     },
     "metadata": {},
     "output_type": "display_data"
    }
   ],
   "source": [
    "df_eda_tmp['date2'] = df_eda_tmp['date'].apply(lambda x: datetime.date(int(str(x)[:4]), int(str(x)[5:7]), int(str(x)[8:10])))\n",
    "cnt_srs = df_eda_tmp.groupby('date2')['totals.pageviews'].agg(['size', 'count'])\n",
    "cnt_srs.columns = [\"count\", \"count of non-zero revenue\"]\n",
    "cnt_srs = cnt_srs.sort_index()\n",
    "\n",
    "# cnt_srs = df_eda_tmp.groupby('date2')['totals.transactionRevenue'].agg(['size', 'count'])\n",
    "# data.time = pd.to_datetime(data['time'], format='%Y-%m-%d %H:%M:%S.%f')\n",
    "# df_eda_tmp.set_index(['date'],inplace=True)\n",
    "cnt_srs.plot()\n",
    "\n",
    "#OR \n",
    "plt.plot(cnt_srs.index, cnt_srs['count'])"
   ]
  },
  {
   "cell_type": "markdown",
   "metadata": {},
   "source": [
    "# Visit Time"
   ]
  },
  {
   "cell_type": "code",
   "execution_count": 81,
   "metadata": {},
   "outputs": [],
   "source": [
    "df3['visitStartTime'] = df3['visitStartTime'].apply(lambda x: time.strftime('%Y-%m-%d %H:%M:%S', time.localtime(x)))\n",
    "\n",
    "# df3['visitStartTime'] = pd.to_datetime(df3['visitStartTime'],unit='s')"
   ]
  },
  {
   "cell_type": "code",
   "execution_count": 82,
   "metadata": {},
   "outputs": [],
   "source": [
    "df3['visitStartTime'] = pd.to_datetime(df3['visitStartTime'])\n",
    "\n",
    "df3['quarter_month'] = df3['visitStartTime'].apply(lambda x:x.day//8)\n",
    "\n",
    "# df3.loc[1020:1025,['visitStartTime','quarter_month']]\n",
    "\n",
    "df3['quarter_month'].value_counts()\n",
    "\n",
    "df3['day_month'] = df3['visitStartTime'].apply(lambda x:x.day)\n",
    "\n",
    "\n",
    "# df3['day_month'].value_counts()\n",
    "\n",
    "df3['WoY'] = df3['visitStartTime'].apply(lambda x: x.isocalendar()[1])\n",
    "\n",
    "# df3['WoY'].value_counts()\n",
    "\n",
    "df3['visit_dayofweek'] = df3['visitStartTime'].dt.dayofweek\n",
    "df3['visit_year'] = df3['visitStartTime'].dt.year\n",
    "\n",
    "df3['visit_month'] = df3['visitStartTime'].dt.month\n",
    "df3['visit_day'] = df3['visitStartTime'].dt.day\n",
    "df3['visit_hour'] = df3['visitStartTime'].dt.hour\n",
    "\n"
   ]
  },
  {
   "cell_type": "code",
   "execution_count": 83,
   "metadata": {},
   "outputs": [],
   "source": [
    "# df['vis_date'] = pd.to_datetime(df['visitStartTime'], unit='s')\n",
    "# df['sess_date_dow'] = df['vis_date'].dt.dayofweek\n",
    "# df['sess_date_hours'] = df['vis_date'].dt.hour\n",
    "# df['sess_date_dom'] = df['vis_date'].dt.day\n",
    "# df.sort_values(['fullVisitorId', 'vis_date'], ascending=True, inplace=True)\n",
    "df3['next_session_1'] = (df3['visitStartTime'] - df3[['fullVisitorId', 'visitStartTime']].groupby('fullVisitorId')['visitStartTime']\\\n",
    "                         .shift(1)).astype(np.int64) // 1e9 // 60 // 60\n",
    "df3['next_session_2'] = (df3['visitStartTime'] - df3[['fullVisitorId', 'visitStartTime']].groupby('fullVisitorId')['visitStartTime']\\\n",
    "                         .shift(-1)).astype(np.int64) // 1e9 // 60 // 60\n",
    "\n",
    "df3['nb_pageviews'] = df3['date'].map(\n",
    "    df3[['date', 'totals.pageviews']].groupby('date')['totals.pageviews'].sum()\n",
    ")\n",
    "\n",
    "df3['ratio_pageviews'] = df3['totals.pageviews'] / df3['nb_pageviews']"
   ]
  },
  {
   "cell_type": "code",
   "execution_count": 32,
   "metadata": {},
   "outputs": [],
   "source": [
    "df3 = df3.drop('visitStartTime',axis=1)"
   ]
  },
  {
   "cell_type": "code",
   "execution_count": 34,
   "metadata": {},
   "outputs": [],
   "source": [
    "df3.loc[df3['fullVisitorId']=='1957458976293878100'].to_csv('sample_1957458976293878100.csv',index=False)"
   ]
  },
  {
   "cell_type": "markdown",
   "metadata": {},
   "source": [
    "# Convert the Object Values to Numeric"
   ]
  },
  {
   "cell_type": "code",
   "execution_count": 21,
   "metadata": {},
   "outputs": [],
   "source": [
    "for cols in df3.columns:\n",
    "    if df3[cols].dtypes == object or df3[cols].dtypes== bool:\n",
    "#         df3[cols] = df3[cols].astype('category')\n",
    "#         df3[\"new_\"+cols] = df3[cols].cat.codes\n",
    "        df3[\"new_\"+cols] = pd.factorize( df3[cols])[0]\n",
    "        df3 = df3.drop(cols,axis=1)\n",
    "        df3 = df3.rename(columns={\"new_\"+cols:cols})"
   ]
  },
  {
   "cell_type": "markdown",
   "metadata": {},
   "source": [
    "# Clean the Data Again"
   ]
  },
  {
   "cell_type": "markdown",
   "metadata": {},
   "source": [
    "##  Drop the Constant Columns"
   ]
  },
  {
   "cell_type": "code",
   "execution_count": 29,
   "metadata": {
    "scrolled": true
   },
   "outputs": [],
   "source": [
    "cols_drop = []\n",
    "for cols in df3.columns:\n",
    "    if df3[cols].nunique()==1:\n",
    "#         print(cols)\n",
    "        cols_drop.append(cols)\n",
    "        \n",
    "df3 = df3.drop(cols_drop,axis=1)"
   ]
  },
  {
   "cell_type": "markdown",
   "metadata": {},
   "source": [
    "# Baseline Model"
   ]
  },
  {
   "cell_type": "markdown",
   "metadata": {},
   "source": [
    "# Split Feature and Label Data"
   ]
  },
  {
   "cell_type": "code",
   "execution_count": 37,
   "metadata": {},
   "outputs": [],
   "source": [
    "train_x = df3[:len_df_train]\n"
   ]
  },
  {
   "cell_type": "code",
   "execution_count": 38,
   "metadata": {},
   "outputs": [],
   "source": [
    "test_x = df3[len_df_train:]"
   ]
  },
  {
   "cell_type": "markdown",
   "metadata": {},
   "source": [
    "# Training Model"
   ]
  },
  {
   "cell_type": "code",
   "execution_count": 39,
   "metadata": {},
   "outputs": [],
   "source": [
    "\n",
    "# regr = RandomForestRegressor(max_depth=2, random_state=0,\n",
    "#                              n_estimators=100)\n",
    "\n",
    "\n",
    "# def calc_train_error(X_train, y_train, model):\n",
    "#     '''returns in-sample error for already fit model.'''\n",
    "#     predictions = model.predict(X_train)\n",
    "#     mse = mean_squared_error(y_train, predictions)\n",
    "#     rmse = np.sqrt(mse)\n",
    "#     return rmse\n",
    "\n",
    "\n",
    "\n",
    "# import numpy as np\n",
    "\n",
    "# # calc_train_error(train_x, train_y, model)"
   ]
  },
  {
   "cell_type": "code",
   "execution_count": 40,
   "metadata": {},
   "outputs": [],
   "source": [
    "param = {'num_leaves': 300,\n",
    "         'min_data_in_leaf': 30, \n",
    "         'objective':'regression',\n",
    "         'max_depth': -1,\n",
    "         'learning_rate': 0.005,\n",
    "         \"min_child_samples\": 20,\n",
    "         'boosting_type' : 'gbdt',\n",
    "         \"feature_fraction\": 0.9,\n",
    "         \"bagging_freq\": 1,\n",
    "         \"bagging_fraction\": 0.8 ,\n",
    "         \"bagging_seed\": 11,\n",
    "         \"metric\": 'rmse',\n",
    "         \"lambda_l1\": 1,\n",
    "         \"verbosity\": -1}"
   ]
  },
  {
   "cell_type": "code",
   "execution_count": 41,
   "metadata": {
    "scrolled": false
   },
   "outputs": [
    {
     "name": "stdout",
     "output_type": "stream",
     "text": [
      "Training until validation scores don't improve for 100 rounds.\n",
      "[100]\ttraining's rmse: 1.74471\tvalid_1's rmse: 1.76396\n",
      "[200]\ttraining's rmse: 1.60054\tvalid_1's rmse: 1.6673\n",
      "[300]\ttraining's rmse: 1.51325\tvalid_1's rmse: 1.62449\n",
      "[400]\ttraining's rmse: 1.45353\tvalid_1's rmse: 1.60454\n",
      "[500]\ttraining's rmse: 1.40704\tvalid_1's rmse: 1.59444\n",
      "[600]\ttraining's rmse: 1.36859\tvalid_1's rmse: 1.58911\n",
      "[700]\ttraining's rmse: 1.33562\tvalid_1's rmse: 1.586\n",
      "[800]\ttraining's rmse: 1.30596\tvalid_1's rmse: 1.58402\n",
      "[900]\ttraining's rmse: 1.28018\tvalid_1's rmse: 1.58301\n",
      "[1000]\ttraining's rmse: 1.25701\tvalid_1's rmse: 1.58263\n",
      "[1100]\ttraining's rmse: 1.23538\tvalid_1's rmse: 1.58224\n",
      "[1200]\ttraining's rmse: 1.21561\tvalid_1's rmse: 1.58202\n",
      "Early stopping, best iteration is:\n",
      "[1193]\ttraining's rmse: 1.21691\tvalid_1's rmse: 1.58198\n",
      "Training until validation scores don't improve for 100 rounds.\n",
      "[100]\ttraining's rmse: 1.7466\tvalid_1's rmse: 1.75681\n",
      "[200]\ttraining's rmse: 1.60193\tvalid_1's rmse: 1.66363\n",
      "[300]\ttraining's rmse: 1.51438\tvalid_1's rmse: 1.6235\n",
      "[400]\ttraining's rmse: 1.45408\tvalid_1's rmse: 1.60536\n",
      "[500]\ttraining's rmse: 1.4079\tvalid_1's rmse: 1.5969\n",
      "[600]\ttraining's rmse: 1.36943\tvalid_1's rmse: 1.59228\n",
      "[700]\ttraining's rmse: 1.33629\tvalid_1's rmse: 1.58945\n",
      "[800]\ttraining's rmse: 1.30669\tvalid_1's rmse: 1.58779\n",
      "[900]\ttraining's rmse: 1.28088\tvalid_1's rmse: 1.58652\n",
      "[1000]\ttraining's rmse: 1.25731\tvalid_1's rmse: 1.58559\n",
      "[1100]\ttraining's rmse: 1.23598\tvalid_1's rmse: 1.58557\n",
      "[1200]\ttraining's rmse: 1.2163\tvalid_1's rmse: 1.58557\n",
      "[1300]\ttraining's rmse: 1.1981\tvalid_1's rmse: 1.58578\n",
      "Early stopping, best iteration is:\n",
      "[1218]\ttraining's rmse: 1.21297\tvalid_1's rmse: 1.58552\n",
      "Training until validation scores don't improve for 100 rounds.\n",
      "[100]\ttraining's rmse: 1.74034\tvalid_1's rmse: 1.78778\n",
      "[200]\ttraining's rmse: 1.59732\tvalid_1's rmse: 1.68857\n",
      "[300]\ttraining's rmse: 1.51066\tvalid_1's rmse: 1.64295\n",
      "[400]\ttraining's rmse: 1.45118\tvalid_1's rmse: 1.62098\n",
      "[500]\ttraining's rmse: 1.4049\tvalid_1's rmse: 1.60983\n",
      "[600]\ttraining's rmse: 1.3666\tvalid_1's rmse: 1.60383\n",
      "[700]\ttraining's rmse: 1.33359\tvalid_1's rmse: 1.60043\n",
      "[800]\ttraining's rmse: 1.30392\tvalid_1's rmse: 1.59803\n",
      "[900]\ttraining's rmse: 1.27826\tvalid_1's rmse: 1.5964\n",
      "[1000]\ttraining's rmse: 1.25478\tvalid_1's rmse: 1.59545\n",
      "[1100]\ttraining's rmse: 1.23347\tvalid_1's rmse: 1.59494\n",
      "Early stopping, best iteration is:\n",
      "[1090]\ttraining's rmse: 1.23537\tvalid_1's rmse: 1.59487\n",
      "Training until validation scores don't improve for 100 rounds.\n",
      "[100]\ttraining's rmse: 1.732\tvalid_1's rmse: 1.82752\n",
      "[200]\ttraining's rmse: 1.59025\tvalid_1's rmse: 1.72196\n",
      "[300]\ttraining's rmse: 1.50397\tvalid_1's rmse: 1.67185\n",
      "[400]\ttraining's rmse: 1.44477\tvalid_1's rmse: 1.6469\n",
      "[500]\ttraining's rmse: 1.39895\tvalid_1's rmse: 1.63359\n",
      "[600]\ttraining's rmse: 1.36071\tvalid_1's rmse: 1.62552\n",
      "[700]\ttraining's rmse: 1.32773\tvalid_1's rmse: 1.62072\n",
      "[800]\ttraining's rmse: 1.29845\tvalid_1's rmse: 1.61778\n",
      "[900]\ttraining's rmse: 1.27264\tvalid_1's rmse: 1.61591\n",
      "[1000]\ttraining's rmse: 1.24956\tvalid_1's rmse: 1.61469\n",
      "[1100]\ttraining's rmse: 1.22852\tvalid_1's rmse: 1.61397\n",
      "[1200]\ttraining's rmse: 1.2088\tvalid_1's rmse: 1.61351\n",
      "[1300]\ttraining's rmse: 1.1909\tvalid_1's rmse: 1.61366\n",
      "Early stopping, best iteration is:\n",
      "[1237]\ttraining's rmse: 1.20205\tvalid_1's rmse: 1.61349\n",
      "Training until validation scores don't improve for 100 rounds.\n",
      "[100]\ttraining's rmse: 1.74209\tvalid_1's rmse: 1.78447\n",
      "[200]\ttraining's rmse: 1.59974\tvalid_1's rmse: 1.68304\n",
      "[300]\ttraining's rmse: 1.51358\tvalid_1's rmse: 1.63512\n",
      "[400]\ttraining's rmse: 1.45411\tvalid_1's rmse: 1.6113\n",
      "[500]\ttraining's rmse: 1.40825\tvalid_1's rmse: 1.59891\n",
      "[600]\ttraining's rmse: 1.36986\tvalid_1's rmse: 1.59124\n",
      "[700]\ttraining's rmse: 1.33677\tvalid_1's rmse: 1.58662\n",
      "[800]\ttraining's rmse: 1.30722\tvalid_1's rmse: 1.58355\n",
      "[900]\ttraining's rmse: 1.28113\tvalid_1's rmse: 1.58162\n",
      "[1000]\ttraining's rmse: 1.25777\tvalid_1's rmse: 1.5807\n",
      "[1100]\ttraining's rmse: 1.23651\tvalid_1's rmse: 1.58041\n",
      "[1200]\ttraining's rmse: 1.21683\tvalid_1's rmse: 1.5803\n",
      "Early stopping, best iteration is:\n",
      "[1168]\ttraining's rmse: 1.22299\tvalid_1's rmse: 1.58015\n"
     ]
    }
   ],
   "source": [
    "folds = KFold(n_splits=5, shuffle=True, random_state=15)\n",
    "oof = np.zeros(len(train_x))\n",
    "predictions = np.zeros(len(test_x))\n",
    "start = time.time()\n",
    "features = list(train_x.columns)\n",
    "feature_importance_df = pd.DataFrame()\n",
    "\n",
    "for fold_, (trn_idx, val_idx) in enumerate(folds.split(train_x.values, train_y.values)):\n",
    "    trn_data = lgb.Dataset(train_x.iloc[trn_idx].values, label=train_y.iloc[trn_idx].values)\n",
    "    val_data = lgb.Dataset(train_x.iloc[val_idx].values, label=train_y.iloc[val_idx].values)\n",
    "    \n",
    "    num_round = 10000\n",
    "    clf = lgb.train(param, trn_data, num_round, valid_sets = [trn_data, val_data], verbose_eval=100, early_stopping_rounds = 100)\n",
    "    oof[val_idx] = clf.predict(train_x.iloc[val_idx].values, num_iteration=clf.best_iteration)\n",
    "    \n",
    "    fold_importance_df = pd.DataFrame()\n",
    "    fold_importance_df[\"feature\"] = features\n",
    "    fold_importance_df[\"importance\"] = clf.feature_importance()\n",
    "    fold_importance_df[\"fold\"] = fold_ + 1\n",
    "    feature_importance_df = pd.concat([feature_importance_df, fold_importance_df], axis=0)\n",
    "    \n",
    "    predictions += clf.predict(test_x.values, num_iteration=clf.best_iteration) / folds.n_splits"
   ]
  },
  {
   "cell_type": "code",
   "execution_count": 42,
   "metadata": {
    "scrolled": true
   },
   "outputs": [
    {
     "name": "stdout",
     "output_type": "stream",
     "text": [
      "CV score: 1.59125 \n"
     ]
    }
   ],
   "source": [
    "print(\"CV score: {:<8.5f}\".format(mean_squared_error(oof, train_y)**0.5))"
   ]
  },
  {
   "cell_type": "code",
   "execution_count": 43,
   "metadata": {},
   "outputs": [],
   "source": [
    "# GBDT: CV score: 1.61400, \n",
    "# RF: CV score: 1.64722, \n",
    "# DART: CV score: 1.63164 "
   ]
  },
  {
   "cell_type": "code",
   "execution_count": 44,
   "metadata": {},
   "outputs": [
    {
     "name": "stderr",
     "output_type": "stream",
     "text": [
      "/Users/liaopeng3/anaconda3/lib/python3.6/site-packages/scipy/stats/stats.py:1713: FutureWarning: Using a non-tuple sequence for multidimensional indexing is deprecated; use `arr[tuple(seq)]` instead of `arr[seq]`. In the future this will be interpreted as an array index, `arr[np.array(seq)]`, which will result either in an error or a different result.\n",
      "  return np.add.reduce(sorted[indexer] * weights, axis=axis) / sumval\n"
     ]
    },
    {
     "data": {
      "image/png": "[encoded data removed]",
      "text/plain": [
       "<matplotlib.figure.Figure at 0x12010c940>"
      ]
     },
     "metadata": {},
     "output_type": "display_data"
    }
   ],
   "source": [
    "cols = feature_importance_df[[\"feature\", \"importance\"]].groupby(\"feature\").mean().sort_values(\n",
    "    by=\"importance\", ascending=False)[:1000].index\n",
    "\n",
    "best_features = feature_importance_df.loc[feature_importance_df.feature.isin(cols)]\n",
    "\n",
    "plt.figure(figsize=(14,10))\n",
    "sns.barplot(x=\"importance\", y=\"feature\", data=best_features.sort_values(by=\"importance\", ascending=False))\n",
    "plt.title('LightGBM Features (avg over folds)')\n",
    "plt.tight_layout()\n",
    "plt.savefig('lgbm_importances.png')"
   ]
  },
  {
   "cell_type": "code",
   "execution_count": 45,
   "metadata": {},
   "outputs": [],
   "source": [
    "submission = df_test_raw[['fullVisitorId']].copy()\n",
    "\n",
    "submission.loc[:, 'PredictedLogRevenue'] = predictions\n",
    "submission.loc[:, 'PredictedLogRevenue'] = np.expm1(predictions)\n",
    "grouped_test = submission[['fullVisitorId', 'PredictedLogRevenue']].groupby('fullVisitorId').sum().reset_index()\n",
    "grouped_test[\"PredictedLogRevenue\"] = np.log1p(grouped_test[\"PredictedLogRevenue\"])\n",
    "grouped_test[\"PredictedLogRevenue\"] =  grouped_test[\"PredictedLogRevenue\"].apply(lambda x : 0.0 if x < 0 else x)\n",
    "grouped_test['fullVisitorId']=grouped_test['fullVisitorId'].astype('str')\n",
    "grouped_test.to_csv('mySubmit1018_gbdt.csv',index=False)"
   ]
  },
  {
   "cell_type": "code",
   "execution_count": null,
   "metadata": {},
   "outputs": [],
   "source": []
  }
 ],
 "metadata": {
  "kernelspec": {
   "display_name": "Python 3",
   "language": "python",
   "name": "python3"
  },
  "language_info": {
   "codemirror_mode": {
    "name": "ipython",
    "version": 3
   },
   "file_extension": ".py",
   "mimetype": "text/x-python",
   "name": "python",
   "nbconvert_exporter": "python",
   "pygments_lexer": "ipython3",
   "version": "3.6.4"
  }
 },
 "nbformat": 4,
 "nbformat_minor": 2
}
