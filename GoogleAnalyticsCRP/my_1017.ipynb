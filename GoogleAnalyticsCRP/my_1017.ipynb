{
 "cells": [
  {
   "cell_type": "code",
   "execution_count": 1,
   "metadata": {},
   "outputs": [
    {
     "name": "stderr",
     "output_type": "stream",
     "text": [
      "/Users/liaopeng3/anaconda3/lib/python3.6/site-packages/sklearn/ensemble/weight_boosting.py:29: DeprecationWarning: numpy.core.umath_tests is an internal NumPy module and should not be imported. It will be removed in a future NumPy release.\n",
      "  from numpy.core.umath_tests import inner1d\n"
     ]
    }
   ],
   "source": [
    "import pandas as pd\n",
    "import json\n",
    "import matplotlib.pyplot as plt\n",
    "import seaborn as sns\n",
    "from pandas.io.json import json_normalize\n",
    "import lightgbm as lgb\n",
    "from sklearn.model_selection import KFold\n",
    "import time\n",
    "from datetime import datetime\n",
    "import numpy as np\n",
    "from sklearn.ensemble import RandomForestRegressor\n",
    "from sklearn.datasets import make_regression\n",
    "from sklearn.metrics import mean_squared_error"
   ]
  },
  {
   "cell_type": "code",
   "execution_count": 2,
   "metadata": {},
   "outputs": [],
   "source": [
    "col_select = ['device','geoNetwork','totals','trafficSource']"
   ]
  },
  {
   "cell_type": "markdown",
   "metadata": {},
   "source": [
    "# Read The Training Data"
   ]
  },
  {
   "cell_type": "code",
   "execution_count": 3,
   "metadata": {},
   "outputs": [],
   "source": [
    "df_raw = pd.read_csv('/Users/liaopeng3/logs/google_analytics_all/train.csv',\\\n",
    "                  converters={cols:json.loads for cols in col_select},dtype={'fullVisitorId': 'str'},header=0)"
   ]
  },
  {
   "cell_type": "code",
   "execution_count": 4,
   "metadata": {},
   "outputs": [],
   "source": [
    "for cols in col_select:\n",
    "    column_as_df = json_normalize(df_raw[cols])\n",
    "    column_as_df.columns = [f\"{cols}.{subcolumn}\" for subcolumn in column_as_df.columns]\n",
    "    df_raw = df_raw.drop(cols,axis=1)\n",
    "    df_raw = df_raw.merge(column_as_df,left_index=True,right_index=True)"
   ]
  },
  {
   "cell_type": "markdown",
   "metadata": {},
   "source": [
    "# Read the Test Data"
   ]
  },
  {
   "cell_type": "code",
   "execution_count": 5,
   "metadata": {},
   "outputs": [],
   "source": [
    "df_train = df_raw.copy()"
   ]
  },
  {
   "cell_type": "code",
   "execution_count": 6,
   "metadata": {},
   "outputs": [],
   "source": [
    "df_test_raw = pd.read_csv('/Users/liaopeng3/logs/google_analytics_all/test.csv',\\\n",
    "                  converters={cols:json.loads for cols in col_select},dtype={'fullVisitorId': 'str'},header=0)"
   ]
  },
  {
   "cell_type": "code",
   "execution_count": 7,
   "metadata": {},
   "outputs": [],
   "source": [
    "col_select_test = ['device','geoNetwork','totals','trafficSource']"
   ]
  },
  {
   "cell_type": "code",
   "execution_count": 8,
   "metadata": {},
   "outputs": [
    {
     "data": {
      "text/html": [
       "<div>\n",
       "<style scoped>\n",
       "    .dataframe tbody tr th:only-of-type {\n",
       "        vertical-align: middle;\n",
       "    }\n",
       "\n",
       "    .dataframe tbody tr th {\n",
       "        vertical-align: top;\n",
       "    }\n",
       "\n",
       "    .dataframe thead th {\n",
       "        text-align: right;\n",
       "    }\n",
       "</style>\n",
       "<table border=\"1\" class=\"dataframe\">\n",
       "  <thead>\n",
       "    <tr style=\"text-align: right;\">\n",
       "      <th></th>\n",
       "      <th>channelGrouping</th>\n",
       "      <th>date</th>\n",
       "      <th>device</th>\n",
       "      <th>fullVisitorId</th>\n",
       "      <th>geoNetwork</th>\n",
       "      <th>sessionId</th>\n",
       "      <th>socialEngagementType</th>\n",
       "      <th>totals</th>\n",
       "      <th>trafficSource</th>\n",
       "      <th>visitId</th>\n",
       "      <th>visitNumber</th>\n",
       "      <th>visitStartTime</th>\n",
       "    </tr>\n",
       "  </thead>\n",
       "  <tbody>\n",
       "    <tr>\n",
       "      <th>0</th>\n",
       "      <td>Organic Search</td>\n",
       "      <td>20171016</td>\n",
       "      <td>{'browser': 'Chrome', 'browserVersion': 'not a...</td>\n",
       "      <td>6167871330617112363</td>\n",
       "      <td>{'continent': 'Asia', 'subContinent': 'Southea...</td>\n",
       "      <td>6167871330617112363_1508151024</td>\n",
       "      <td>Not Socially Engaged</td>\n",
       "      <td>{'visits': '1', 'hits': '4', 'pageviews': '4'}</td>\n",
       "      <td>{'campaign': '(not set)', 'source': 'google', ...</td>\n",
       "      <td>1508151024</td>\n",
       "      <td>2</td>\n",
       "      <td>1508151024</td>\n",
       "    </tr>\n",
       "    <tr>\n",
       "      <th>1</th>\n",
       "      <td>Organic Search</td>\n",
       "      <td>20171016</td>\n",
       "      <td>{'browser': 'Chrome', 'browserVersion': 'not a...</td>\n",
       "      <td>0643697640977915618</td>\n",
       "      <td>{'continent': 'Europe', 'subContinent': 'South...</td>\n",
       "      <td>0643697640977915618_1508175522</td>\n",
       "      <td>Not Socially Engaged</td>\n",
       "      <td>{'visits': '1', 'hits': '5', 'pageviews': '5',...</td>\n",
       "      <td>{'campaign': '(not set)', 'source': 'google', ...</td>\n",
       "      <td>1508175522</td>\n",
       "      <td>1</td>\n",
       "      <td>1508175522</td>\n",
       "    </tr>\n",
       "    <tr>\n",
       "      <th>2</th>\n",
       "      <td>Organic Search</td>\n",
       "      <td>20171016</td>\n",
       "      <td>{'browser': 'Chrome', 'browserVersion': 'not a...</td>\n",
       "      <td>6059383810968229466</td>\n",
       "      <td>{'continent': 'Europe', 'subContinent': 'Weste...</td>\n",
       "      <td>6059383810968229466_1508143220</td>\n",
       "      <td>Not Socially Engaged</td>\n",
       "      <td>{'visits': '1', 'hits': '7', 'pageviews': '7',...</td>\n",
       "      <td>{'campaign': '(not set)', 'source': 'google', ...</td>\n",
       "      <td>1508143220</td>\n",
       "      <td>1</td>\n",
       "      <td>1508143220</td>\n",
       "    </tr>\n",
       "    <tr>\n",
       "      <th>3</th>\n",
       "      <td>Organic Search</td>\n",
       "      <td>20171016</td>\n",
       "      <td>{'browser': 'Safari', 'browserVersion': 'not a...</td>\n",
       "      <td>2376720078563423631</td>\n",
       "      <td>{'continent': 'Americas', 'subContinent': 'Nor...</td>\n",
       "      <td>2376720078563423631_1508193530</td>\n",
       "      <td>Not Socially Engaged</td>\n",
       "      <td>{'visits': '1', 'hits': '8', 'pageviews': '4',...</td>\n",
       "      <td>{'campaign': '(not set)', 'source': 'google', ...</td>\n",
       "      <td>1508193530</td>\n",
       "      <td>1</td>\n",
       "      <td>1508193530</td>\n",
       "    </tr>\n",
       "    <tr>\n",
       "      <th>4</th>\n",
       "      <td>Organic Search</td>\n",
       "      <td>20171016</td>\n",
       "      <td>{'browser': 'Safari', 'browserVersion': 'not a...</td>\n",
       "      <td>2314544520795440038</td>\n",
       "      <td>{'continent': 'Americas', 'subContinent': 'Nor...</td>\n",
       "      <td>2314544520795440038_1508217442</td>\n",
       "      <td>Not Socially Engaged</td>\n",
       "      <td>{'visits': '1', 'hits': '9', 'pageviews': '4',...</td>\n",
       "      <td>{'campaign': '(not set)', 'source': 'google', ...</td>\n",
       "      <td>1508217442</td>\n",
       "      <td>1</td>\n",
       "      <td>1508217442</td>\n",
       "    </tr>\n",
       "  </tbody>\n",
       "</table>\n",
       "</div>"
      ],
      "text/plain": [
       "  channelGrouping      date  \\\n",
       "0  Organic Search  20171016   \n",
       "1  Organic Search  20171016   \n",
       "2  Organic Search  20171016   \n",
       "3  Organic Search  20171016   \n",
       "4  Organic Search  20171016   \n",
       "\n",
       "                                              device        fullVisitorId  \\\n",
       "0  {'browser': 'Chrome', 'browserVersion': 'not a...  6167871330617112363   \n",
       "1  {'browser': 'Chrome', 'browserVersion': 'not a...  0643697640977915618   \n",
       "2  {'browser': 'Chrome', 'browserVersion': 'not a...  6059383810968229466   \n",
       "3  {'browser': 'Safari', 'browserVersion': 'not a...  2376720078563423631   \n",
       "4  {'browser': 'Safari', 'browserVersion': 'not a...  2314544520795440038   \n",
       "\n",
       "                                          geoNetwork  \\\n",
       "0  {'continent': 'Asia', 'subContinent': 'Southea...   \n",
       "1  {'continent': 'Europe', 'subContinent': 'South...   \n",
       "2  {'continent': 'Europe', 'subContinent': 'Weste...   \n",
       "3  {'continent': 'Americas', 'subContinent': 'Nor...   \n",
       "4  {'continent': 'Americas', 'subContinent': 'Nor...   \n",
       "\n",
       "                        sessionId  socialEngagementType  \\\n",
       "0  6167871330617112363_1508151024  Not Socially Engaged   \n",
       "1  0643697640977915618_1508175522  Not Socially Engaged   \n",
       "2  6059383810968229466_1508143220  Not Socially Engaged   \n",
       "3  2376720078563423631_1508193530  Not Socially Engaged   \n",
       "4  2314544520795440038_1508217442  Not Socially Engaged   \n",
       "\n",
       "                                              totals  \\\n",
       "0     {'visits': '1', 'hits': '4', 'pageviews': '4'}   \n",
       "1  {'visits': '1', 'hits': '5', 'pageviews': '5',...   \n",
       "2  {'visits': '1', 'hits': '7', 'pageviews': '7',...   \n",
       "3  {'visits': '1', 'hits': '8', 'pageviews': '4',...   \n",
       "4  {'visits': '1', 'hits': '9', 'pageviews': '4',...   \n",
       "\n",
       "                                       trafficSource     visitId  visitNumber  \\\n",
       "0  {'campaign': '(not set)', 'source': 'google', ...  1508151024            2   \n",
       "1  {'campaign': '(not set)', 'source': 'google', ...  1508175522            1   \n",
       "2  {'campaign': '(not set)', 'source': 'google', ...  1508143220            1   \n",
       "3  {'campaign': '(not set)', 'source': 'google', ...  1508193530            1   \n",
       "4  {'campaign': '(not set)', 'source': 'google', ...  1508217442            1   \n",
       "\n",
       "   visitStartTime  \n",
       "0      1508151024  \n",
       "1      1508175522  \n",
       "2      1508143220  \n",
       "3      1508193530  \n",
       "4      1508217442  "
      ]
     },
     "execution_count": 8,
     "metadata": {},
     "output_type": "execute_result"
    }
   ],
   "source": [
    "df_test_raw.head()"
   ]
  },
  {
   "cell_type": "code",
   "execution_count": 9,
   "metadata": {},
   "outputs": [],
   "source": [
    "for cols in col_select:\n",
    "    column_as_df = json_normalize(df_test_raw[cols])\n",
    "    column_as_df.columns = [f\"{cols}.{subcolumn}\" for subcolumn in column_as_df.columns]\n",
    "    df_test_raw = df_test_raw.drop(cols,axis=1)\n",
    "    df_test_raw = df_test_raw.merge(column_as_df,left_index=True,right_index=True)"
   ]
  },
  {
   "cell_type": "markdown",
   "metadata": {},
   "source": [
    "# Concatenate the Training and Test Dat"
   ]
  },
  {
   "cell_type": "code",
   "execution_count": 10,
   "metadata": {},
   "outputs": [
    {
     "data": {
      "text/plain": [
       "Index(['totals.transactionRevenue', 'trafficSource.campaignCode'], dtype='object')"
      ]
     },
     "execution_count": 10,
     "metadata": {},
     "output_type": "execute_result"
    }
   ],
   "source": [
    "df_train.columns.difference(df_test_raw.columns)"
   ]
  },
  {
   "cell_type": "code",
   "execution_count": 11,
   "metadata": {},
   "outputs": [
    {
     "data": {
      "text/plain": [
       "Index([], dtype='object')"
      ]
     },
     "execution_count": 11,
     "metadata": {},
     "output_type": "execute_result"
    }
   ],
   "source": [
    "df_test_raw.columns.difference(df_train.columns)"
   ]
  },
  {
   "cell_type": "code",
   "execution_count": 12,
   "metadata": {},
   "outputs": [],
   "source": [
    "df3 = pd.concat([df_train.drop(['totals.transactionRevenue', 'trafficSource.campaignCode'],axis=1),df_test_raw],ignore_index=True) "
   ]
  },
  {
   "cell_type": "code",
   "execution_count": 13,
   "metadata": {},
   "outputs": [
    {
     "data": {
      "text/plain": [
       "(903653, 55)"
      ]
     },
     "execution_count": 13,
     "metadata": {},
     "output_type": "execute_result"
    }
   ],
   "source": [
    "df_train.shape"
   ]
  },
  {
   "cell_type": "code",
   "execution_count": 14,
   "metadata": {},
   "outputs": [],
   "source": [
    "len_df_train = df_train.shape[0]"
   ]
  },
  {
   "cell_type": "markdown",
   "metadata": {},
   "source": [
    "# Split Feature and Label Data"
   ]
  },
  {
   "cell_type": "code",
   "execution_count": 15,
   "metadata": {},
   "outputs": [],
   "source": [
    "train_y = df_train['totals.transactionRevenue'].fillna(0).astype(float).apply(lambda x: np.log1p(x))"
   ]
  },
  {
   "cell_type": "markdown",
   "metadata": {},
   "source": [
    "# Add Visit Time"
   ]
  },
  {
   "cell_type": "code",
   "execution_count": 16,
   "metadata": {},
   "outputs": [],
   "source": [
    "df3['diff_visitId_time'] = df3['visitId'] - df3['visitStartTime']\n",
    "df3['diff_visitId_time'] = (df3['diff_visitId_time'] != 0).astype(int)"
   ]
  },
  {
   "cell_type": "markdown",
   "metadata": {},
   "source": [
    "# Format the Numerous Variables"
   ]
  },
  {
   "cell_type": "code",
   "execution_count": 17,
   "metadata": {},
   "outputs": [],
   "source": [
    "list_v = ['totals.hits','totals.pageviews','trafficSource.adwordsClickInfo.page']"
   ]
  },
  {
   "cell_type": "code",
   "execution_count": 18,
   "metadata": {},
   "outputs": [],
   "source": [
    "for cols in list_v:\n",
    "    df3[cols]=df3[cols].astype(float)"
   ]
  },
  {
   "cell_type": "markdown",
   "metadata": {},
   "source": [
    "##  Drop the Constant Columns"
   ]
  },
  {
   "cell_type": "code",
   "execution_count": 19,
   "metadata": {
    "scrolled": true
   },
   "outputs": [],
   "source": [
    "cols_drop = []\n",
    "for cols in df3.columns:\n",
    "    if df3[cols].nunique()==1:\n",
    "#         print(cols)\n",
    "        cols_drop.append(cols)\n",
    "        \n",
    "df3 = df3.drop(cols_drop,axis=1)"
   ]
  },
  {
   "cell_type": "markdown",
   "metadata": {},
   "source": [
    "# Convert the Object Values to Numeric"
   ]
  },
  {
   "cell_type": "code",
   "execution_count": 20,
   "metadata": {},
   "outputs": [],
   "source": [
    "for cols in df3.columns:\n",
    "    if df3[cols].dtypes == object or df3[cols].dtypes== bool:\n",
    "#         df3[cols] = df3[cols].astype('category')\n",
    "#         df3[\"new_\"+cols] = df3[cols].cat.codes\n",
    "        df3[\"new_\"+cols] = pd.factorize( df3[cols])[0]\n",
    "        df3 = df3.drop(cols,axis=1)\n",
    "        df3 = df3.rename(columns={\"new_\"+cols:cols})"
   ]
  },
  {
   "cell_type": "markdown",
   "metadata": {},
   "source": [
    "# Convert Date to Numeric Variables"
   ]
  },
  {
   "cell_type": "code",
   "execution_count": 21,
   "metadata": {},
   "outputs": [],
   "source": [
    "format_str = '%Y%m%d' \n",
    "df3['date'] = df3['date'].apply(lambda x: datetime.strptime(str(x), format_str))\n"
   ]
  },
  {
   "cell_type": "code",
   "execution_count": 22,
   "metadata": {},
   "outputs": [],
   "source": [
    "df3['date_dayofweek'] = df3['date'].dt.dayofweek\n",
    "df3['date_year'] = df3['date'].dt.year\n",
    "\n",
    "df3['date_hour'] = df3['date'].dt.hour\n",
    "\n",
    "df3['date_month'] = df3['date'].dt.month\n",
    "df3['date_day'] = df3['date'].dt.day\n",
    "\n",
    "df3['date_month'] = df3['date'].apply(lambda x:x.month)\n",
    "df3['date_quarter_month'] = df3['date'].apply(lambda x:x.day//8)\n",
    "df3['date_weekday'] = df3['date'].apply(lambda x:x.weekday())\n"
   ]
  },
  {
   "cell_type": "code",
   "execution_count": 23,
   "metadata": {},
   "outputs": [],
   "source": [
    "df3 = df3.drop('date',axis=1)"
   ]
  },
  {
   "cell_type": "markdown",
   "metadata": {},
   "source": [
    "# Visit Time"
   ]
  },
  {
   "cell_type": "code",
   "execution_count": 24,
   "metadata": {},
   "outputs": [],
   "source": [
    "df3['visitStartTime'] = df3['visitStartTime'].apply(lambda x: time.strftime('%Y-%m-%d %H:%M:%S', time.localtime(x)))\n",
    "\n",
    "# df3['visitStartTime'] = pd.to_datetime(df3['visitStartTime'],unit='s')"
   ]
  },
  {
   "cell_type": "code",
   "execution_count": 25,
   "metadata": {},
   "outputs": [],
   "source": [
    "df3['visitStartTime'] = pd.to_datetime(df3['visitStartTime'])\n",
    "\n",
    "df3['quarter_month'] = df3['visitStartTime'].apply(lambda x:x.day//8)\n",
    "\n",
    "# df3.loc[1020:1025,['visitStartTime','quarter_month']]\n",
    "\n",
    "df3['quarter_month'].value_counts()\n",
    "\n",
    "df3['day_month'] = df3['visitStartTime'].apply(lambda x:x.day)\n",
    "\n",
    "\n",
    "# df3['day_month'].value_counts()\n",
    "\n",
    "df3['WoY'] = df3['visitStartTime'].apply(lambda x: x.isocalendar()[1])\n",
    "\n",
    "# df3['WoY'].value_counts()\n",
    "\n",
    "df3['visit_dayofweek'] = df3['visitStartTime'].dt.dayofweek\n",
    "df3['visit_year'] = df3['visitStartTime'].dt.year\n",
    "\n",
    "df3['visit_month'] = df3['visitStartTime'].dt.month\n",
    "df3['visit_day'] = df3['visitStartTime'].dt.day\n",
    "df3['visit_hour'] = df3['visitStartTime'].dt.hour\n",
    "\n",
    "df3 = df3.drop('visitStartTime',axis=1)"
   ]
  },
  {
   "cell_type": "markdown",
   "metadata": {},
   "source": [
    "# Clean the Data Again"
   ]
  },
  {
   "cell_type": "markdown",
   "metadata": {},
   "source": [
    "##  Drop the Constant Columns"
   ]
  },
  {
   "cell_type": "code",
   "execution_count": 26,
   "metadata": {
    "scrolled": true
   },
   "outputs": [
    {
     "name": "stdout",
     "output_type": "stream",
     "text": [
      "date_hour\n"
     ]
    }
   ],
   "source": [
    "cols_drop = []\n",
    "for cols in df3.columns:\n",
    "    if df3[cols].nunique()==1:\n",
    "#         print(cols)\n",
    "        cols_drop.append(cols)\n",
    "        \n",
    "df3 = df3.drop(cols_drop,axis=1)"
   ]
  },
  {
   "cell_type": "markdown",
   "metadata": {},
   "source": [
    "# Baseline Model"
   ]
  },
  {
   "cell_type": "markdown",
   "metadata": {},
   "source": [
    "# Split Feature and Label Data"
   ]
  },
  {
   "cell_type": "code",
   "execution_count": 27,
   "metadata": {},
   "outputs": [],
   "source": [
    "train_x = df3[:len_df_train]\n"
   ]
  },
  {
   "cell_type": "code",
   "execution_count": 28,
   "metadata": {},
   "outputs": [],
   "source": [
    "test_x = df3[len_df_train:]"
   ]
  },
  {
   "cell_type": "markdown",
   "metadata": {},
   "source": [
    "# Training Model"
   ]
  },
  {
   "cell_type": "code",
   "execution_count": 29,
   "metadata": {},
   "outputs": [],
   "source": [
    "\n",
    "# regr = RandomForestRegressor(max_depth=2, random_state=0,\n",
    "#                              n_estimators=100)\n",
    "\n",
    "\n",
    "# def calc_train_error(X_train, y_train, model):\n",
    "#     '''returns in-sample error for already fit model.'''\n",
    "#     predictions = model.predict(X_train)\n",
    "#     mse = mean_squared_error(y_train, predictions)\n",
    "#     rmse = np.sqrt(mse)\n",
    "#     return rmse\n",
    "\n",
    "\n",
    "\n",
    "# import numpy as np\n",
    "\n",
    "# # calc_train_error(train_x, train_y, model)"
   ]
  },
  {
   "cell_type": "code",
   "execution_count": 38,
   "metadata": {},
   "outputs": [],
   "source": [
    "param = {'num_leaves': 300,\n",
    "         'min_data_in_leaf': 30, \n",
    "         'objective':'regression',\n",
    "         'max_depth': -1,\n",
    "         'learning_rate': 0.005,\n",
    "         \"min_child_samples\": 20,\n",
    "         'boosting_type' : 'gbdt', \n",
    "         \"feature_fraction\": 0.9,\n",
    "         \"bagging_freq\": 1,\n",
    "         \"bagging_fraction\": 0.8 ,\n",
    "         \"bagging_seed\": 11,\n",
    "         \"metric\": 'rmse',\n",
    "         \"lambda_l1\": 1,\n",
    "         \"verbosity\": -1}"
   ]
  },
  {
   "cell_type": "code",
   "execution_count": 39,
   "metadata": {},
   "outputs": [
    {
     "name": "stdout",
     "output_type": "stream",
     "text": [
      "Training until validation scores don't improve for 100 rounds.\n",
      "[100]\ttraining's rmse: 1.75516\tvalid_1's rmse: 1.77103\n",
      "[200]\ttraining's rmse: 1.6192\tvalid_1's rmse: 1.67848\n",
      "[300]\ttraining's rmse: 1.53811\tvalid_1's rmse: 1.63823\n",
      "[400]\ttraining's rmse: 1.48339\tvalid_1's rmse: 1.62054\n",
      "[500]\ttraining's rmse: 1.44158\tvalid_1's rmse: 1.61197\n",
      "[600]\ttraining's rmse: 1.40637\tvalid_1's rmse: 1.60759\n",
      "[700]\ttraining's rmse: 1.37613\tvalid_1's rmse: 1.6055\n",
      "[800]\ttraining's rmse: 1.34919\tvalid_1's rmse: 1.60398\n",
      "[900]\ttraining's rmse: 1.32526\tvalid_1's rmse: 1.60349\n",
      "[1000]\ttraining's rmse: 1.30308\tvalid_1's rmse: 1.60346\n",
      "[1100]\ttraining's rmse: 1.28306\tvalid_1's rmse: 1.6035\n",
      "Early stopping, best iteration is:\n",
      "[1035]\ttraining's rmse: 1.29598\tvalid_1's rmse: 1.60334\n",
      "Training until validation scores don't improve for 100 rounds.\n",
      "[100]\ttraining's rmse: 1.75618\tvalid_1's rmse: 1.76368\n",
      "[200]\ttraining's rmse: 1.61943\tvalid_1's rmse: 1.67473\n",
      "[300]\ttraining's rmse: 1.53824\tvalid_1's rmse: 1.63782\n",
      "[400]\ttraining's rmse: 1.48318\tvalid_1's rmse: 1.62265\n",
      "[500]\ttraining's rmse: 1.44087\tvalid_1's rmse: 1.61579\n",
      "[600]\ttraining's rmse: 1.40595\tvalid_1's rmse: 1.6127\n",
      "[700]\ttraining's rmse: 1.37532\tvalid_1's rmse: 1.61068\n",
      "[800]\ttraining's rmse: 1.34837\tvalid_1's rmse: 1.61\n",
      "[900]\ttraining's rmse: 1.32431\tvalid_1's rmse: 1.60959\n",
      "[1000]\ttraining's rmse: 1.30241\tvalid_1's rmse: 1.60941\n",
      "Early stopping, best iteration is:\n",
      "[972]\ttraining's rmse: 1.30847\tvalid_1's rmse: 1.60935\n",
      "Training until validation scores don't improve for 100 rounds.\n",
      "[100]\ttraining's rmse: 1.75054\tvalid_1's rmse: 1.7946\n",
      "[200]\ttraining's rmse: 1.61537\tvalid_1's rmse: 1.69884\n",
      "[300]\ttraining's rmse: 1.53515\tvalid_1's rmse: 1.65599\n",
      "[400]\ttraining's rmse: 1.48066\tvalid_1's rmse: 1.63625\n",
      "[500]\ttraining's rmse: 1.43879\tvalid_1's rmse: 1.62713\n",
      "[600]\ttraining's rmse: 1.40398\tvalid_1's rmse: 1.62251\n",
      "[700]\ttraining's rmse: 1.3734\tvalid_1's rmse: 1.61982\n",
      "[800]\ttraining's rmse: 1.34619\tvalid_1's rmse: 1.61826\n",
      "[900]\ttraining's rmse: 1.32206\tvalid_1's rmse: 1.61746\n",
      "[1000]\ttraining's rmse: 1.29965\tvalid_1's rmse: 1.61701\n",
      "[1100]\ttraining's rmse: 1.27974\tvalid_1's rmse: 1.6167\n",
      "[1200]\ttraining's rmse: 1.26084\tvalid_1's rmse: 1.61688\n",
      "Early stopping, best iteration is:\n",
      "[1123]\ttraining's rmse: 1.27517\tvalid_1's rmse: 1.61657\n",
      "Training until validation scores don't improve for 100 rounds.\n",
      "[100]\ttraining's rmse: 1.74223\tvalid_1's rmse: 1.8334\n",
      "[200]\ttraining's rmse: 1.60908\tvalid_1's rmse: 1.73215\n",
      "[300]\ttraining's rmse: 1.52928\tvalid_1's rmse: 1.6848\n",
      "[400]\ttraining's rmse: 1.47537\tvalid_1's rmse: 1.66182\n",
      "[500]\ttraining's rmse: 1.43353\tvalid_1's rmse: 1.65004\n",
      "[600]\ttraining's rmse: 1.39868\tvalid_1's rmse: 1.64376\n",
      "[700]\ttraining's rmse: 1.36821\tvalid_1's rmse: 1.63974\n",
      "[800]\ttraining's rmse: 1.3415\tvalid_1's rmse: 1.63773\n",
      "[900]\ttraining's rmse: 1.31744\tvalid_1's rmse: 1.63644\n",
      "[1000]\ttraining's rmse: 1.29551\tvalid_1's rmse: 1.63575\n",
      "[1100]\ttraining's rmse: 1.27556\tvalid_1's rmse: 1.63556\n",
      "Early stopping, best iteration is:\n",
      "[1070]\ttraining's rmse: 1.28144\tvalid_1's rmse: 1.63546\n",
      "Training until validation scores don't improve for 100 rounds.\n",
      "[100]\ttraining's rmse: 1.7517\tvalid_1's rmse: 1.79171\n",
      "[200]\ttraining's rmse: 1.61717\tvalid_1's rmse: 1.6951\n",
      "[300]\ttraining's rmse: 1.53717\tvalid_1's rmse: 1.6505\n",
      "[400]\ttraining's rmse: 1.4827\tvalid_1's rmse: 1.62925\n",
      "[500]\ttraining's rmse: 1.44095\tvalid_1's rmse: 1.61852\n",
      "[600]\ttraining's rmse: 1.40591\tvalid_1's rmse: 1.61238\n",
      "[700]\ttraining's rmse: 1.37543\tvalid_1's rmse: 1.60873\n",
      "[800]\ttraining's rmse: 1.34831\tvalid_1's rmse: 1.6069\n",
      "[900]\ttraining's rmse: 1.32412\tvalid_1's rmse: 1.6057\n",
      "[1000]\ttraining's rmse: 1.30197\tvalid_1's rmse: 1.60531\n",
      "[1100]\ttraining's rmse: 1.28178\tvalid_1's rmse: 1.60529\n",
      "Early stopping, best iteration is:\n",
      "[1045]\ttraining's rmse: 1.29267\tvalid_1's rmse: 1.60508\n"
     ]
    }
   ],
   "source": [
    "folds = KFold(n_splits=5, shuffle=True, random_state=15)\n",
    "oof = np.zeros(len(train_x))\n",
    "predictions = np.zeros(len(test_x))\n",
    "start = time.time()\n",
    "features = list(train_x.columns)\n",
    "feature_importance_df = pd.DataFrame()\n",
    "\n",
    "for fold_, (trn_idx, val_idx) in enumerate(folds.split(train_x.values, train_y.values)):\n",
    "    trn_data = lgb.Dataset(train_x.iloc[trn_idx].values, label=train_y.iloc[trn_idx].values)\n",
    "    val_data = lgb.Dataset(train_x.iloc[val_idx].values, label=train_y.iloc[val_idx].values)\n",
    "    \n",
    "    num_round = 10000\n",
    "    clf = lgb.train(param, trn_data, num_round, valid_sets = [trn_data, val_data], verbose_eval=100, early_stopping_rounds = 100)\n",
    "    oof[val_idx] = clf.predict(train_x.iloc[val_idx].values, num_iteration=clf.best_iteration)\n",
    "    \n",
    "    fold_importance_df = pd.DataFrame()\n",
    "    fold_importance_df[\"feature\"] = features\n",
    "    fold_importance_df[\"importance\"] = clf.feature_importance()\n",
    "    fold_importance_df[\"fold\"] = fold_ + 1\n",
    "    feature_importance_df = pd.concat([feature_importance_df, fold_importance_df], axis=0)\n",
    "    \n",
    "    predictions += clf.predict(test_x.values, num_iteration=clf.best_iteration) / folds.n_splits"
   ]
  },
  {
   "cell_type": "code",
   "execution_count": 40,
   "metadata": {},
   "outputs": [
    {
     "name": "stdout",
     "output_type": "stream",
     "text": [
      "CV score: 1.61400 \n"
     ]
    }
   ],
   "source": [
    "print(\"CV score: {:<8.5f}\".format(mean_squared_error(oof, train_y)**0.5))"
   ]
  },
  {
   "cell_type": "code",
   "execution_count": 41,
   "metadata": {},
   "outputs": [
    {
     "name": "stderr",
     "output_type": "stream",
     "text": [
      "/Users/liaopeng3/anaconda3/lib/python3.6/site-packages/scipy/stats/stats.py:1713: FutureWarning: Using a non-tuple sequence for multidimensional indexing is deprecated; use `arr[tuple(seq)]` instead of `arr[seq]`. In the future this will be interpreted as an array index, `arr[np.array(seq)]`, which will result either in an error or a different result.\n",
      "  return np.add.reduce(sorted[indexer] * weights, axis=axis) / sumval\n"
     ]
    },
    {
     "data": {
      "image/png": "[encoded data removed]",
      "text/plain": [
       "<matplotlib.figure.Figure at 0x262f1cbe0>"
      ]
     },
     "metadata": {},
     "output_type": "display_data"
    }
   ],
   "source": [
    "cols = feature_importance_df[[\"feature\", \"importance\"]].groupby(\"feature\").mean().sort_values(\n",
    "    by=\"importance\", ascending=False)[:1000].index\n",
    "\n",
    "best_features = feature_importance_df.loc[feature_importance_df.feature.isin(cols)]\n",
    "\n",
    "plt.figure(figsize=(14,10))\n",
    "sns.barplot(x=\"importance\", y=\"feature\", data=best_features.sort_values(by=\"importance\", ascending=False))\n",
    "plt.title('LightGBM Features (avg over folds)')\n",
    "plt.tight_layout()\n",
    "plt.savefig('lgbm_importances.png')"
   ]
  },
  {
   "cell_type": "code",
   "execution_count": 42,
   "metadata": {},
   "outputs": [],
   "source": [
    "submission = df_test_raw[['fullVisitorId']].copy()\n",
    "\n",
    "submission.loc[:, 'PredictedLogRevenue'] = predictions\n",
    "submission.loc[:, 'PredictedLogRevenue'] = np.expm1(predictions)\n",
    "grouped_test = submission[['fullVisitorId', 'PredictedLogRevenue']].groupby('fullVisitorId').sum().reset_index()\n",
    "grouped_test[\"PredictedLogRevenue\"] = np.log1p(grouped_test[\"PredictedLogRevenue\"])\n",
    "grouped_test[\"PredictedLogRevenue\"] =  grouped_test[\"PredictedLogRevenue\"].apply(lambda x : 0.0 if x < 0 else x)\n",
    "grouped_test['fullVisitorId']=grouped_test['fullVisitorId'].astype('str')\n",
    "grouped_test.to_csv('mySubmit1017.csv',index=False)"
   ]
  },
  {
   "cell_type": "code",
   "execution_count": null,
   "metadata": {},
   "outputs": [],
   "source": []
  }
 ],
 "metadata": {
  "kernelspec": {
   "display_name": "Python 3",
   "language": "python",
   "name": "python3"
  },
  "language_info": {
   "codemirror_mode": {
    "name": "ipython",
    "version": 3
   },
   "file_extension": ".py",
   "mimetype": "text/x-python",
   "name": "python",
   "nbconvert_exporter": "python",
   "pygments_lexer": "ipython3",
   "version": "3.6.4"
  }
 },
 "nbformat": 4,
 "nbformat_minor": 2
}
